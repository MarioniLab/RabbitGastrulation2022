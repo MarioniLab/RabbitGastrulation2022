{
 "cells": [
  {
   "cell_type": "markdown",
   "metadata": {},
   "source": [
    "# Index hopping correction\n",
    "\n",
    "<b> Mai-Linh Ton </b>"
   ]
  },
  {
   "cell_type": "code",
   "execution_count": 1,
   "metadata": {},
   "outputs": [],
   "source": [
    "# Load packages\n",
    "suppressPackageStartupMessages(library(DropletUtils))\n",
    "suppressPackageStartupMessages(library(ggplot2))\n",
    "suppressPackageStartupMessages(library(cowplot))\n",
    "suppressPackageStartupMessages(library(Matrix))"
   ]
  },
  {
   "cell_type": "code",
   "execution_count": 2,
   "metadata": {},
   "outputs": [
    {
     "data": {
      "text/html": [
       "<style>\n",
       ".list-inline {list-style: none; margin:0; padding: 0}\n",
       ".list-inline>li {display: inline-block}\n",
       ".list-inline>li:not(:last-child)::after {content: \"\\00b7\"; padding: 0 .5ex}\n",
       "</style>\n",
       "<ol class=list-inline><li>'/rds/project/bg200/rds-bg200-hphi-gottgens/users/mlnt2/PhD_MT04_rabbit/align_edited/SLX18995_rabbit_SIGAA9/'</li><li>'/rds/project/bg200/rds-bg200-hphi-gottgens/users/mlnt2/PhD_MT04_rabbit/align_edited/SLX18995_rabbit_SIGAB9/'</li><li>'/rds/project/bg200/rds-bg200-hphi-gottgens/users/mlnt2/PhD_MT04_rabbit/align_edited/SLX18995_rabbit_SIGAC9/'</li><li>'/rds/project/bg200/rds-bg200-hphi-gottgens/users/mlnt2/PhD_MT04_rabbit/align_edited/SLX18995_rabbit_SIGAD9/'</li><li>'/rds/project/bg200/rds-bg200-hphi-gottgens/users/mlnt2/PhD_MT04_rabbit/align_edited/SLX18995_rabbit_SIGAE9/'</li><li>'/rds/project/bg200/rds-bg200-hphi-gottgens/users/mlnt2/PhD_MT04_rabbit/align_edited/SLX18995_rabbit_SIGAF9/'</li><li>'/rds/project/bg200/rds-bg200-hphi-gottgens/users/mlnt2/PhD_MT04_rabbit/align_edited/SLX18995_rabbit_SIGAA11/'</li><li>'/rds/project/bg200/rds-bg200-hphi-gottgens/users/mlnt2/PhD_MT04_rabbit/align_edited/SLX18995_rabbit_SIGAB11/'</li><li>'/rds/project/bg200/rds-bg200-hphi-gottgens/users/mlnt2/PhD_MT04_rabbit/align_edited/SLX18995_rabbit_SIGAC11/'</li><li>'/rds/project/bg200/rds-bg200-hphi-gottgens/users/mlnt2/PhD_MT04_rabbit/align_edited/SLX18995_rabbit_SIGAD11/'</li><li>'/rds/project/bg200/rds-bg200-hphi-gottgens/users/mlnt2/PhD_MT04_rabbit/align_edited/SLX18995_rabbit_SIGAE11/'</li><li>'/rds/project/bg200/rds-bg200-hphi-gottgens/users/mlnt2/PhD_MT04_rabbit/align_edited/SLX18995_rabbit_SIGAA12/'</li><li>'/rds/project/bg200/rds-bg200-hphi-gottgens/users/mlnt2/PhD_MT04_rabbit/align_edited/SLX18995_rabbit_SIGAB12/'</li><li>'/rds/project/bg200/rds-bg200-hphi-gottgens/users/mlnt2/PhD_MT04_rabbit/align_edited/SLX18995_rabbit_SIGAC12/'</li><li>'/rds/project/bg200/rds-bg200-hphi-gottgens/users/mlnt2/PhD_MT04_rabbit/align_edited/SLX18995_rabbit_SIGAD12/'</li><li>'/rds/project/bg200/rds-bg200-hphi-gottgens/users/mlnt2/PhD_MT04_rabbit/align_edited/SLX18995_rabbit_SIGAE12/'</li><li>'/rds/project/bg200/rds-bg200-hphi-gottgens/users/mlnt2/PhD_MT04_rabbit/align_edited/SLX18995_rabbit_SIGAF12/'</li><li>'/rds/project/bg200/rds-bg200-hphi-gottgens/users/mlnt2/PhD_MT04_rabbit/align_edited/SLX18995_rabbit_SIGAG12/'</li><li>'/rds/project/bg200/rds-bg200-hphi-gottgens/users/mlnt2/PhD_MT04_rabbit/align_edited/SLX18995_rabbit_SIGAH12/'</li><li>'/rds/project/bg200/rds-bg200-hphi-gottgens/users/mlnt2/PhD_MT04_rabbit/align_edited/SLX18995_rabbit_SIGAE8/'</li><li>'/rds/project/bg200/rds-bg200-hphi-gottgens/users/mlnt2/PhD_MT04_rabbit/align_edited/SLX18995_rabbit_SIGAF8/'</li><li>'/rds/project/bg200/rds-bg200-hphi-gottgens/users/mlnt2/PhD_MT04_rabbit/align_edited/SLX18995_rabbit_SIGAG8/'</li><li>'/rds/project/bg200/rds-bg200-hphi-gottgens/users/mlnt2/PhD_MT04_rabbit/align_edited/SLX18995_rabbit_SIGAH8/'</li><li>'/rds/project/bg200/rds-bg200-hphi-gottgens/users/mlnt2/PhD_MT04_rabbit/align_edited/SLX18995_rabbit_SIGAF11/'</li><li>'/rds/project/bg200/rds-bg200-hphi-gottgens/users/mlnt2/PhD_MT04_rabbit/align_edited/SLX18995_rabbit_SIGAG11/'</li><li>'/rds/project/bg200/rds-bg200-hphi-gottgens/users/mlnt2/PhD_MT04_rabbit/align_edited/SLX18995_rabbit_SIGAH11/'</li></ol>\n"
      ],
      "text/latex": [
       "\\begin{enumerate*}\n",
       "\\item '/rds/project/bg200/rds-bg200-hphi-gottgens/users/mlnt2/PhD\\_MT04\\_rabbit/align\\_edited/SLX18995\\_rabbit\\_SIGAA9/'\n",
       "\\item '/rds/project/bg200/rds-bg200-hphi-gottgens/users/mlnt2/PhD\\_MT04\\_rabbit/align\\_edited/SLX18995\\_rabbit\\_SIGAB9/'\n",
       "\\item '/rds/project/bg200/rds-bg200-hphi-gottgens/users/mlnt2/PhD\\_MT04\\_rabbit/align\\_edited/SLX18995\\_rabbit\\_SIGAC9/'\n",
       "\\item '/rds/project/bg200/rds-bg200-hphi-gottgens/users/mlnt2/PhD\\_MT04\\_rabbit/align\\_edited/SLX18995\\_rabbit\\_SIGAD9/'\n",
       "\\item '/rds/project/bg200/rds-bg200-hphi-gottgens/users/mlnt2/PhD\\_MT04\\_rabbit/align\\_edited/SLX18995\\_rabbit\\_SIGAE9/'\n",
       "\\item '/rds/project/bg200/rds-bg200-hphi-gottgens/users/mlnt2/PhD\\_MT04\\_rabbit/align\\_edited/SLX18995\\_rabbit\\_SIGAF9/'\n",
       "\\item '/rds/project/bg200/rds-bg200-hphi-gottgens/users/mlnt2/PhD\\_MT04\\_rabbit/align\\_edited/SLX18995\\_rabbit\\_SIGAA11/'\n",
       "\\item '/rds/project/bg200/rds-bg200-hphi-gottgens/users/mlnt2/PhD\\_MT04\\_rabbit/align\\_edited/SLX18995\\_rabbit\\_SIGAB11/'\n",
       "\\item '/rds/project/bg200/rds-bg200-hphi-gottgens/users/mlnt2/PhD\\_MT04\\_rabbit/align\\_edited/SLX18995\\_rabbit\\_SIGAC11/'\n",
       "\\item '/rds/project/bg200/rds-bg200-hphi-gottgens/users/mlnt2/PhD\\_MT04\\_rabbit/align\\_edited/SLX18995\\_rabbit\\_SIGAD11/'\n",
       "\\item '/rds/project/bg200/rds-bg200-hphi-gottgens/users/mlnt2/PhD\\_MT04\\_rabbit/align\\_edited/SLX18995\\_rabbit\\_SIGAE11/'\n",
       "\\item '/rds/project/bg200/rds-bg200-hphi-gottgens/users/mlnt2/PhD\\_MT04\\_rabbit/align\\_edited/SLX18995\\_rabbit\\_SIGAA12/'\n",
       "\\item '/rds/project/bg200/rds-bg200-hphi-gottgens/users/mlnt2/PhD\\_MT04\\_rabbit/align\\_edited/SLX18995\\_rabbit\\_SIGAB12/'\n",
       "\\item '/rds/project/bg200/rds-bg200-hphi-gottgens/users/mlnt2/PhD\\_MT04\\_rabbit/align\\_edited/SLX18995\\_rabbit\\_SIGAC12/'\n",
       "\\item '/rds/project/bg200/rds-bg200-hphi-gottgens/users/mlnt2/PhD\\_MT04\\_rabbit/align\\_edited/SLX18995\\_rabbit\\_SIGAD12/'\n",
       "\\item '/rds/project/bg200/rds-bg200-hphi-gottgens/users/mlnt2/PhD\\_MT04\\_rabbit/align\\_edited/SLX18995\\_rabbit\\_SIGAE12/'\n",
       "\\item '/rds/project/bg200/rds-bg200-hphi-gottgens/users/mlnt2/PhD\\_MT04\\_rabbit/align\\_edited/SLX18995\\_rabbit\\_SIGAF12/'\n",
       "\\item '/rds/project/bg200/rds-bg200-hphi-gottgens/users/mlnt2/PhD\\_MT04\\_rabbit/align\\_edited/SLX18995\\_rabbit\\_SIGAG12/'\n",
       "\\item '/rds/project/bg200/rds-bg200-hphi-gottgens/users/mlnt2/PhD\\_MT04\\_rabbit/align\\_edited/SLX18995\\_rabbit\\_SIGAH12/'\n",
       "\\item '/rds/project/bg200/rds-bg200-hphi-gottgens/users/mlnt2/PhD\\_MT04\\_rabbit/align\\_edited/SLX18995\\_rabbit\\_SIGAE8/'\n",
       "\\item '/rds/project/bg200/rds-bg200-hphi-gottgens/users/mlnt2/PhD\\_MT04\\_rabbit/align\\_edited/SLX18995\\_rabbit\\_SIGAF8/'\n",
       "\\item '/rds/project/bg200/rds-bg200-hphi-gottgens/users/mlnt2/PhD\\_MT04\\_rabbit/align\\_edited/SLX18995\\_rabbit\\_SIGAG8/'\n",
       "\\item '/rds/project/bg200/rds-bg200-hphi-gottgens/users/mlnt2/PhD\\_MT04\\_rabbit/align\\_edited/SLX18995\\_rabbit\\_SIGAH8/'\n",
       "\\item '/rds/project/bg200/rds-bg200-hphi-gottgens/users/mlnt2/PhD\\_MT04\\_rabbit/align\\_edited/SLX18995\\_rabbit\\_SIGAF11/'\n",
       "\\item '/rds/project/bg200/rds-bg200-hphi-gottgens/users/mlnt2/PhD\\_MT04\\_rabbit/align\\_edited/SLX18995\\_rabbit\\_SIGAG11/'\n",
       "\\item '/rds/project/bg200/rds-bg200-hphi-gottgens/users/mlnt2/PhD\\_MT04\\_rabbit/align\\_edited/SLX18995\\_rabbit\\_SIGAH11/'\n",
       "\\end{enumerate*}\n"
      ],
      "text/markdown": [
       "1. '/rds/project/bg200/rds-bg200-hphi-gottgens/users/mlnt2/PhD_MT04_rabbit/align_edited/SLX18995_rabbit_SIGAA9/'\n",
       "2. '/rds/project/bg200/rds-bg200-hphi-gottgens/users/mlnt2/PhD_MT04_rabbit/align_edited/SLX18995_rabbit_SIGAB9/'\n",
       "3. '/rds/project/bg200/rds-bg200-hphi-gottgens/users/mlnt2/PhD_MT04_rabbit/align_edited/SLX18995_rabbit_SIGAC9/'\n",
       "4. '/rds/project/bg200/rds-bg200-hphi-gottgens/users/mlnt2/PhD_MT04_rabbit/align_edited/SLX18995_rabbit_SIGAD9/'\n",
       "5. '/rds/project/bg200/rds-bg200-hphi-gottgens/users/mlnt2/PhD_MT04_rabbit/align_edited/SLX18995_rabbit_SIGAE9/'\n",
       "6. '/rds/project/bg200/rds-bg200-hphi-gottgens/users/mlnt2/PhD_MT04_rabbit/align_edited/SLX18995_rabbit_SIGAF9/'\n",
       "7. '/rds/project/bg200/rds-bg200-hphi-gottgens/users/mlnt2/PhD_MT04_rabbit/align_edited/SLX18995_rabbit_SIGAA11/'\n",
       "8. '/rds/project/bg200/rds-bg200-hphi-gottgens/users/mlnt2/PhD_MT04_rabbit/align_edited/SLX18995_rabbit_SIGAB11/'\n",
       "9. '/rds/project/bg200/rds-bg200-hphi-gottgens/users/mlnt2/PhD_MT04_rabbit/align_edited/SLX18995_rabbit_SIGAC11/'\n",
       "10. '/rds/project/bg200/rds-bg200-hphi-gottgens/users/mlnt2/PhD_MT04_rabbit/align_edited/SLX18995_rabbit_SIGAD11/'\n",
       "11. '/rds/project/bg200/rds-bg200-hphi-gottgens/users/mlnt2/PhD_MT04_rabbit/align_edited/SLX18995_rabbit_SIGAE11/'\n",
       "12. '/rds/project/bg200/rds-bg200-hphi-gottgens/users/mlnt2/PhD_MT04_rabbit/align_edited/SLX18995_rabbit_SIGAA12/'\n",
       "13. '/rds/project/bg200/rds-bg200-hphi-gottgens/users/mlnt2/PhD_MT04_rabbit/align_edited/SLX18995_rabbit_SIGAB12/'\n",
       "14. '/rds/project/bg200/rds-bg200-hphi-gottgens/users/mlnt2/PhD_MT04_rabbit/align_edited/SLX18995_rabbit_SIGAC12/'\n",
       "15. '/rds/project/bg200/rds-bg200-hphi-gottgens/users/mlnt2/PhD_MT04_rabbit/align_edited/SLX18995_rabbit_SIGAD12/'\n",
       "16. '/rds/project/bg200/rds-bg200-hphi-gottgens/users/mlnt2/PhD_MT04_rabbit/align_edited/SLX18995_rabbit_SIGAE12/'\n",
       "17. '/rds/project/bg200/rds-bg200-hphi-gottgens/users/mlnt2/PhD_MT04_rabbit/align_edited/SLX18995_rabbit_SIGAF12/'\n",
       "18. '/rds/project/bg200/rds-bg200-hphi-gottgens/users/mlnt2/PhD_MT04_rabbit/align_edited/SLX18995_rabbit_SIGAG12/'\n",
       "19. '/rds/project/bg200/rds-bg200-hphi-gottgens/users/mlnt2/PhD_MT04_rabbit/align_edited/SLX18995_rabbit_SIGAH12/'\n",
       "20. '/rds/project/bg200/rds-bg200-hphi-gottgens/users/mlnt2/PhD_MT04_rabbit/align_edited/SLX18995_rabbit_SIGAE8/'\n",
       "21. '/rds/project/bg200/rds-bg200-hphi-gottgens/users/mlnt2/PhD_MT04_rabbit/align_edited/SLX18995_rabbit_SIGAF8/'\n",
       "22. '/rds/project/bg200/rds-bg200-hphi-gottgens/users/mlnt2/PhD_MT04_rabbit/align_edited/SLX18995_rabbit_SIGAG8/'\n",
       "23. '/rds/project/bg200/rds-bg200-hphi-gottgens/users/mlnt2/PhD_MT04_rabbit/align_edited/SLX18995_rabbit_SIGAH8/'\n",
       "24. '/rds/project/bg200/rds-bg200-hphi-gottgens/users/mlnt2/PhD_MT04_rabbit/align_edited/SLX18995_rabbit_SIGAF11/'\n",
       "25. '/rds/project/bg200/rds-bg200-hphi-gottgens/users/mlnt2/PhD_MT04_rabbit/align_edited/SLX18995_rabbit_SIGAG11/'\n",
       "26. '/rds/project/bg200/rds-bg200-hphi-gottgens/users/mlnt2/PhD_MT04_rabbit/align_edited/SLX18995_rabbit_SIGAH11/'\n",
       "\n",
       "\n"
      ],
      "text/plain": [
       " [1] \"/rds/project/bg200/rds-bg200-hphi-gottgens/users/mlnt2/PhD_MT04_rabbit/align_edited/SLX18995_rabbit_SIGAA9/\" \n",
       " [2] \"/rds/project/bg200/rds-bg200-hphi-gottgens/users/mlnt2/PhD_MT04_rabbit/align_edited/SLX18995_rabbit_SIGAB9/\" \n",
       " [3] \"/rds/project/bg200/rds-bg200-hphi-gottgens/users/mlnt2/PhD_MT04_rabbit/align_edited/SLX18995_rabbit_SIGAC9/\" \n",
       " [4] \"/rds/project/bg200/rds-bg200-hphi-gottgens/users/mlnt2/PhD_MT04_rabbit/align_edited/SLX18995_rabbit_SIGAD9/\" \n",
       " [5] \"/rds/project/bg200/rds-bg200-hphi-gottgens/users/mlnt2/PhD_MT04_rabbit/align_edited/SLX18995_rabbit_SIGAE9/\" \n",
       " [6] \"/rds/project/bg200/rds-bg200-hphi-gottgens/users/mlnt2/PhD_MT04_rabbit/align_edited/SLX18995_rabbit_SIGAF9/\" \n",
       " [7] \"/rds/project/bg200/rds-bg200-hphi-gottgens/users/mlnt2/PhD_MT04_rabbit/align_edited/SLX18995_rabbit_SIGAA11/\"\n",
       " [8] \"/rds/project/bg200/rds-bg200-hphi-gottgens/users/mlnt2/PhD_MT04_rabbit/align_edited/SLX18995_rabbit_SIGAB11/\"\n",
       " [9] \"/rds/project/bg200/rds-bg200-hphi-gottgens/users/mlnt2/PhD_MT04_rabbit/align_edited/SLX18995_rabbit_SIGAC11/\"\n",
       "[10] \"/rds/project/bg200/rds-bg200-hphi-gottgens/users/mlnt2/PhD_MT04_rabbit/align_edited/SLX18995_rabbit_SIGAD11/\"\n",
       "[11] \"/rds/project/bg200/rds-bg200-hphi-gottgens/users/mlnt2/PhD_MT04_rabbit/align_edited/SLX18995_rabbit_SIGAE11/\"\n",
       "[12] \"/rds/project/bg200/rds-bg200-hphi-gottgens/users/mlnt2/PhD_MT04_rabbit/align_edited/SLX18995_rabbit_SIGAA12/\"\n",
       "[13] \"/rds/project/bg200/rds-bg200-hphi-gottgens/users/mlnt2/PhD_MT04_rabbit/align_edited/SLX18995_rabbit_SIGAB12/\"\n",
       "[14] \"/rds/project/bg200/rds-bg200-hphi-gottgens/users/mlnt2/PhD_MT04_rabbit/align_edited/SLX18995_rabbit_SIGAC12/\"\n",
       "[15] \"/rds/project/bg200/rds-bg200-hphi-gottgens/users/mlnt2/PhD_MT04_rabbit/align_edited/SLX18995_rabbit_SIGAD12/\"\n",
       "[16] \"/rds/project/bg200/rds-bg200-hphi-gottgens/users/mlnt2/PhD_MT04_rabbit/align_edited/SLX18995_rabbit_SIGAE12/\"\n",
       "[17] \"/rds/project/bg200/rds-bg200-hphi-gottgens/users/mlnt2/PhD_MT04_rabbit/align_edited/SLX18995_rabbit_SIGAF12/\"\n",
       "[18] \"/rds/project/bg200/rds-bg200-hphi-gottgens/users/mlnt2/PhD_MT04_rabbit/align_edited/SLX18995_rabbit_SIGAG12/\"\n",
       "[19] \"/rds/project/bg200/rds-bg200-hphi-gottgens/users/mlnt2/PhD_MT04_rabbit/align_edited/SLX18995_rabbit_SIGAH12/\"\n",
       "[20] \"/rds/project/bg200/rds-bg200-hphi-gottgens/users/mlnt2/PhD_MT04_rabbit/align_edited/SLX18995_rabbit_SIGAE8/\" \n",
       "[21] \"/rds/project/bg200/rds-bg200-hphi-gottgens/users/mlnt2/PhD_MT04_rabbit/align_edited/SLX18995_rabbit_SIGAF8/\" \n",
       "[22] \"/rds/project/bg200/rds-bg200-hphi-gottgens/users/mlnt2/PhD_MT04_rabbit/align_edited/SLX18995_rabbit_SIGAG8/\" \n",
       "[23] \"/rds/project/bg200/rds-bg200-hphi-gottgens/users/mlnt2/PhD_MT04_rabbit/align_edited/SLX18995_rabbit_SIGAH8/\" \n",
       "[24] \"/rds/project/bg200/rds-bg200-hphi-gottgens/users/mlnt2/PhD_MT04_rabbit/align_edited/SLX18995_rabbit_SIGAF11/\"\n",
       "[25] \"/rds/project/bg200/rds-bg200-hphi-gottgens/users/mlnt2/PhD_MT04_rabbit/align_edited/SLX18995_rabbit_SIGAG11/\"\n",
       "[26] \"/rds/project/bg200/rds-bg200-hphi-gottgens/users/mlnt2/PhD_MT04_rabbit/align_edited/SLX18995_rabbit_SIGAH11/\""
      ]
     },
     "metadata": {},
     "output_type": "display_data"
    }
   ],
   "source": [
    "##===Write list of directories to all molecule_info.h5 files from cellranger output===##\n",
    "#== SAMPLES: 1:6 => GD7 | 7:11 => GD8 | 12:26 GD9  ==#\n",
    "\n",
    "# set directories (GD7,8,9)\n",
    "\n",
    "#GD7\n",
    "wd= paste0(\"/rds/project/bg200/rds-bg200-hphi-gottgens/users/mlnt2/PhD_MT04_rabbit/align_edited/SLX18995_rabbit_SIGA\",LETTERS[1:6],\"9/\")\n",
    "\n",
    "#GD8\n",
    "wd[7:11] = paste0(\"/rds/project/bg200/rds-bg200-hphi-gottgens/users/mlnt2/PhD_MT04_rabbit/align_edited/SLX18995_rabbit_SIGA\",LETTERS[1:5],\"11/\")\n",
    "\n",
    "#GD9\n",
    "wd[12:19] = paste0(\"/rds/project/bg200/rds-bg200-hphi-gottgens/users/mlnt2/PhD_MT04_rabbit/align_edited/SLX18995_rabbit_SIGA\",LETTERS[1:8],\"12/\")\n",
    "wd[20:23] = paste0(\"/rds/project/bg200/rds-bg200-hphi-gottgens/users/mlnt2/PhD_MT04_rabbit/align_edited/SLX18995_rabbit_SIGA\",LETTERS[c(5:8)],\"8/\")\n",
    "wd[24:26] = paste0(\"/rds/project/bg200/rds-bg200-hphi-gottgens/users/mlnt2/PhD_MT04_rabbit/align_edited/SLX18995_rabbit_SIGA\",LETTERS[6:8],\"11/\")\n",
    "\n",
    "wd\n",
    "\n",
    "#check paths as these need to correspond to the actual paths to the molecule_info.h5 files"
   ]
  },
  {
   "cell_type": "code",
   "execution_count": 7,
   "metadata": {},
   "outputs": [],
   "source": [
    "#List of directories to each molecule_h5 file\n",
    "molecule_h5 = paste0(wd, \"outs/molecule_info.h5\")\n",
    "\n",
    "\n",
    "##===Write the output directories===##\n",
    "dirout = (\"/rds/project/bg200/rds-bg200-hphi-gottgens/users/mlnt2/PhD_MT06/\")\n",
    "\n",
    "out_loc=paste0(dirout, \"swapped/sample\", 1:26, \"/matrix.mtx\")\n",
    "bc_loc=paste0(dirout, \"swapped/sample\", 1:26, \"/barcodes.tsv\")\n",
    "gene_loc=paste0(dirout, \"swapped/sample\", 1:26, \"/genes.tsv\")"
   ]
  },
  {
   "cell_type": "code",
   "execution_count": 8,
   "metadata": {},
   "outputs": [
    {
     "name": "stderr",
     "output_type": "stream",
     "text": [
      "Warning message in h5checktypeOrOpenLoc(file, readonly = TRUE, native = native):\n",
      "“An open HDF5 file handle exists. If the file has changed on disk meanwhile, the function may not work properly. Run 'h5closeAll()' to close all open HDF5 object handles.”\n",
      "Warning message in h5checktypeOrOpenLoc(file, readonly = TRUE, native = native):\n",
      "“An open HDF5 file handle exists. If the file has changed on disk meanwhile, the function may not work properly. Run 'h5closeAll()' to close all open HDF5 object handles.”\n",
      "Warning message in h5checktypeOrOpenLoc(file, readonly = TRUE, native = native):\n",
      "“An open HDF5 file handle exists. If the file has changed on disk meanwhile, the function may not work properly. Run 'h5closeAll()' to close all open HDF5 object handles.”\n",
      "Warning message in h5checktypeOrOpenLoc(file, readonly = TRUE, native = native):\n",
      "“An open HDF5 file handle exists. If the file has changed on disk meanwhile, the function may not work properly. Run 'h5closeAll()' to close all open HDF5 object handles.”\n",
      "Warning message in h5checktypeOrOpenLoc(file, readonly = TRUE, native = native):\n",
      "“An open HDF5 file handle exists. If the file has changed on disk meanwhile, the function may not work properly. Run 'h5closeAll()' to close all open HDF5 object handles.”\n",
      "Warning message in h5checktypeOrOpenLoc(file, readonly = TRUE, native = native):\n",
      "“An open HDF5 file handle exists. If the file has changed on disk meanwhile, the function may not work properly. Run 'h5closeAll()' to close all open HDF5 object handles.”\n",
      "Warning message in h5checktypeOrOpenLoc(file, readonly = TRUE, native = native):\n",
      "“An open HDF5 file handle exists. If the file has changed on disk meanwhile, the function may not work properly. Run 'h5closeAll()' to close all open HDF5 object handles.”\n",
      "Warning message in h5checktypeOrOpenLoc(file, readonly = TRUE, native = native):\n",
      "“An open HDF5 file handle exists. If the file has changed on disk meanwhile, the function may not work properly. Run 'h5closeAll()' to close all open HDF5 object handles.”\n"
     ]
    }
   ],
   "source": [
    "##===For each batch, run swapped drops separately in order to correct each batch===##\n",
    "unswapped = swappedDrops(molecule_h5[1:26], get.swapped = TRUE)\n",
    "\n",
    "##==Calculate fract. swapped barcodes. Illumina's patterned flow cell technology => higher swap rates\n",
    "ratios = sapply(1:length(unswapped$cleaned), function(i){\n",
    "  sum(unswapped$swapped[[i]])/(sum(unswapped$cleaned[[i]]) + sum(unswapped$swapped[[i]]))\n",
    "})\n",
    "\n",
    "names(ratios) = 1:length(molecule_h5)"
   ]
  },
  {
   "cell_type": "code",
   "execution_count": 9,
   "metadata": {},
   "outputs": [
    {
     "data": {
      "image/png": "[encoded data removed]",
      "text/plain": [
       "plot without title"
      ]
     },
     "metadata": {
      "image/png": {
       "height": 420,
       "width": 420
      }
     },
     "output_type": "display_data"
    }
   ],
   "source": [
    "##===Output Final Visualization to see Fraction of Swapped Barcodes (AKA: % Index Hopping)===##\n",
    "\n",
    "ggplot(data.frame(ratios = ratios, sample = 1:26), aes(x = sample, y = ratios)) + geom_bar(stat = \"identity\", fill = \"grey20\") + labs(x = \"Sample\", y = \"Fraction of molecules excluded\")"
   ]
  },
  {
   "cell_type": "code",
   "execution_count": 10,
   "metadata": {},
   "outputs": [],
   "source": [
    "#write the output files\n",
    "for(i in 1:length(molecule_h5)){\n",
    "  null_holder = writeMM(unswapped$cleaned[[i]], file = out_loc[i])\n",
    "  write.table(colnames(unswapped$cleaned[[i]]), file = bc_loc[i], col.names = FALSE, row.names = FALSE, quote = FALSE)\n",
    "  write.table(rownames(unswapped$cleaned[[i]]), file = gene_loc[i], col.names = FALSE, row.names = FALSE, quote = FALSE)\n",
    "}"
   ]
  }
 ],
 "metadata": {
  "kernelspec": {
   "display_name": "R",
   "language": "R",
   "name": "ir"
  },
  "language_info": {
   "codemirror_mode": "r",
   "file_extension": ".r",
   "mimetype": "text/x-r-source",
   "name": "R",
   "pygments_lexer": "r",
   "version": "4.0.3"
  }
 },
 "nbformat": 4,
 "nbformat_minor": 4
}
