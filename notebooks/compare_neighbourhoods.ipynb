{
 "cells": [
  {
   "cell_type": "markdown",
   "metadata": {},
   "source": [
    "# Compare neighbourhoods"
   ]
  },
  {
   "cell_type": "code",
   "execution_count": 1,
   "metadata": {},
   "outputs": [],
   "source": [
    "import scanpy as sc\n",
    "import pandas as pd\n",
    "import numpy as np\n",
    "from scipy.sparse import csr_matrix\n",
    "import random\n",
    "import scipy as scipy\n",
    "import scrabbit"
   ]
  },
  {
   "cell_type": "markdown",
   "metadata": {},
   "source": [
    "## Load data"
   ]
  },
  {
   "cell_type": "code",
   "execution_count": 2,
   "metadata": {},
   "outputs": [
    {
     "data": {
      "text/plain": [
       "AnnData object with n_obs × n_vars = 430339 × 23972\n",
       "    obs: 'sample', 'stage', 'stage.mapped', 'celltype', 'celltype.extended', 'tube_name', 'somite_count', 'cluster', 'cluster.sub', 'louvain', 'leiden', 'celltype.clustering', 'day'\n",
       "    var: 'ensembl_id'\n",
       "    uns: 'celltype_colors', 'draw_graph', 'leiden', 'louvain', 'neighbors', 'pca', 'umap'\n",
       "    obsm: 'X_draw_graph_fa', 'X_pca', 'X_umap'\n",
       "    varm: 'PCs'\n",
       "    layers: 'counts'\n",
       "    obsp: 'connectivities', 'distances'"
      ]
     },
     "execution_count": 2,
     "metadata": {},
     "output_type": "execute_result"
    }
   ],
   "source": [
    "m_data = sc.read_h5ad(\"../data-in/mouse/anndata.h5ad\")\n",
    "m_data"
   ]
  },
  {
   "cell_type": "code",
   "execution_count": 3,
   "metadata": {},
   "outputs": [
    {
     "data": {
      "text/html": [
       "<div>\n",
       "<style scoped>\n",
       "    .dataframe tbody tr th:only-of-type {\n",
       "        vertical-align: middle;\n",
       "    }\n",
       "\n",
       "    .dataframe tbody tr th {\n",
       "        vertical-align: top;\n",
       "    }\n",
       "\n",
       "    .dataframe thead th {\n",
       "        text-align: right;\n",
       "    }\n",
       "</style>\n",
       "<table border=\"1\" class=\"dataframe\">\n",
       "  <thead>\n",
       "    <tr style=\"text-align: right;\">\n",
       "      <th></th>\n",
       "      <th>ensembl_id</th>\n",
       "      <th>gene_name</th>\n",
       "    </tr>\n",
       "    <tr>\n",
       "      <th>ensembl_id</th>\n",
       "      <th></th>\n",
       "      <th></th>\n",
       "    </tr>\n",
       "  </thead>\n",
       "  <tbody>\n",
       "    <tr>\n",
       "      <th>ENSMUSG00000001138</th>\n",
       "      <td>ENSMUSG00000001138</td>\n",
       "      <td>Cnnm3</td>\n",
       "    </tr>\n",
       "    <tr>\n",
       "      <th>ENSMUSG00000001143</th>\n",
       "      <td>ENSMUSG00000001143</td>\n",
       "      <td>Lman2l</td>\n",
       "    </tr>\n",
       "    <tr>\n",
       "      <th>ENSMUSG00000001674</th>\n",
       "      <td>ENSMUSG00000001674</td>\n",
       "      <td>Ddx18</td>\n",
       "    </tr>\n",
       "    <tr>\n",
       "      <th>ENSMUSG00000002459</th>\n",
       "      <td>ENSMUSG00000002459</td>\n",
       "      <td>Rgs20</td>\n",
       "    </tr>\n",
       "    <tr>\n",
       "      <th>ENSMUSG00000002881</th>\n",
       "      <td>ENSMUSG00000002881</td>\n",
       "      <td>Nab1</td>\n",
       "    </tr>\n",
       "    <tr>\n",
       "      <th>...</th>\n",
       "      <td>...</td>\n",
       "      <td>...</td>\n",
       "    </tr>\n",
       "    <tr>\n",
       "      <th>ENSMUSG00000101966</th>\n",
       "      <td>ENSMUSG00000101966</td>\n",
       "      <td>Gm5248</td>\n",
       "    </tr>\n",
       "    <tr>\n",
       "      <th>ENSMUSG00000105709</th>\n",
       "      <td>ENSMUSG00000105709</td>\n",
       "      <td>Gm42723</td>\n",
       "    </tr>\n",
       "    <tr>\n",
       "      <th>ENSMUSG00000108889</th>\n",
       "      <td>ENSMUSG00000108889</td>\n",
       "      <td>Olfr1555-ps1</td>\n",
       "    </tr>\n",
       "    <tr>\n",
       "      <th>ENSMUSG00000108929</th>\n",
       "      <td>ENSMUSG00000108929</td>\n",
       "      <td>Cc2d2b</td>\n",
       "    </tr>\n",
       "    <tr>\n",
       "      <th>ENSMUSG00000109022</th>\n",
       "      <td>ENSMUSG00000109022</td>\n",
       "      <td>Olfr1432</td>\n",
       "    </tr>\n",
       "  </tbody>\n",
       "</table>\n",
       "<p>23972 rows × 2 columns</p>\n",
       "</div>"
      ],
      "text/plain": [
       "                            ensembl_id     gene_name\n",
       "ensembl_id                                          \n",
       "ENSMUSG00000001138  ENSMUSG00000001138         Cnnm3\n",
       "ENSMUSG00000001143  ENSMUSG00000001143        Lman2l\n",
       "ENSMUSG00000001674  ENSMUSG00000001674         Ddx18\n",
       "ENSMUSG00000002459  ENSMUSG00000002459         Rgs20\n",
       "ENSMUSG00000002881  ENSMUSG00000002881          Nab1\n",
       "...                                ...           ...\n",
       "ENSMUSG00000101966  ENSMUSG00000101966        Gm5248\n",
       "ENSMUSG00000105709  ENSMUSG00000105709       Gm42723\n",
       "ENSMUSG00000108889  ENSMUSG00000108889  Olfr1555-ps1\n",
       "ENSMUSG00000108929  ENSMUSG00000108929        Cc2d2b\n",
       "ENSMUSG00000109022  ENSMUSG00000109022      Olfr1432\n",
       "\n",
       "[23972 rows x 2 columns]"
      ]
     },
     "execution_count": 3,
     "metadata": {},
     "output_type": "execute_result"
    }
   ],
   "source": [
    "m_data.var[\"gene_name\"] = m_data.var.index\n",
    "m_data.var.index = m_data.var[\"ensembl_id\"]\n",
    "m_data.var"
   ]
  },
  {
   "cell_type": "code",
   "execution_count": 112,
   "metadata": {},
   "outputs": [
    {
     "data": {
      "text/plain": [
       "AnnData object with n_obs × n_vars = 23972 × 430339"
      ]
     },
     "execution_count": 112,
     "metadata": {},
     "output_type": "execute_result"
    }
   ],
   "source": [
    "# Load mouse counts data\n",
    "m_counts = sc.read_mtx(\"../data-in/mouse/counts.mtx\")\n",
    "m_data.layers[\"counts\"] = np.transpose(m_counts.X)"
   ]
  },
  {
   "cell_type": "code",
   "execution_count": 4,
   "metadata": {},
   "outputs": [
    {
     "data": {
      "text/plain": [
       "AnnData object with n_obs × n_vars = 146133 × 30725\n",
       "    obs: 'cell', 'barcode', 'sample', 'stage', 'batch', 'doub.density', 'doublet', 'stripped', 'cluster', 'cluster.sub', 'cluster.stage', 'cluster.theiler', 'sizeFactor', 'celltype', 'singler', 'leiden_res1', 'leiden_res2', 'leiden_res1_5', 'leiden_res2_5', 'leiden_res3', 'leiden_res5', 'leiden_res10', 'leiden_res6', 'leiden_res7', 'leiden_res8', 'anatomical_loc', 'day', 'celltype_old'\n",
       "    var: 'ensembl_ids'\n",
       "    uns: 'anatomical_loc_colors', 'celltype_colors', 'celltype_old_colors', 'draw_graph', 'leiden', 'neighbors', 'singler_colors', 'umap'\n",
       "    obsm: 'X_draw_graph_fa', 'X_pca', 'X_tsne', 'X_umap'\n",
       "    layers: 'logcounts'\n",
       "    obsp: 'connectivities', 'distances'"
      ]
     },
     "execution_count": 4,
     "metadata": {},
     "output_type": "execute_result"
    }
   ],
   "source": [
    "# Load rabbit data\n",
    "r_data = sc.read_h5ad(\"../data-in/rabbit/anndata.h5ad\")\n",
    "r_data"
   ]
  },
  {
   "cell_type": "code",
   "execution_count": 5,
   "metadata": {},
   "outputs": [
    {
     "data": {
      "text/html": [
       "<div>\n",
       "<style scoped>\n",
       "    .dataframe tbody tr th:only-of-type {\n",
       "        vertical-align: middle;\n",
       "    }\n",
       "\n",
       "    .dataframe tbody tr th {\n",
       "        vertical-align: top;\n",
       "    }\n",
       "\n",
       "    .dataframe thead th {\n",
       "        text-align: right;\n",
       "    }\n",
       "</style>\n",
       "<table border=\"1\" class=\"dataframe\">\n",
       "  <thead>\n",
       "    <tr style=\"text-align: right;\">\n",
       "      <th></th>\n",
       "      <th>ref</th>\n",
       "      <th>query</th>\n",
       "    </tr>\n",
       "  </thead>\n",
       "  <tbody>\n",
       "    <tr>\n",
       "      <th>ENSOCUG00000000006</th>\n",
       "      <td>ENSOCUG00000000006</td>\n",
       "      <td>ENSMUSG00000026102</td>\n",
       "    </tr>\n",
       "    <tr>\n",
       "      <th>ENSOCUG00000000007</th>\n",
       "      <td>ENSOCUG00000000007</td>\n",
       "      <td>ENSMUSG00000028480</td>\n",
       "    </tr>\n",
       "    <tr>\n",
       "      <th>ENSOCUG00000000008</th>\n",
       "      <td>ENSOCUG00000000008</td>\n",
       "      <td>ENSMUSG00000070999</td>\n",
       "    </tr>\n",
       "    <tr>\n",
       "      <th>ENSOCUG00000000009</th>\n",
       "      <td>ENSOCUG00000000009</td>\n",
       "      <td>ENSMUSG00000028478</td>\n",
       "    </tr>\n",
       "    <tr>\n",
       "      <th>ENSOCUG00000000010</th>\n",
       "      <td>ENSOCUG00000000010</td>\n",
       "      <td>ENSMUSG00000028479</td>\n",
       "    </tr>\n",
       "    <tr>\n",
       "      <th>...</th>\n",
       "      <td>...</td>\n",
       "      <td>...</td>\n",
       "    </tr>\n",
       "    <tr>\n",
       "      <th>ENSOCUG00000039241</th>\n",
       "      <td>ENSOCUG00000039241</td>\n",
       "      <td>ENSMUSG00000022255</td>\n",
       "    </tr>\n",
       "    <tr>\n",
       "      <th>ENSOCUG00000039281</th>\n",
       "      <td>ENSOCUG00000039281</td>\n",
       "      <td>ENSMUSG00000024885</td>\n",
       "    </tr>\n",
       "    <tr>\n",
       "      <th>ENSOCUG00000039392</th>\n",
       "      <td>ENSOCUG00000039392</td>\n",
       "      <td>ENSMUSG00000014852</td>\n",
       "    </tr>\n",
       "    <tr>\n",
       "      <th>ENSOCUG00000039553</th>\n",
       "      <td>ENSOCUG00000039553</td>\n",
       "      <td>ENSMUSG00000009566</td>\n",
       "    </tr>\n",
       "    <tr>\n",
       "      <th>ENSOCUG00000039673</th>\n",
       "      <td>ENSOCUG00000039673</td>\n",
       "      <td>ENSMUSG00000020431</td>\n",
       "    </tr>\n",
       "  </tbody>\n",
       "</table>\n",
       "<p>13738 rows × 2 columns</p>\n",
       "</div>"
      ],
      "text/plain": [
       "                                   ref               query\n",
       "ENSOCUG00000000006  ENSOCUG00000000006  ENSMUSG00000026102\n",
       "ENSOCUG00000000007  ENSOCUG00000000007  ENSMUSG00000028480\n",
       "ENSOCUG00000000008  ENSOCUG00000000008  ENSMUSG00000070999\n",
       "ENSOCUG00000000009  ENSOCUG00000000009  ENSMUSG00000028478\n",
       "ENSOCUG00000000010  ENSOCUG00000000010  ENSMUSG00000028479\n",
       "...                                ...                 ...\n",
       "ENSOCUG00000039241  ENSOCUG00000039241  ENSMUSG00000022255\n",
       "ENSOCUG00000039281  ENSOCUG00000039281  ENSMUSG00000024885\n",
       "ENSOCUG00000039392  ENSOCUG00000039392  ENSMUSG00000014852\n",
       "ENSOCUG00000039553  ENSOCUG00000039553  ENSMUSG00000009566\n",
       "ENSOCUG00000039673  ENSOCUG00000039673  ENSMUSG00000020431\n",
       "\n",
       "[13738 rows x 2 columns]"
      ]
     },
     "execution_count": 5,
     "metadata": {},
     "output_type": "execute_result"
    }
   ],
   "source": [
    "# Load one-to-one orthologs\n",
    "rm_orthologs = pd.read_csv(\"../data-in/orthologs/mmusculus.tsv\", sep=\"\\t\")\n",
    "rm_orthologs"
   ]
  },
  {
   "cell_type": "code",
   "execution_count": 6,
   "metadata": {},
   "outputs": [],
   "source": [
    "r_cellcycle = pd.read_csv(\"../data-in/rabbit/cc_genes.tsv\", sep=\"\\t\")\n",
    "m_cellcycle = pd.read_csv(\"../data-in/mouse/cc_genes.tsv\", sep=\"\\t\")"
   ]
  },
  {
   "cell_type": "code",
   "execution_count": 7,
   "metadata": {},
   "outputs": [],
   "source": [
    "r_mito = pd.read_csv(\"../data-in/rabbit/mito_genes.tsv\", sep=\"\\t\")\n",
    "m_mito = pd.read_csv(\"../data-in/mouse/mito_genes.tsv\", sep=\"\\t\")"
   ]
  },
  {
   "cell_type": "code",
   "execution_count": null,
   "metadata": {},
   "outputs": [],
   "source": []
  },
  {
   "cell_type": "markdown",
   "metadata": {},
   "source": [
    "## Load neighbourhood data"
   ]
  },
  {
   "cell_type": "code",
   "execution_count": 8,
   "metadata": {},
   "outputs": [
    {
     "data": {
      "text/plain": [
       "AnnData object with n_obs × n_vars = 146133 × 5253"
      ]
     },
     "execution_count": 8,
     "metadata": {},
     "output_type": "execute_result"
    }
   ],
   "source": [
    "r_nhoods = sc.read_mtx(\"../data-out/compare_neighbourhoods/r_nhoods.mtx\")\n",
    "r_nhoods"
   ]
  },
  {
   "cell_type": "code",
   "execution_count": 9,
   "metadata": {},
   "outputs": [
    {
     "data": {
      "text/plain": [
       "AnnData object with n_obs × n_vars = 430339 × 14034"
      ]
     },
     "execution_count": 9,
     "metadata": {},
     "output_type": "execute_result"
    }
   ],
   "source": [
    "m_nhoods = sc.read_mtx(\"../data-out/compare_neighbourhoods/m_nhoods.mtx\")\n",
    "m_nhoods"
   ]
  },
  {
   "cell_type": "markdown",
   "metadata": {},
   "source": [
    "## Grid search"
   ]
  },
  {
   "cell_type": "code",
   "execution_count": null,
   "metadata": {},
   "outputs": [],
   "source": [
    "norm_methods = [\"size_factors\"]\n",
    "hvg_methods = [\"seurat\", \"edgeR\"]\n",
    "join_type = [\"intersect\", \"union\"]\n",
    "n_genes = [500, 1000, 2000, 2500, 3000, 5000]\n",
    "sim_measure = [\"pearson\", \"spearman\"]"
   ]
  },
  {
   "cell_type": "markdown",
   "metadata": {},
   "source": [
    "### Compute gene specificity"
   ]
  },
  {
   "cell_type": "markdown",
   "metadata": {},
   "source": [
    "TODO: Make this reproducible"
   ]
  },
  {
   "cell_type": "code",
   "execution_count": 10,
   "metadata": {},
   "outputs": [],
   "source": [
    "import warnings\n",
    "\n",
    "# nan entries correspond to non-expressed genes, can be removed prior\n",
    "def calcGeneSpecificity(X,group_by=None, mask=None):\n",
    "    if(mask is None):\n",
    "        mask = pd.get_dummies(adata.obs[group_by])\n",
    "        \n",
    "    ncells=mask.sum(0)\n",
    "    ncells_array = np.squeeze(np.asarray(1/ncells))\n",
    "    ncells_mat = scipy.sparse.diags(ncells_array)\n",
    "    mask = scipy.sparse.csr_matrix(mask).T\n",
    "\n",
    "    ctype_sum = mask@X\n",
    "    ctype_mean = ncells_mat@ctype_sum\n",
    "    \n",
    "    N = ctype_mean.shape[0]\n",
    "    row_sums = np.squeeze(np.asarray(ctype_mean.sum(axis=1)))[:,None]\n",
    "    gspec = ctype_mean/(row_sums/N) #TODO: make this sparse    \n",
    "    \n",
    "    return(gspec)\n",
    "\n",
    "\n",
    "\n",
    "def filterGenes(adata, orthologs, min_counts=1, n_hvgs=2000, cc_genes=None, mito_genes=None, layer=None):\n",
    "    \n",
    "    # Filter one-to-one orthologs\n",
    "    filt = adata[:,adata.var.index.isin(orthologs)]\n",
    "    \n",
    "    # Filter min counts \n",
    "    exp_genes = sc.pp.filter_genes(filt,min_counts=min_counts,inplace=False)\n",
    "    filt = filt[:,exp_genes[0]]\n",
    "    \n",
    "    # Remove cell-cycle genes\n",
    "    if(cc_genes is not None): filt = filt[:,~filt.var.index.isin(cc_genes)]\n",
    "    \n",
    "    # Remove mitochondrial genes\n",
    "    if(mito_genes is not None): filt = filt[:,~filt.var.index.isin(mito_genes)]\n",
    "    \n",
    "    # Filter top highly variable genes\n",
    "    if(n_hvgs):\n",
    "        sc.pp.highly_variable_genes(filt,n_top_genes=n_hvgs, layer=layer)\n",
    "        filt = filt[:,filt.var[\"highly_variable\"]]\n",
    "           \n",
    "    return(filt)\n",
    "\n",
    "\n",
    "def combineGenes(r_filt, m_filt, orthologs, join_type=\"intersect\"):\n",
    "    r_genes = r_filt.var.index\n",
    "    m_genes = m_filt.var.index  \n",
    "\n",
    "    # Assumes orthologs[,0] is rabbit, orthologs[,1] is mouse\n",
    "    out_genes = []\n",
    "    if(join_type==\"union\"): \n",
    "        out_genes = orthologs.loc[orthologs.iloc[:,0].isin(r_genes) | orthologs.iloc[:,1].isin(m_genes),:]\n",
    "\n",
    "    elif(join_type == \"intersect\"):\n",
    "        out_genes = orthologs.loc[orthologs.iloc[:,0].isin(r_genes) & orthologs.iloc[:,1].isin(m_genes),:]\n",
    "    else:\n",
    "        warnings.warn(\"join_type must be one of 'union' or 'intersect'.\")\n",
    "\n",
    "    return(out_genes)\n"
   ]
  },
  {
   "cell_type": "code",
   "execution_count": 135,
   "metadata": {},
   "outputs": [
    {
     "name": "stderr",
     "output_type": "stream",
     "text": [
      "/hps/software/users/marioni/dkeitley/miniconda3/envs/pyenv/lib/python3.8/site-packages/scanpy/preprocessing/_utils.py:11: RuntimeWarning: overflow encountered in multiply\n",
      "  mean_sq = np.multiply(X, X).mean(axis=axis, dtype=np.float64)\n",
      "/hps/software/users/marioni/dkeitley/miniconda3/envs/pyenv/lib/python3.8/site-packages/scanpy/preprocessing/_utils.py:12: RuntimeWarning: overflow encountered in square\n",
      "  var = mean_sq - mean ** 2\n",
      "/hps/software/users/marioni/dkeitley/miniconda3/envs/pyenv/lib/python3.8/site-packages/scanpy/preprocessing/_utils.py:12: RuntimeWarning: invalid value encountered in subtract\n",
      "  var = mean_sq - mean ** 2\n",
      "/hps/software/users/marioni/dkeitley/miniconda3/envs/pyenv/lib/python3.8/site-packages/scanpy/preprocessing/_highly_variable_genes.py:237: RuntimeWarning: invalid value encountered in true_divide\n",
      "  df['dispersions_norm'] = (\n",
      "Trying to set attribute `.uns` of view, copying.\n",
      "/hps/software/users/marioni/dkeitley/miniconda3/envs/pyenv/lib/python3.8/site-packages/anndata/_core/anndata.py:1094: FutureWarning: is_categorical is deprecated and will be removed in a future version.  Use is_categorical_dtype instead\n",
      "  if not is_categorical(df_full[k]):\n"
     ]
    },
    {
     "data": {
      "text/plain": [
       "View of AnnData object with n_obs × n_vars = 146133 × 2000\n",
       "    obs: 'cell', 'barcode', 'sample', 'stage', 'batch', 'doub.density', 'doublet', 'stripped', 'cluster', 'cluster.sub', 'cluster.stage', 'cluster.theiler', 'sizeFactor', 'celltype', 'singler', 'leiden_res1', 'leiden_res2', 'leiden_res1_5', 'leiden_res2_5', 'leiden_res3', 'leiden_res5', 'leiden_res10', 'leiden_res6', 'leiden_res7', 'leiden_res8', 'anatomical_loc', 'day', 'celltype_old'\n",
       "    var: 'ensembl_ids', 'mean', 'std', 'highly_variable', 'means', 'dispersions', 'dispersions_norm'\n",
       "    uns: 'anatomical_loc_colors', 'celltype_colors', 'celltype_old_colors', 'draw_graph', 'leiden', 'neighbors', 'singler_colors', 'umap', 'hvg'\n",
       "    obsm: 'X_draw_graph_fa', 'X_pca', 'X_tsne', 'X_umap'\n",
       "    layers: 'logcounts'\n",
       "    obsp: 'connectivities', 'distances'"
      ]
     },
     "execution_count": 135,
     "metadata": {},
     "output_type": "execute_result"
    }
   ],
   "source": [
    "# Filter rabbit genes\n",
    "r_filt = filterGenes(r_data, orthologs=rm_orthologs[\"ref\"], n_hvgs=2000,\n",
    "                     cc_genes=r_cellcycle[\"ensembl_gene_id\"], mito_genes=r_mito[\"ensembl_gene_id\"], \n",
    "                     layer=\"logcounts\")\n",
    "r_filt "
   ]
  },
  {
   "cell_type": "code",
   "execution_count": 144,
   "metadata": {},
   "outputs": [
    {
     "name": "stderr",
     "output_type": "stream",
     "text": [
      "/hps/software/users/marioni/dkeitley/miniconda3/envs/pyenv/lib/python3.8/site-packages/anndata/_core/anndata.py:1094: FutureWarning: is_categorical is deprecated and will be removed in a future version.  Use is_categorical_dtype instead\n",
      "  if not is_categorical(df_full[k]):\n",
      "Trying to set attribute `.uns` of view, copying.\n",
      "/hps/software/users/marioni/dkeitley/miniconda3/envs/pyenv/lib/python3.8/site-packages/anndata/_core/anndata.py:1094: FutureWarning: is_categorical is deprecated and will be removed in a future version.  Use is_categorical_dtype instead\n",
      "  if not is_categorical(df_full[k]):\n"
     ]
    },
    {
     "data": {
      "text/plain": [
       "View of AnnData object with n_obs × n_vars = 430339 × 2000\n",
       "    obs: 'sample', 'stage', 'stage.mapped', 'celltype', 'celltype.extended', 'tube_name', 'somite_count', 'cluster', 'cluster.sub', 'louvain', 'leiden', 'celltype.clustering', 'day'\n",
       "    var: 'ensembl_id', 'gene_name', 'highly_variable', 'means', 'dispersions', 'dispersions_norm'\n",
       "    uns: 'celltype_colors', 'draw_graph', 'leiden', 'louvain', 'neighbors', 'pca', 'umap', 'hvg'\n",
       "    obsm: 'X_draw_graph_fa', 'X_pca', 'X_umap'\n",
       "    varm: 'PCs'\n",
       "    layers: 'counts'\n",
       "    obsp: 'connectivities', 'distances'"
      ]
     },
     "execution_count": 144,
     "metadata": {},
     "output_type": "execute_result"
    }
   ],
   "source": [
    "# Filter mouse genes\n",
    "m_filt = filterGenes(m_data, orthologs=rm_orthologs[\"query\"], n_hvgs=2000,\n",
    "                     cc_genes=m_cellcycle[\"ensembl_gene_id\"], mito_genes=m_mito[\"ensembl_gene_id\"])\n",
    "m_filt "
   ]
  },
  {
   "cell_type": "code",
   "execution_count": 159,
   "metadata": {},
   "outputs": [
    {
     "name": "stdout",
     "output_type": "stream",
     "text": [
      "Number of genes in final gene set: 3640\n"
     ]
    }
   ],
   "source": [
    "# Take intersection of rabbit/mouse filtered genes\n",
    "gene_set = combineGenes(r_filt,m_filt, rm_orthologs, join_type=\"union\")\n",
    "r_final = r_data[:,gene_set[\"ref\"]]\n",
    "m_final = m_data[:,gene_set[\"query\"]]\n",
    "print(\"Number of genes in final gene set: \" + str(gene_set.shape[0]))"
   ]
  },
  {
   "cell_type": "code",
   "execution_count": null,
   "metadata": {},
   "outputs": [],
   "source": []
  },
  {
   "cell_type": "code",
   "execution_count": 160,
   "metadata": {},
   "outputs": [
    {
     "data": {
      "text/plain": [
       "(5253, 3640)"
      ]
     },
     "execution_count": 160,
     "metadata": {},
     "output_type": "execute_result"
    }
   ],
   "source": [
    "r_gspec = calcGeneSpecificity(r_final.layers[\"logcounts\"], mask=r_nhoods.X)\n",
    "r_gspec.shape"
   ]
  },
  {
   "cell_type": "code",
   "execution_count": 161,
   "metadata": {},
   "outputs": [
    {
     "data": {
      "text/plain": [
       "(14034, 3640)"
      ]
     },
     "execution_count": 161,
     "metadata": {},
     "output_type": "execute_result"
    }
   ],
   "source": [
    "m_gspec = calcGeneSpecificity(m_final.X, mask=m_nhoods.X)\n",
    "m_gspec.shape"
   ]
  },
  {
   "cell_type": "code",
   "execution_count": 162,
   "metadata": {},
   "outputs": [],
   "source": [
    "gspec_cor = scipy.stats.spearmanr(r_gspec, m_gspec, axis=1)"
   ]
  },
  {
   "cell_type": "code",
   "execution_count": 163,
   "metadata": {},
   "outputs": [],
   "source": [
    "N = r_gspec.shape[0]\n",
    "gspec_cor = gspec_cor[0][0:N,N:]"
   ]
  },
  {
   "cell_type": "code",
   "execution_count": 55,
   "metadata": {},
   "outputs": [],
   "source": [
    "gspec_cor = np.corrcoef(r_gspec,m_gspec)"
   ]
  },
  {
   "cell_type": "code",
   "execution_count": 56,
   "metadata": {},
   "outputs": [],
   "source": [
    "N = r_gspec.shape[0]\n",
    "gspec_cor = gspec_cor[0:N,N:]"
   ]
  },
  {
   "cell_type": "markdown",
   "metadata": {},
   "source": [
    "## Export"
   ]
  },
  {
   "cell_type": "code",
   "execution_count": 164,
   "metadata": {},
   "outputs": [],
   "source": [
    "# Export correlations\n",
    "np.savetxt(\"../data-out/compare_neighbourhoods/gspec_cor.tsv\", gspec_cor, delimiter=\"\\t\")"
   ]
  },
  {
   "cell_type": "code",
   "execution_count": 165,
   "metadata": {},
   "outputs": [],
   "source": [
    "# Export gene specificities\n",
    "r_gspec = pd.DataFrame(r_gspec, columns=r_final.var.index)\n",
    "m_gspec = pd.DataFrame(m_gspec, columns=m_final.var.index)\n",
    "\n",
    "r_gspec.to_csv(\"../data-out/compare_neighbourhoods/r_gspec.tsv\", index=False,header=True, sep='\\t')\n",
    "m_gspec.to_csv(\"../data-out/compare_neighbourhoods/m_gspec.tsv\", index=False,header=True, sep='\\t')"
   ]
  },
  {
   "cell_type": "markdown",
   "metadata": {},
   "source": [
    "## Rabbit-macaque test"
   ]
  },
  {
   "cell_type": "code",
   "execution_count": 61,
   "metadata": {},
   "outputs": [
    {
     "data": {
      "text/plain": [
       "AnnData object with n_obs × n_vars = 7194 × 19367\n",
       "    obs: 'celltype', 'stage', 'batch', 'sizeFactor'\n",
       "    var: 'ensembl_id', 'gene_name'\n",
       "    obsm: 'X_pca', 'X_umap'\n",
       "    layers: 'counts'"
      ]
     },
     "execution_count": 61,
     "metadata": {},
     "output_type": "execute_result"
    }
   ],
   "source": [
    "# Load macaque data\n",
    "mf_data = sc.read_h5ad(\"../data-in/datasets/Yang_2021/anndata.h5ad\")\n",
    "mf_data"
   ]
  },
  {
   "cell_type": "code",
   "execution_count": 62,
   "metadata": {},
   "outputs": [
    {
     "data": {
      "text/html": [
       "<div>\n",
       "<style scoped>\n",
       "    .dataframe tbody tr th:only-of-type {\n",
       "        vertical-align: middle;\n",
       "    }\n",
       "\n",
       "    .dataframe tbody tr th {\n",
       "        vertical-align: top;\n",
       "    }\n",
       "\n",
       "    .dataframe thead th {\n",
       "        text-align: right;\n",
       "    }\n",
       "</style>\n",
       "<table border=\"1\" class=\"dataframe\">\n",
       "  <thead>\n",
       "    <tr style=\"text-align: right;\">\n",
       "      <th></th>\n",
       "      <th>ref</th>\n",
       "      <th>query</th>\n",
       "    </tr>\n",
       "  </thead>\n",
       "  <tbody>\n",
       "    <tr>\n",
       "      <th>0</th>\n",
       "      <td>ENSOCUG00000000008</td>\n",
       "      <td>ENSMFAG00000033331</td>\n",
       "    </tr>\n",
       "    <tr>\n",
       "      <th>1</th>\n",
       "      <td>ENSOCUG00000000009</td>\n",
       "      <td>ENSMFAG00000034266</td>\n",
       "    </tr>\n",
       "    <tr>\n",
       "      <th>2</th>\n",
       "      <td>ENSOCUG00000000010</td>\n",
       "      <td>ENSMFAG00000039922</td>\n",
       "    </tr>\n",
       "    <tr>\n",
       "      <th>3</th>\n",
       "      <td>ENSOCUG00000000012</td>\n",
       "      <td>ENSMFAG00000031252</td>\n",
       "    </tr>\n",
       "    <tr>\n",
       "      <th>4</th>\n",
       "      <td>ENSOCUG00000000025</td>\n",
       "      <td>ENSMFAG00000043043</td>\n",
       "    </tr>\n",
       "    <tr>\n",
       "      <th>...</th>\n",
       "      <td>...</td>\n",
       "      <td>...</td>\n",
       "    </tr>\n",
       "    <tr>\n",
       "      <th>13583</th>\n",
       "      <td>ENSOCUG00000028824</td>\n",
       "      <td>ENSMFAG00000024901</td>\n",
       "    </tr>\n",
       "    <tr>\n",
       "      <th>13584</th>\n",
       "      <td>ENSOCUG00000030953</td>\n",
       "      <td>ENSMFAG00000008617</td>\n",
       "    </tr>\n",
       "    <tr>\n",
       "      <th>13585</th>\n",
       "      <td>ENSOCUG00000031936</td>\n",
       "      <td>ENSMFAG00000021894</td>\n",
       "    </tr>\n",
       "    <tr>\n",
       "      <th>13586</th>\n",
       "      <td>ENSOCUG00000031936</td>\n",
       "      <td>ENSMFAG00000022672</td>\n",
       "    </tr>\n",
       "    <tr>\n",
       "      <th>13587</th>\n",
       "      <td>ENSOCUG00000038706</td>\n",
       "      <td>ENSMFAG00000005647</td>\n",
       "    </tr>\n",
       "  </tbody>\n",
       "</table>\n",
       "<p>13588 rows × 2 columns</p>\n",
       "</div>"
      ],
      "text/plain": [
       "                      ref               query\n",
       "0      ENSOCUG00000000008  ENSMFAG00000033331\n",
       "1      ENSOCUG00000000009  ENSMFAG00000034266\n",
       "2      ENSOCUG00000000010  ENSMFAG00000039922\n",
       "3      ENSOCUG00000000012  ENSMFAG00000031252\n",
       "4      ENSOCUG00000000025  ENSMFAG00000043043\n",
       "...                   ...                 ...\n",
       "13583  ENSOCUG00000028824  ENSMFAG00000024901\n",
       "13584  ENSOCUG00000030953  ENSMFAG00000008617\n",
       "13585  ENSOCUG00000031936  ENSMFAG00000021894\n",
       "13586  ENSOCUG00000031936  ENSMFAG00000022672\n",
       "13587  ENSOCUG00000038706  ENSMFAG00000005647\n",
       "\n",
       "[13588 rows x 2 columns]"
      ]
     },
     "execution_count": 62,
     "metadata": {},
     "output_type": "execute_result"
    }
   ],
   "source": [
    "# Load rabbit-macaque orthologs\n",
    "ocmf_orthologs = pd.read_csv(\"../data-in/orthologs/mfascicularis.tsv\", sep=\"\\t\")\n",
    "ocmf_orthologs"
   ]
  },
  {
   "cell_type": "code",
   "execution_count": 65,
   "metadata": {},
   "outputs": [
    {
     "data": {
      "text/plain": [
       "AnnData object with n_obs × n_vars = 7194 × 478"
      ]
     },
     "execution_count": 65,
     "metadata": {},
     "output_type": "execute_result"
    }
   ],
   "source": [
    "mf_nhoods = sc.read_mtx(\"../data-out/compare_neighbourhoods/mf_nhoods.mtx\")\n",
    "mf_nhoods"
   ]
  },
  {
   "cell_type": "code",
   "execution_count": 127,
   "metadata": {},
   "outputs": [
    {
     "name": "stderr",
     "output_type": "stream",
     "text": [
      "/hps/software/users/marioni/dkeitley/miniconda3/envs/pyenv/lib/python3.8/site-packages/scanpy/preprocessing/_utils.py:11: RuntimeWarning: overflow encountered in multiply\n",
      "  mean_sq = np.multiply(X, X).mean(axis=axis, dtype=np.float64)\n",
      "/hps/software/users/marioni/dkeitley/miniconda3/envs/pyenv/lib/python3.8/site-packages/scanpy/preprocessing/_utils.py:12: RuntimeWarning: overflow encountered in square\n",
      "  var = mean_sq - mean ** 2\n",
      "/hps/software/users/marioni/dkeitley/miniconda3/envs/pyenv/lib/python3.8/site-packages/scanpy/preprocessing/_utils.py:12: RuntimeWarning: invalid value encountered in subtract\n",
      "  var = mean_sq - mean ** 2\n",
      "/hps/software/users/marioni/dkeitley/miniconda3/envs/pyenv/lib/python3.8/site-packages/scanpy/preprocessing/_highly_variable_genes.py:237: RuntimeWarning: invalid value encountered in true_divide\n",
      "  df['dispersions_norm'] = (\n",
      "Trying to set attribute `.uns` of view, copying.\n",
      "/hps/software/users/marioni/dkeitley/miniconda3/envs/pyenv/lib/python3.8/site-packages/anndata/_core/anndata.py:1094: FutureWarning: is_categorical is deprecated and will be removed in a future version.  Use is_categorical_dtype instead\n",
      "  if not is_categorical(df_full[k]):\n"
     ]
    },
    {
     "data": {
      "text/plain": [
       "View of AnnData object with n_obs × n_vars = 146133 × 2000\n",
       "    obs: 'cell', 'barcode', 'sample', 'stage', 'batch', 'doub.density', 'doublet', 'stripped', 'cluster', 'cluster.sub', 'cluster.stage', 'cluster.theiler', 'sizeFactor', 'celltype', 'singler', 'leiden_res1', 'leiden_res2', 'leiden_res1_5', 'leiden_res2_5', 'leiden_res3', 'leiden_res5', 'leiden_res10', 'leiden_res6', 'leiden_res7', 'leiden_res8', 'anatomical_loc', 'day', 'celltype_old'\n",
       "    var: 'ensembl_ids', 'mean', 'std', 'highly_variable', 'means', 'dispersions', 'dispersions_norm'\n",
       "    uns: 'anatomical_loc_colors', 'celltype_colors', 'celltype_old_colors', 'draw_graph', 'leiden', 'neighbors', 'singler_colors', 'umap', 'hvg'\n",
       "    obsm: 'X_draw_graph_fa', 'X_pca', 'X_tsne', 'X_umap'\n",
       "    layers: 'logcounts'\n",
       "    obsp: 'connectivities', 'distances'"
      ]
     },
     "execution_count": 127,
     "metadata": {},
     "output_type": "execute_result"
    }
   ],
   "source": [
    "# Filter rabbit genes\n",
    "r_filt = filterGenes(r_data, orthologs=ocmf_orthologs[\"ref\"], n_hvgs=2000,\n",
    "                     cc_genes=r_cellcycle[\"ensembl_gene_id\"], mito_genes=r_mito[\"ensembl_gene_id\"], \n",
    "                     layer=\"logcounts\")\n",
    "r_filt "
   ]
  },
  {
   "cell_type": "code",
   "execution_count": 128,
   "metadata": {},
   "outputs": [
    {
     "name": "stderr",
     "output_type": "stream",
     "text": [
      "Trying to set attribute `.uns` of view, copying.\n",
      "/hps/software/users/marioni/dkeitley/miniconda3/envs/pyenv/lib/python3.8/site-packages/anndata/_core/anndata.py:1094: FutureWarning: is_categorical is deprecated and will be removed in a future version.  Use is_categorical_dtype instead\n",
      "  if not is_categorical(df_full[k]):\n"
     ]
    },
    {
     "data": {
      "text/plain": [
       "View of AnnData object with n_obs × n_vars = 7194 × 2000\n",
       "    obs: 'celltype', 'stage', 'batch', 'sizeFactor'\n",
       "    var: 'ensembl_id', 'gene_name', 'highly_variable', 'means', 'dispersions', 'dispersions_norm'\n",
       "    uns: 'hvg'\n",
       "    obsm: 'X_pca', 'X_umap'\n",
       "    layers: 'counts'"
      ]
     },
     "execution_count": 128,
     "metadata": {},
     "output_type": "execute_result"
    }
   ],
   "source": [
    "# Filter mouse genes\n",
    "mf_filt = filterGenes(mf_data, orthologs=ocmf_orthologs[\"query\"], n_hvgs=2000)\n",
    "mf_filt "
   ]
  },
  {
   "cell_type": "code",
   "execution_count": 129,
   "metadata": {},
   "outputs": [
    {
     "name": "stdout",
     "output_type": "stream",
     "text": [
      "Number of genes in final gene set: 385\n"
     ]
    }
   ],
   "source": [
    "# Take intersection of rabbit/mouse filtered genes\n",
    "gene_set = combineGenes(r_filt,mf_filt, ocmf_orthologs, join_type=\"intersect\")\n",
    "r_final = r_data[:,gene_set[\"ref\"]]\n",
    "mf_final = mf_data[:,gene_set[\"query\"]]\n",
    "print(\"Number of genes in final gene set: \" + str(gene_set.shape[0]))"
   ]
  },
  {
   "cell_type": "code",
   "execution_count": 130,
   "metadata": {},
   "outputs": [
    {
     "data": {
      "text/plain": [
       "(5253, 385)"
      ]
     },
     "execution_count": 130,
     "metadata": {},
     "output_type": "execute_result"
    }
   ],
   "source": [
    "r_gspec = calcGeneSpecificity(r_final.layers[\"logcounts\"], mask=r_nhoods.X)\n",
    "r_gspec.shape"
   ]
  },
  {
   "cell_type": "code",
   "execution_count": 131,
   "metadata": {},
   "outputs": [
    {
     "data": {
      "text/plain": [
       "(478, 385)"
      ]
     },
     "execution_count": 131,
     "metadata": {},
     "output_type": "execute_result"
    }
   ],
   "source": [
    "mf_gspec = calcGeneSpecificity(mf_final.X, mask=mf_nhoods.X)\n",
    "mf_gspec.shape"
   ]
  },
  {
   "cell_type": "code",
   "execution_count": 132,
   "metadata": {},
   "outputs": [],
   "source": [
    "gspec_cor = np.corrcoef(r_gspec,mf_gspec)"
   ]
  },
  {
   "cell_type": "code",
   "execution_count": 133,
   "metadata": {},
   "outputs": [],
   "source": [
    "N = r_gspec.shape[0]\n",
    "gspec_cor = gspec_cor[0:N,N:]"
   ]
  },
  {
   "cell_type": "code",
   "execution_count": 134,
   "metadata": {},
   "outputs": [],
   "source": [
    "# Export correlations\n",
    "np.savetxt(\"../data-out/compare_neighbourhoods/macaque_test/gspec_cor.tsv\", gspec_cor, delimiter=\"\\t\")\n",
    "\n",
    "# Export gene specificities\n",
    "r_gspec = pd.DataFrame(r_gspec, columns=r_final.var.index)\n",
    "mf_gspec = pd.DataFrame(mf_gspec, columns=mf_final.var.index)\n",
    "\n",
    "r_gspec.to_csv(\"../data-out/compare_neighbourhoods/macaque_test/r_gspec.tsv\", index=False,header=True, sep='\\t')\n",
    "mf_gspec.to_csv(\"../data-out/compare_neighbourhoods/macaque_test/mf_gspec.tsv\", index=False,header=True, sep='\\t')"
   ]
  },
  {
   "cell_type": "markdown",
   "metadata": {},
   "source": [
    "## Rabbit-human test"
   ]
  },
  {
   "cell_type": "code",
   "execution_count": 86,
   "metadata": {},
   "outputs": [
    {
     "data": {
      "text/plain": [
       "AnnData object with n_obs × n_vars = 1195 × 57490\n",
       "    obs: 'celltype', 'stage'\n",
       "    obsm: 'UMAP'"
      ]
     },
     "execution_count": 86,
     "metadata": {},
     "output_type": "execute_result"
    }
   ],
   "source": [
    "# Load human data\n",
    "hs_data = sc.read_h5ad(\"../data-in/datasets/Tyser_2020/adata.h5ad\")\n",
    "hs_data"
   ]
  },
  {
   "cell_type": "code",
   "execution_count": 87,
   "metadata": {},
   "outputs": [
    {
     "data": {
      "text/html": [
       "<div>\n",
       "<style scoped>\n",
       "    .dataframe tbody tr th:only-of-type {\n",
       "        vertical-align: middle;\n",
       "    }\n",
       "\n",
       "    .dataframe tbody tr th {\n",
       "        vertical-align: top;\n",
       "    }\n",
       "\n",
       "    .dataframe thead th {\n",
       "        text-align: right;\n",
       "    }\n",
       "</style>\n",
       "<table border=\"1\" class=\"dataframe\">\n",
       "  <thead>\n",
       "    <tr style=\"text-align: right;\">\n",
       "      <th></th>\n",
       "      <th>ref</th>\n",
       "      <th>query</th>\n",
       "    </tr>\n",
       "  </thead>\n",
       "  <tbody>\n",
       "    <tr>\n",
       "      <th>0</th>\n",
       "      <td>ENSOCUG00000000006</td>\n",
       "      <td>INPP1</td>\n",
       "    </tr>\n",
       "    <tr>\n",
       "      <th>1</th>\n",
       "      <td>ENSOCUG00000000007</td>\n",
       "      <td>GLIPR2</td>\n",
       "    </tr>\n",
       "    <tr>\n",
       "      <th>2</th>\n",
       "      <td>ENSOCUG00000000008</td>\n",
       "      <td>CCIN</td>\n",
       "    </tr>\n",
       "    <tr>\n",
       "      <th>3</th>\n",
       "      <td>ENSOCUG00000000009</td>\n",
       "      <td>CLTA</td>\n",
       "    </tr>\n",
       "    <tr>\n",
       "      <th>4</th>\n",
       "      <td>ENSOCUG00000000010</td>\n",
       "      <td>GNE</td>\n",
       "    </tr>\n",
       "    <tr>\n",
       "      <th>...</th>\n",
       "      <td>...</td>\n",
       "      <td>...</td>\n",
       "    </tr>\n",
       "    <tr>\n",
       "      <th>17542</th>\n",
       "      <td>ENSOCUG00000031936</td>\n",
       "      <td>RN7SL683P</td>\n",
       "    </tr>\n",
       "    <tr>\n",
       "      <th>17543</th>\n",
       "      <td>ENSOCUG00000034014</td>\n",
       "      <td>MIR3618</td>\n",
       "    </tr>\n",
       "    <tr>\n",
       "      <th>17544</th>\n",
       "      <td>ENSOCUG00000034135</td>\n",
       "      <td>MIR507</td>\n",
       "    </tr>\n",
       "    <tr>\n",
       "      <th>17545</th>\n",
       "      <td>ENSOCUG00000034135</td>\n",
       "      <td>MIR506</td>\n",
       "    </tr>\n",
       "    <tr>\n",
       "      <th>17546</th>\n",
       "      <td>ENSOCUG00000034357</td>\n",
       "      <td>MIR371A</td>\n",
       "    </tr>\n",
       "  </tbody>\n",
       "</table>\n",
       "<p>17547 rows × 2 columns</p>\n",
       "</div>"
      ],
      "text/plain": [
       "                      ref      query\n",
       "0      ENSOCUG00000000006      INPP1\n",
       "1      ENSOCUG00000000007     GLIPR2\n",
       "2      ENSOCUG00000000008       CCIN\n",
       "3      ENSOCUG00000000009       CLTA\n",
       "4      ENSOCUG00000000010        GNE\n",
       "...                   ...        ...\n",
       "17542  ENSOCUG00000031936  RN7SL683P\n",
       "17543  ENSOCUG00000034014    MIR3618\n",
       "17544  ENSOCUG00000034135     MIR507\n",
       "17545  ENSOCUG00000034135     MIR506\n",
       "17546  ENSOCUG00000034357    MIR371A\n",
       "\n",
       "[17547 rows x 2 columns]"
      ]
     },
     "execution_count": 87,
     "metadata": {},
     "output_type": "execute_result"
    }
   ],
   "source": [
    "# Load rabbit-macaque orthologs\n",
    "ochs_orthologs = pd.read_csv(\"../data-in/orthologs/hsapiens.tsv\", sep=\"\\t\")\n",
    "ochs_orthologs"
   ]
  },
  {
   "cell_type": "code",
   "execution_count": 88,
   "metadata": {},
   "outputs": [
    {
     "data": {
      "text/plain": [
       "AnnData object with n_obs × n_vars = 1195 × 139"
      ]
     },
     "execution_count": 88,
     "metadata": {},
     "output_type": "execute_result"
    }
   ],
   "source": [
    "hs_nhoods = sc.read_mtx(\"../data-out/compare_neighbourhoods/hs_nhoods.mtx\")\n",
    "hs_nhoods"
   ]
  },
  {
   "cell_type": "code",
   "execution_count": 113,
   "metadata": {},
   "outputs": [
    {
     "name": "stderr",
     "output_type": "stream",
     "text": [
      "/hps/software/users/marioni/dkeitley/miniconda3/envs/pyenv/lib/python3.8/site-packages/anndata/_core/anndata.py:1094: FutureWarning: is_categorical is deprecated and will be removed in a future version.  Use is_categorical_dtype instead\n",
      "  if not is_categorical(df_full[k]):\n",
      "/hps/software/users/marioni/dkeitley/miniconda3/envs/pyenv/lib/python3.8/site-packages/scanpy/preprocessing/_utils.py:11: RuntimeWarning: overflow encountered in multiply\n",
      "  mean_sq = np.multiply(X, X).mean(axis=axis, dtype=np.float64)\n",
      "/hps/software/users/marioni/dkeitley/miniconda3/envs/pyenv/lib/python3.8/site-packages/scanpy/preprocessing/_utils.py:12: RuntimeWarning: overflow encountered in square\n",
      "  var = mean_sq - mean ** 2\n",
      "/hps/software/users/marioni/dkeitley/miniconda3/envs/pyenv/lib/python3.8/site-packages/scanpy/preprocessing/_utils.py:12: RuntimeWarning: invalid value encountered in subtract\n",
      "  var = mean_sq - mean ** 2\n",
      "/hps/software/users/marioni/dkeitley/miniconda3/envs/pyenv/lib/python3.8/site-packages/scanpy/preprocessing/_highly_variable_genes.py:237: RuntimeWarning: invalid value encountered in true_divide\n",
      "  df['dispersions_norm'] = (\n",
      "Trying to set attribute `.uns` of view, copying.\n",
      "/hps/software/users/marioni/dkeitley/miniconda3/envs/pyenv/lib/python3.8/site-packages/anndata/_core/anndata.py:1094: FutureWarning: is_categorical is deprecated and will be removed in a future version.  Use is_categorical_dtype instead\n",
      "  if not is_categorical(df_full[k]):\n"
     ]
    },
    {
     "data": {
      "text/plain": [
       "View of AnnData object with n_obs × n_vars = 146133 × 2000\n",
       "    obs: 'cell', 'barcode', 'sample', 'stage', 'batch', 'doub.density', 'doublet', 'stripped', 'cluster', 'cluster.sub', 'cluster.stage', 'cluster.theiler', 'sizeFactor', 'celltype', 'singler', 'leiden_res1', 'leiden_res2', 'leiden_res1_5', 'leiden_res2_5', 'leiden_res3', 'leiden_res5', 'leiden_res10', 'leiden_res6', 'leiden_res7', 'leiden_res8', 'anatomical_loc', 'day', 'celltype_old'\n",
       "    var: 'ensembl_ids', 'mean', 'std', 'highly_variable', 'means', 'dispersions', 'dispersions_norm'\n",
       "    uns: 'anatomical_loc_colors', 'celltype_colors', 'celltype_old_colors', 'draw_graph', 'leiden', 'neighbors', 'singler_colors', 'umap', 'hvg'\n",
       "    obsm: 'X_draw_graph_fa', 'X_pca', 'X_tsne', 'X_umap'\n",
       "    layers: 'logcounts'\n",
       "    obsp: 'connectivities', 'distances'"
      ]
     },
     "execution_count": 113,
     "metadata": {},
     "output_type": "execute_result"
    }
   ],
   "source": [
    "# Filter rabbit genes\n",
    "r_filt = filterGenes(r_data, orthologs=ochs_orthologs[\"ref\"], n_hvgs=2000,\n",
    "                     cc_genes=r_cellcycle[\"ensembl_gene_id\"], mito_genes=r_mito[\"ensembl_gene_id\"], \n",
    "                     layer=\"logcounts\")\n",
    "r_filt "
   ]
  },
  {
   "cell_type": "code",
   "execution_count": 114,
   "metadata": {},
   "outputs": [
    {
     "name": "stderr",
     "output_type": "stream",
     "text": [
      "Trying to set attribute `.uns` of view, copying.\n",
      "/hps/software/users/marioni/dkeitley/miniconda3/envs/pyenv/lib/python3.8/site-packages/anndata/_core/anndata.py:1094: FutureWarning: is_categorical is deprecated and will be removed in a future version.  Use is_categorical_dtype instead\n",
      "  if not is_categorical(df_full[k]):\n"
     ]
    },
    {
     "data": {
      "text/plain": [
       "View of AnnData object with n_obs × n_vars = 1195 × 2000\n",
       "    obs: 'celltype', 'stage'\n",
       "    var: 'highly_variable', 'means', 'dispersions', 'dispersions_norm'\n",
       "    uns: 'hvg'\n",
       "    obsm: 'UMAP'"
      ]
     },
     "execution_count": 114,
     "metadata": {},
     "output_type": "execute_result"
    }
   ],
   "source": [
    "# Filter mouse genes\n",
    "hs_filt = filterGenes(hs_data, orthologs=ochs_orthologs[\"query\"], n_hvgs=2000)\n",
    "hs_filt "
   ]
  },
  {
   "cell_type": "code",
   "execution_count": 115,
   "metadata": {},
   "outputs": [
    {
     "name": "stdout",
     "output_type": "stream",
     "text": [
      "Number of genes in final gene set: 369\n"
     ]
    }
   ],
   "source": [
    "# Take intersection of rabbit/mouse filtered genes\n",
    "gene_set = combineGenes(r_filt,hs_filt, ochs_orthologs, join_type=\"intersect\")\n",
    "r_final = r_data[:,gene_set[\"ref\"]]\n",
    "hs_final = hs_data[:,gene_set[\"query\"]]\n",
    "print(\"Number of genes in final gene set: \" + str(gene_set.shape[0]))"
   ]
  },
  {
   "cell_type": "code",
   "execution_count": 116,
   "metadata": {},
   "outputs": [
    {
     "data": {
      "text/plain": [
       "(5253, 369)"
      ]
     },
     "execution_count": 116,
     "metadata": {},
     "output_type": "execute_result"
    }
   ],
   "source": [
    "r_gspec = calcGeneSpecificity(r_final.layers[\"logcounts\"], mask=r_nhoods.X)\n",
    "r_gspec.shape"
   ]
  },
  {
   "cell_type": "code",
   "execution_count": 117,
   "metadata": {},
   "outputs": [
    {
     "data": {
      "text/plain": [
       "(139, 369)"
      ]
     },
     "execution_count": 117,
     "metadata": {},
     "output_type": "execute_result"
    }
   ],
   "source": [
    "hs_gspec = calcGeneSpecificity(hs_final.X, mask=hs_nhoods.X)\n",
    "hs_gspec.shape"
   ]
  },
  {
   "cell_type": "code",
   "execution_count": 118,
   "metadata": {},
   "outputs": [],
   "source": [
    "gspec_cor = np.corrcoef(r_gspec,hs_gspec)"
   ]
  },
  {
   "cell_type": "code",
   "execution_count": 119,
   "metadata": {},
   "outputs": [],
   "source": [
    "N = r_gspec.shape[0]\n",
    "gspec_cor = gspec_cor[0:N,N:]"
   ]
  },
  {
   "cell_type": "code",
   "execution_count": 121,
   "metadata": {},
   "outputs": [],
   "source": [
    "# Export correlations\n",
    "np.savetxt(\"../data-out/compare_neighbourhoods/human_test/gspec_cor.tsv\", gspec_cor, delimiter=\"\\t\")\n",
    "\n",
    "# Export gene specificities\n",
    "r_gspec = pd.DataFrame(r_gspec, columns=r_final.var.index)\n",
    "hs_gspec = pd.DataFrame(hs_gspec, columns=hs_final.var.index)\n",
    "\n",
    "r_gspec.to_csv(\"../data-out/compare_neighbourhoods/human_test/r_gspec.tsv\", index=False,header=True, sep='\\t')\n",
    "hs_gspec.to_csv(\"../data-out/compare_neighbourhoods/human_test/hs_gspec.tsv\", index=False,header=True, sep='\\t')"
   ]
  },
  {
   "cell_type": "code",
   "execution_count": 123,
   "metadata": {},
   "outputs": [
    {
     "data": {
      "text/plain": [
       "matrix([[0., 0., 0., 0.],\n",
       "        [0., 0., 0., 0.],\n",
       "        [0., 0., 0., 0.],\n",
       "        [0., 0., 0., 0.]], dtype=float32)"
      ]
     },
     "execution_count": 123,
     "metadata": {},
     "output_type": "execute_result"
    }
   ],
   "source": [
    "r_filt.X[1:5,1:5].todense()"
   ]
  },
  {
   "cell_type": "code",
   "execution_count": 126,
   "metadata": {},
   "outputs": [
    {
     "data": {
      "text/plain": [
       "0.5550517437408959"
      ]
     },
     "execution_count": 126,
     "metadata": {},
     "output_type": "execute_result"
    }
   ],
   "source": []
  },
  {
   "cell_type": "markdown",
   "metadata": {},
   "source": [
    "## Find genes with large differences in gene specificity"
   ]
  },
  {
   "cell_type": "code",
   "execution_count": 44,
   "metadata": {},
   "outputs": [],
   "source": [
    "r_celltypes = pd.read_csv(\"../data-in/rabbit/annotations_12-10-21.tsv\",sep=\"\\t\",index_col=0)\n",
    "r_data.obs[\"celltype\"] = r_celltypes[\"assigned_celltype\"]"
   ]
  },
  {
   "cell_type": "code",
   "execution_count": 35,
   "metadata": {},
   "outputs": [
    {
     "data": {
      "text/plain": [
       "(5253, 2200)"
      ]
     },
     "execution_count": 35,
     "metadata": {},
     "output_type": "execute_result"
    }
   ],
   "source": [
    "r_gspec.shape"
   ]
  },
  {
   "cell_type": "code",
   "execution_count": 36,
   "metadata": {},
   "outputs": [
    {
     "data": {
      "text/plain": [
       "(14034, 2200)"
      ]
     },
     "execution_count": 36,
     "metadata": {},
     "output_type": "execute_result"
    }
   ],
   "source": [
    "m_gspec.shape"
   ]
  },
  {
   "cell_type": "code",
   "execution_count": 28,
   "metadata": {},
   "outputs": [
    {
     "data": {
      "text/plain": [
       "(2200, 14034)"
      ]
     },
     "execution_count": 28,
     "metadata": {},
     "output_type": "execute_result"
    }
   ],
   "source": [
    "m_val.shape"
   ]
  },
  {
   "cell_type": "code",
   "execution_count": 31,
   "metadata": {},
   "outputs": [
    {
     "data": {
      "text/plain": [
       "(5253, 1)"
      ]
     },
     "execution_count": 31,
     "metadata": {},
     "output_type": "execute_result"
    }
   ],
   "source": [
    "np.mean(r_gspec,axis=1).shape"
   ]
  },
  {
   "cell_type": "code",
   "execution_count": null,
   "metadata": {},
   "outputs": [],
   "source": [
    "r_val = (r_gspec-np.mean(r_gspec,axis=1))\n",
    "m_val = (m_gspec.transpose()-np.mean(m_gspec,axis=1)).transpose()\n",
    "vals = np.absolute(r_val-m_val)"
   ]
  },
  {
   "cell_type": "code",
   "execution_count": null,
   "metadata": {},
   "outputs": [],
   "source": [
    "top = np.argpartition(vals, -5, axis=1)[:,(-5):]\n",
    "#bottom = np.argpartition(vals, 5, axis=1)[:, :5]"
   ]
  },
  {
   "cell_type": "code",
   "execution_count": null,
   "metadata": {},
   "outputs": [],
   "source": [
    "m_filt.var\n",
    "m_filt.var.iloc[top[list(ctype_list).index(\"Epiblast\"),:]]"
   ]
  },
  {
   "cell_type": "code",
   "execution_count": null,
   "metadata": {},
   "outputs": [],
   "source": []
  },
  {
   "cell_type": "code",
   "execution_count": null,
   "metadata": {},
   "outputs": [],
   "source": []
  },
  {
   "cell_type": "markdown",
   "metadata": {},
   "source": [
    "## Test R gene spec code"
   ]
  },
  {
   "cell_type": "code",
   "execution_count": 30,
   "metadata": {},
   "outputs": [
    {
     "data": {
      "text/html": [
       "<div>\n",
       "<style scoped>\n",
       "    .dataframe tbody tr th:only-of-type {\n",
       "        vertical-align: middle;\n",
       "    }\n",
       "\n",
       "    .dataframe tbody tr th {\n",
       "        vertical-align: top;\n",
       "    }\n",
       "\n",
       "    .dataframe thead th {\n",
       "        text-align: right;\n",
       "    }\n",
       "</style>\n",
       "<table border=\"1\" class=\"dataframe\">\n",
       "  <thead>\n",
       "    <tr style=\"text-align: right;\">\n",
       "      <th></th>\n",
       "      <th>ensembl_ids</th>\n",
       "    </tr>\n",
       "  </thead>\n",
       "  <tbody>\n",
       "    <tr>\n",
       "      <th>ENSOCUG00000014251</th>\n",
       "      <td>ENSOCUG00000014251</td>\n",
       "    </tr>\n",
       "    <tr>\n",
       "      <th>ENSOCUG00000005054</th>\n",
       "      <td>ENSOCUG00000005054</td>\n",
       "    </tr>\n",
       "    <tr>\n",
       "      <th>ENSOCUG00000005046</th>\n",
       "      <td>ENSOCUG00000005046</td>\n",
       "    </tr>\n",
       "    <tr>\n",
       "      <th>ENSOCUG00000005044</th>\n",
       "      <td>ENSOCUG00000005044</td>\n",
       "    </tr>\n",
       "    <tr>\n",
       "      <th>ENSOCUG00000005040</th>\n",
       "      <td>ENSOCUG00000005040</td>\n",
       "    </tr>\n",
       "    <tr>\n",
       "      <th>...</th>\n",
       "      <td>...</td>\n",
       "    </tr>\n",
       "    <tr>\n",
       "      <th>ENSG00000172508</th>\n",
       "      <td>ENSG00000172508</td>\n",
       "    </tr>\n",
       "    <tr>\n",
       "      <th>ENSG00000283268</th>\n",
       "      <td>ENSG00000283268</td>\n",
       "    </tr>\n",
       "    <tr>\n",
       "      <th>ENSG00000067066</th>\n",
       "      <td>ENSG00000067066</td>\n",
       "    </tr>\n",
       "    <tr>\n",
       "      <th>ENSG00000175602</th>\n",
       "      <td>ENSG00000175602</td>\n",
       "    </tr>\n",
       "    <tr>\n",
       "      <th>ENSG00000172324</th>\n",
       "      <td>ENSG00000172324</td>\n",
       "    </tr>\n",
       "  </tbody>\n",
       "</table>\n",
       "<p>30725 rows × 1 columns</p>\n",
       "</div>"
      ],
      "text/plain": [
       "                           ensembl_ids\n",
       "ENSOCUG00000014251  ENSOCUG00000014251\n",
       "ENSOCUG00000005054  ENSOCUG00000005054\n",
       "ENSOCUG00000005046  ENSOCUG00000005046\n",
       "ENSOCUG00000005044  ENSOCUG00000005044\n",
       "ENSOCUG00000005040  ENSOCUG00000005040\n",
       "...                                ...\n",
       "ENSG00000172508        ENSG00000172508\n",
       "ENSG00000283268        ENSG00000283268\n",
       "ENSG00000067066        ENSG00000067066\n",
       "ENSG00000175602        ENSG00000175602\n",
       "ENSG00000172324        ENSG00000172324\n",
       "\n",
       "[30725 rows x 1 columns]"
      ]
     },
     "execution_count": 30,
     "metadata": {},
     "output_type": "execute_result"
    }
   ],
   "source": [
    "r_data.var"
   ]
  },
  {
   "cell_type": "code",
   "execution_count": 38,
   "metadata": {},
   "outputs": [
    {
     "data": {
      "text/plain": [
       "ENSOCUG00000000007    ENSOCUG00000000007\n",
       "ENSOCUG00000000008    ENSOCUG00000000008\n",
       "ENSOCUG00000000009    ENSOCUG00000000009\n",
       "ENSOCUG00000000010    ENSOCUG00000000010\n",
       "ENSOCUG00000000025    ENSOCUG00000000025\n",
       "ENSOCUG00000000031    ENSOCUG00000000031\n",
       "ENSOCUG00000000032    ENSOCUG00000000032\n",
       "ENSOCUG00000000034    ENSOCUG00000000034\n",
       "ENSOCUG00000000044    ENSOCUG00000000044\n",
       "ENSOCUG00000000046    ENSOCUG00000000046\n",
       "ENSOCUG00000000049    ENSOCUG00000000049\n",
       "ENSOCUG00000000051    ENSOCUG00000000051\n",
       "ENSOCUG00000000060    ENSOCUG00000000060\n",
       "ENSOCUG00000000068    ENSOCUG00000000068\n",
       "ENSOCUG00000000079    ENSOCUG00000000079\n",
       "ENSOCUG00000000111    ENSOCUG00000000111\n",
       "ENSOCUG00000000114    ENSOCUG00000000114\n",
       "ENSOCUG00000000117    ENSOCUG00000000117\n",
       "ENSOCUG00000000119    ENSOCUG00000000119\n",
       "Name: ref, dtype: object"
      ]
     },
     "execution_count": 38,
     "metadata": {},
     "output_type": "execute_result"
    }
   ],
   "source": [
    "rm_orthologs[\"ref\"][1:20]"
   ]
  },
  {
   "cell_type": "code",
   "execution_count": 46,
   "metadata": {},
   "outputs": [
    {
     "data": {
      "text/plain": [
       "View of AnnData object with n_obs × n_vars = 146133 × 20\n",
       "    obs: 'cell', 'barcode', 'sample', 'stage', 'batch', 'doub.density', 'doublet', 'stripped', 'cluster', 'cluster.sub', 'cluster.stage', 'cluster.theiler', 'sizeFactor', 'celltype', 'singler', 'leiden_res1', 'leiden_res2', 'leiden_res1_5', 'leiden_res2_5', 'leiden_res3', 'leiden_res5', 'leiden_res10', 'leiden_res6', 'leiden_res7', 'leiden_res8', 'anatomical_loc', 'day', 'celltype_old'\n",
       "    var: 'ensembl_ids'\n",
       "    uns: 'anatomical_loc_colors', 'celltype_colors', 'celltype_old_colors', 'draw_graph', 'leiden', 'neighbors', 'singler_colors', 'umap'\n",
       "    obsm: 'X_draw_graph_fa', 'X_pca', 'X_tsne', 'X_umap'\n",
       "    layers: 'logcounts'\n",
       "    obsp: 'connectivities', 'distances'"
      ]
     },
     "execution_count": 46,
     "metadata": {},
     "output_type": "execute_result"
    }
   ],
   "source": [
    "r_final = r_data[:,rm_orthologs[\"ref\"][0:20]]\n",
    "r_final"
   ]
  },
  {
   "cell_type": "code",
   "execution_count": 45,
   "metadata": {},
   "outputs": [
    {
     "data": {
      "text/plain": [
       "View of AnnData object with n_obs × n_vars = 430339 × 20\n",
       "    obs: 'sample', 'stage', 'stage.mapped', 'celltype', 'celltype.extended', 'tube_name', 'somite_count', 'cluster', 'cluster.sub', 'louvain', 'leiden', 'celltype.clustering', 'day'\n",
       "    var: 'ensembl_id', 'gene_name'\n",
       "    uns: 'celltype_colors', 'draw_graph', 'leiden', 'louvain', 'neighbors', 'pca', 'umap'\n",
       "    obsm: 'X_draw_graph_fa', 'X_pca', 'X_umap'\n",
       "    varm: 'PCs'\n",
       "    layers: 'counts'\n",
       "    obsp: 'connectivities', 'distances'"
      ]
     },
     "execution_count": 45,
     "metadata": {},
     "output_type": "execute_result"
    }
   ],
   "source": [
    "m_final = m_data[:, rm_orthologs[\"query\"][0:20]]\n",
    "m_final"
   ]
  },
  {
   "cell_type": "code",
   "execution_count": null,
   "metadata": {},
   "outputs": [],
   "source": []
  },
  {
   "cell_type": "code",
   "execution_count": null,
   "metadata": {},
   "outputs": [],
   "source": [
    "# nan entries correspond to non-expressed genes, can be removed prior\n",
    "def calcGeneSpecificity(X,group_by=None, mask=None):\n",
    "    if(mask is None):\n",
    "        mask = pd.get_dummies(adata.obs[group_by])\n",
    "        \n",
    "    ncells=mask.sum(0)\n",
    "    ncells_array = np.squeeze(np.asarray(1/ncells))\n",
    "    ncells_mat = scipy.sparse.diags(ncells_array)\n",
    "    mask = scipy.sparse.csr_matrix(mask).T\n",
    "\n",
    "    ctype_sum = mask@X\n",
    "    ctype_mean = ncells_mat@ctype_sum\n",
    "    \n",
    "    N = ctype_mean.shape[0]\n",
    "    row_sums = np.squeeze(np.asarray(ctype_mean.sum(axis=1)))[:,None]\n",
    "    gspec = ctype_mean/(row_sums/N) #TODO: make this sparse    \n",
    "    \n",
    "    return(gspec)\n"
   ]
  },
  {
   "cell_type": "code",
   "execution_count": 52,
   "metadata": {},
   "outputs": [],
   "source": [
    "mask = r_nhoods.X"
   ]
  },
  {
   "cell_type": "code",
   "execution_count": 53,
   "metadata": {},
   "outputs": [],
   "source": [
    "ncells=mask.sum(0)\n",
    "ncells_array = np.squeeze(np.asarray(1/ncells))\n",
    "ncells_mat = scipy.sparse.diags(ncells_array)\n",
    "mask = scipy.sparse.csr_matrix(mask).T"
   ]
  },
  {
   "cell_type": "code",
   "execution_count": 49,
   "metadata": {},
   "outputs": [],
   "source": [
    "ctype_sum = mask@r_final.layers[\"logcounts\"]"
   ]
  },
  {
   "cell_type": "code",
   "execution_count": 54,
   "metadata": {},
   "outputs": [
    {
     "data": {
      "text/plain": [
       "<5253x20 sparse matrix of type '<class 'numpy.float64'>'\n",
       "\twith 50906 stored elements in Compressed Sparse Column format>"
      ]
     },
     "execution_count": 54,
     "metadata": {},
     "output_type": "execute_result"
    }
   ],
   "source": [
    "ctype_sum"
   ]
  },
  {
   "cell_type": "code",
   "execution_count": 55,
   "metadata": {},
   "outputs": [],
   "source": [
    "ctype_mean = ncells_mat@ctype_sum"
   ]
  },
  {
   "cell_type": "code",
   "execution_count": 56,
   "metadata": {},
   "outputs": [
    {
     "data": {
      "text/plain": [
       "<5253x20 sparse matrix of type '<class 'numpy.float64'>'\n",
       "\twith 50906 stored elements in Compressed Sparse Row format>"
      ]
     },
     "execution_count": 56,
     "metadata": {},
     "output_type": "execute_result"
    }
   ],
   "source": [
    "ctype_mean"
   ]
  },
  {
   "cell_type": "code",
   "execution_count": 57,
   "metadata": {},
   "outputs": [
    {
     "data": {
      "text/plain": [
       "matrix([[0.02174117, 0.0262958 , 0.        , 2.8303215 , 0.0691548 ],\n",
       "        [0.10012705, 0.0059232 , 0.        , 2.84550883, 0.03163389],\n",
       "        [0.0120541 , 0.00803434, 0.        , 2.84465638, 0.04731635],\n",
       "        [0.17091167, 0.        , 0.        , 4.1010592 , 0.02162497],\n",
       "        [0.03250837, 0.00506926, 0.        , 2.6556218 , 0.09810943]])"
      ]
     },
     "execution_count": 57,
     "metadata": {},
     "output_type": "execute_result"
    }
   ],
   "source": [
    "ctype_mean.todense()[0:5,0:5]"
   ]
  },
  {
   "cell_type": "code",
   "execution_count": 58,
   "metadata": {},
   "outputs": [],
   "source": [
    "N = ctype_mean.shape[0]\n",
    "row_sums = np.squeeze(np.asarray(ctype_mean.sum(axis=1)))[:,None]\n",
    "gspec = ctype_mean/(row_sums/N)"
   ]
  },
  {
   "cell_type": "code",
   "execution_count": 63,
   "metadata": {},
   "outputs": [
    {
     "data": {
      "text/plain": [
       "matrix([[  34.56182386,   41.8022879 ,    0.        , ...,   89.48142613,\n",
       "           22.40561622,    0.        ],\n",
       "        [ 164.55089172,    9.73430673,    0.        , ...,   12.1203683 ,\n",
       "            0.        ,    0.        ],\n",
       "        [  19.42005894,   12.94392909,    0.        , ...,   30.07524395,\n",
       "            0.        ,    0.        ],\n",
       "        ...,\n",
       "        [ 319.93867928,    0.        ,    0.        , ...,    0.        ,\n",
       "           24.39619234,    0.        ],\n",
       "        [1017.77826619,    0.        ,    0.        , ...,    0.        ,\n",
       "            0.        ,    0.        ],\n",
       "        [1141.74208663,    0.        ,    0.        , ...,    0.        ,\n",
       "            0.        ,    0.        ]])"
      ]
     },
     "execution_count": 63,
     "metadata": {},
     "output_type": "execute_result"
    }
   ],
   "source": [
    "gspec"
   ]
  },
  {
   "cell_type": "code",
   "execution_count": 64,
   "metadata": {},
   "outputs": [
    {
     "data": {
      "text/plain": [
       "(5253, 20)"
      ]
     },
     "execution_count": 64,
     "metadata": {},
     "output_type": "execute_result"
    }
   ],
   "source": [
    "gspec.shape"
   ]
  },
  {
   "cell_type": "code",
   "execution_count": 65,
   "metadata": {},
   "outputs": [
    {
     "data": {
      "text/plain": [
       "(5253, 20)"
      ]
     },
     "execution_count": 65,
     "metadata": {},
     "output_type": "execute_result"
    }
   ],
   "source": [
    "r_gspec = calcGeneSpecificity(r_final.layers[\"logcounts\"], mask=r_nhoods.X)\n",
    "r_gspec.shape"
   ]
  },
  {
   "cell_type": "code",
   "execution_count": 67,
   "metadata": {},
   "outputs": [
    {
     "data": {
      "text/plain": [
       "(14034, 20)"
      ]
     },
     "execution_count": 67,
     "metadata": {},
     "output_type": "execute_result"
    }
   ],
   "source": [
    "m_gspec = calcGeneSpecificity(m_final.X, mask=m_nhoods.X)\n",
    "m_gspec.shape"
   ]
  },
  {
   "cell_type": "code",
   "execution_count": 68,
   "metadata": {},
   "outputs": [],
   "source": [
    "gspec_cor = np.corrcoef(r_gspec,m_gspec)"
   ]
  },
  {
   "cell_type": "code",
   "execution_count": 73,
   "metadata": {},
   "outputs": [],
   "source": [
    "N = r_gspec.shape[0]\n",
    "gspec_cor = gspec_cor[0:N,N:]"
   ]
  },
  {
   "cell_type": "code",
   "execution_count": 74,
   "metadata": {},
   "outputs": [
    {
     "data": {
      "text/plain": [
       "(5253, 14034)"
      ]
     },
     "execution_count": 74,
     "metadata": {},
     "output_type": "execute_result"
    }
   ],
   "source": [
    "gspec_cor.shape"
   ]
  },
  {
   "cell_type": "code",
   "execution_count": 75,
   "metadata": {},
   "outputs": [
    {
     "data": {
      "text/plain": [
       "array([[0.94510542, 0.97638478, 0.95040586, 0.92983958, 0.95500062],\n",
       "       [0.93911609, 0.97348843, 0.94451899, 0.92378198, 0.94850207],\n",
       "       [0.93803041, 0.97465299, 0.94522356, 0.9230287 , 0.94944886],\n",
       "       [0.91957246, 0.96008133, 0.92606233, 0.90435461, 0.93066863],\n",
       "       [0.94252549, 0.97895595, 0.9496059 , 0.9263779 , 0.9512499 ]])"
      ]
     },
     "execution_count": 75,
     "metadata": {},
     "output_type": "execute_result"
    }
   ],
   "source": [
    "gspec_cor[0:5,0:5]"
   ]
  },
  {
   "cell_type": "code",
   "execution_count": null,
   "metadata": {},
   "outputs": [],
   "source": []
  },
  {
   "cell_type": "code",
   "execution_count": null,
   "metadata": {},
   "outputs": [],
   "source": []
  },
  {
   "cell_type": "code",
   "execution_count": null,
   "metadata": {},
   "outputs": [],
   "source": []
  },
  {
   "cell_type": "code",
   "execution_count": null,
   "metadata": {},
   "outputs": [],
   "source": []
  },
  {
   "cell_type": "code",
   "execution_count": null,
   "metadata": {},
   "outputs": [],
   "source": []
  }
 ],
 "metadata": {
  "kernelspec": {
   "display_name": "Python 3",
   "language": "python",
   "name": "python3"
  },
  "language_info": {
   "codemirror_mode": {
    "name": "ipython",
    "version": 3
   },
   "file_extension": ".py",
   "mimetype": "text/x-python",
   "name": "python",
   "nbconvert_exporter": "python",
   "pygments_lexer": "ipython3",
   "version": "3.8.5"
  }
 },
 "nbformat": 4,
 "nbformat_minor": 4
}
