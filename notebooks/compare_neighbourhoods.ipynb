{
 "cells": [
  {
   "cell_type": "markdown",
   "metadata": {},
   "source": [
    "# Compare neighbourhoods"
   ]
  },
  {
   "cell_type": "code",
   "execution_count": 67,
   "metadata": {},
   "outputs": [],
   "source": [
    "import scanpy as sc\n",
    "import pandas as pd\n",
    "import numpy as np\n",
    "from scipy.sparse import csr_matrix\n",
    "import random\n",
    "import scipy as scipy"
   ]
  },
  {
   "cell_type": "markdown",
   "metadata": {},
   "source": [
    "## Load data"
   ]
  },
  {
   "cell_type": "code",
   "execution_count": 5,
   "metadata": {},
   "outputs": [
    {
     "data": {
      "text/plain": [
       "AnnData object with n_obs × n_vars = 430339 × 23972\n",
       "    obs: 'sample', 'stage', 'stage.mapped', 'celltype', 'celltype.extended', 'tube_name', 'somite_count', 'cluster', 'cluster.sub', 'louvain', 'leiden', 'celltype.clustering', 'day'\n",
       "    var: 'highly_variable', 'means', 'dispersions', 'dispersions_norm'\n",
       "    uns: 'celltype_colors', 'draw_graph', 'leiden', 'louvain', 'neighbors', 'pca', 'umap'\n",
       "    obsm: 'X_draw_graph_fa', 'X_pca', 'X_umap'\n",
       "    varm: 'PCs'\n",
       "    obsp: 'connectivities', 'distances'"
      ]
     },
     "execution_count": 5,
     "metadata": {},
     "output_type": "execute_result"
    }
   ],
   "source": [
    "m_data = sc.read_h5ad(\"../data-in/mouse/anndata.h5ad\")\n",
    "m_data"
   ]
  },
  {
   "cell_type": "code",
   "execution_count": 89,
   "metadata": {},
   "outputs": [
    {
     "data": {
      "text/plain": [
       "AnnData object with n_obs × n_vars = 146133 × 30725\n",
       "    obs: 'cell', 'barcode', 'sample', 'stage', 'batch', 'doub.density', 'doublet', 'stripped', 'cluster', 'cluster.sub', 'cluster.stage', 'cluster.theiler', 'sizeFactor', 'celltype', 'singler', 'leiden_res1', 'leiden_res2', 'leiden_res1_5', 'leiden_res2_5', 'leiden_res3', 'leiden_res5', 'leiden_res10', 'leiden_res6', 'leiden_res7', 'leiden_res8', 'anatomical_loc', 'day'\n",
       "    var: 'ensembl_ids'\n",
       "    uns: 'anatomical_loc_colors', 'celltype_colors', 'draw_graph', 'leiden', 'neighbors', 'singler_colors', 'umap'\n",
       "    obsm: 'X_draw_graph_fa', 'X_pca', 'X_tsne', 'X_umap'\n",
       "    layers: 'logcounts'\n",
       "    obsp: 'connectivities', 'distances'"
      ]
     },
     "execution_count": 89,
     "metadata": {},
     "output_type": "execute_result"
    }
   ],
   "source": [
    "r_data = sc.read_h5ad(\"../data-in/rabbit/anndata.h5ad\")\n",
    "r_data"
   ]
  },
  {
   "cell_type": "code",
   "execution_count": 96,
   "metadata": {},
   "outputs": [
    {
     "data": {
      "text/html": [
       "<div>\n",
       "<style scoped>\n",
       "    .dataframe tbody tr th:only-of-type {\n",
       "        vertical-align: middle;\n",
       "    }\n",
       "\n",
       "    .dataframe tbody tr th {\n",
       "        vertical-align: top;\n",
       "    }\n",
       "\n",
       "    .dataframe thead th {\n",
       "        text-align: right;\n",
       "    }\n",
       "</style>\n",
       "<table border=\"1\" class=\"dataframe\">\n",
       "  <thead>\n",
       "    <tr style=\"text-align: right;\">\n",
       "      <th></th>\n",
       "      <th>ref</th>\n",
       "      <th>query</th>\n",
       "    </tr>\n",
       "  </thead>\n",
       "  <tbody>\n",
       "    <tr>\n",
       "      <th>ENSOCUG00000000006</th>\n",
       "      <td>ENSOCUG00000000006</td>\n",
       "      <td>ENSMUSG00000026102</td>\n",
       "    </tr>\n",
       "    <tr>\n",
       "      <th>ENSOCUG00000000007</th>\n",
       "      <td>ENSOCUG00000000007</td>\n",
       "      <td>ENSMUSG00000028480</td>\n",
       "    </tr>\n",
       "    <tr>\n",
       "      <th>ENSOCUG00000000008</th>\n",
       "      <td>ENSOCUG00000000008</td>\n",
       "      <td>ENSMUSG00000070999</td>\n",
       "    </tr>\n",
       "    <tr>\n",
       "      <th>ENSOCUG00000000009</th>\n",
       "      <td>ENSOCUG00000000009</td>\n",
       "      <td>ENSMUSG00000028478</td>\n",
       "    </tr>\n",
       "    <tr>\n",
       "      <th>ENSOCUG00000000010</th>\n",
       "      <td>ENSOCUG00000000010</td>\n",
       "      <td>ENSMUSG00000028479</td>\n",
       "    </tr>\n",
       "    <tr>\n",
       "      <th>...</th>\n",
       "      <td>...</td>\n",
       "      <td>...</td>\n",
       "    </tr>\n",
       "    <tr>\n",
       "      <th>ENSOCUG00000039241</th>\n",
       "      <td>ENSOCUG00000039241</td>\n",
       "      <td>ENSMUSG00000022255</td>\n",
       "    </tr>\n",
       "    <tr>\n",
       "      <th>ENSOCUG00000039281</th>\n",
       "      <td>ENSOCUG00000039281</td>\n",
       "      <td>ENSMUSG00000024885</td>\n",
       "    </tr>\n",
       "    <tr>\n",
       "      <th>ENSOCUG00000039392</th>\n",
       "      <td>ENSOCUG00000039392</td>\n",
       "      <td>ENSMUSG00000014852</td>\n",
       "    </tr>\n",
       "    <tr>\n",
       "      <th>ENSOCUG00000039553</th>\n",
       "      <td>ENSOCUG00000039553</td>\n",
       "      <td>ENSMUSG00000009566</td>\n",
       "    </tr>\n",
       "    <tr>\n",
       "      <th>ENSOCUG00000039673</th>\n",
       "      <td>ENSOCUG00000039673</td>\n",
       "      <td>ENSMUSG00000020431</td>\n",
       "    </tr>\n",
       "  </tbody>\n",
       "</table>\n",
       "<p>13738 rows × 2 columns</p>\n",
       "</div>"
      ],
      "text/plain": [
       "                                   ref               query\n",
       "ENSOCUG00000000006  ENSOCUG00000000006  ENSMUSG00000026102\n",
       "ENSOCUG00000000007  ENSOCUG00000000007  ENSMUSG00000028480\n",
       "ENSOCUG00000000008  ENSOCUG00000000008  ENSMUSG00000070999\n",
       "ENSOCUG00000000009  ENSOCUG00000000009  ENSMUSG00000028478\n",
       "ENSOCUG00000000010  ENSOCUG00000000010  ENSMUSG00000028479\n",
       "...                                ...                 ...\n",
       "ENSOCUG00000039241  ENSOCUG00000039241  ENSMUSG00000022255\n",
       "ENSOCUG00000039281  ENSOCUG00000039281  ENSMUSG00000024885\n",
       "ENSOCUG00000039392  ENSOCUG00000039392  ENSMUSG00000014852\n",
       "ENSOCUG00000039553  ENSOCUG00000039553  ENSMUSG00000009566\n",
       "ENSOCUG00000039673  ENSOCUG00000039673  ENSMUSG00000020431\n",
       "\n",
       "[13738 rows x 2 columns]"
      ]
     },
     "execution_count": 96,
     "metadata": {},
     "output_type": "execute_result"
    }
   ],
   "source": [
    "orthologs = pd.read_csv(\"../data-in/orthologs.tsv\", sep=\"\\t\")\n",
    "orthologs"
   ]
  },
  {
   "cell_type": "markdown",
   "metadata": {},
   "source": [
    "## Load neighbourhood data"
   ]
  },
  {
   "cell_type": "code",
   "execution_count": 90,
   "metadata": {},
   "outputs": [
    {
     "data": {
      "text/plain": [
       "AnnData object with n_obs × n_vars = 146133 × 5392"
      ]
     },
     "execution_count": 90,
     "metadata": {},
     "output_type": "execute_result"
    }
   ],
   "source": [
    "r_nhoods = sc.read_mtx(\"../data-out/compare_neighbourhoods/r_nhoods.mtx\")\n",
    "r_nhoods"
   ]
  },
  {
   "cell_type": "code",
   "execution_count": 91,
   "metadata": {},
   "outputs": [
    {
     "data": {
      "text/plain": [
       "AnnData object with n_obs × n_vars = 430339 × 14034"
      ]
     },
     "execution_count": 91,
     "metadata": {},
     "output_type": "execute_result"
    }
   ],
   "source": [
    "m_nhoods = sc.read_mtx(\"../data-out/compare_neighbourhoods/m_nhoods.mtx\")\n",
    "m_nhoods"
   ]
  },
  {
   "cell_type": "markdown",
   "metadata": {},
   "source": [
    "### Downsample"
   ]
  },
  {
   "cell_type": "code",
   "execution_count": 64,
   "metadata": {},
   "outputs": [
    {
     "name": "stderr",
     "output_type": "stream",
     "text": [
      "/hps/software/users/marioni/dkeitley/miniconda3/envs/pyenv/lib/python3.8/site-packages/anndata/_core/anndata.py:1094: FutureWarning: is_categorical is deprecated and will be removed in a future version.  Use is_categorical_dtype instead\n",
      "  if not is_categorical(df_full[k]):\n"
     ]
    },
    {
     "data": {
      "text/plain": [
       "View of AnnData object with n_obs × n_vars = 150000 × 23972\n",
       "    obs: 'sample', 'stage', 'stage.mapped', 'celltype', 'celltype.extended', 'tube_name', 'somite_count', 'cluster', 'cluster.sub', 'louvain', 'leiden', 'celltype.clustering', 'day'\n",
       "    var: 'highly_variable', 'means', 'dispersions', 'dispersions_norm'\n",
       "    uns: 'celltype_colors', 'draw_graph', 'leiden', 'louvain', 'neighbors', 'pca', 'umap'\n",
       "    obsm: 'X_draw_graph_fa', 'X_pca', 'X_umap'\n",
       "    varm: 'PCs'\n",
       "    obsp: 'connectivities', 'distances'"
      ]
     },
     "execution_count": 64,
     "metadata": {},
     "output_type": "execute_result"
    }
   ],
   "source": [
    "ds_cells = random.sample(range(0, 430339), 150000)\n",
    "m_dataDS = m_data[ds_cells,:]\n",
    "m_nhoodsDS = m_nhoods[ds_cells,:]\n",
    "m_dataDS"
   ]
  },
  {
   "cell_type": "markdown",
   "metadata": {},
   "source": [
    "### Compute gene specificity"
   ]
  },
  {
   "cell_type": "code",
   "execution_count": 137,
   "metadata": {},
   "outputs": [],
   "source": [
    "# nan entries correspond to non-expressed genes, can be removed prior\n",
    "def calcGeneSpecificity(adata,group_by=None, mask=None):\n",
    "    if(mask is None):\n",
    "        mask = pd.get_dummies(adata.obs[group_by])\n",
    "        \n",
    "    ncells=mask.sum(0)\n",
    "    ncells_array = np.squeeze(np.asarray(1/ncells))\n",
    "    ncells_mat = scipy.sparse.diags(ncells_array)\n",
    "    mask = scipy.sparse.csr_matrix(mask).T\n",
    "\n",
    "    ctype_sum = mask@adata.X\n",
    "    ctype_mean = ncells_mat@ctype_sum\n",
    "    \n",
    "    N = ctype_mean.shape[0]\n",
    "    row_sums = np.squeeze(np.asarray(ctype_mean.sum(axis=1)))[:,None]\n",
    "    gspec = ctype_mean/(row_sums/N) #TODO: make this sparse    \n",
    "    \n",
    "    return(gspec)\n",
    "\n",
    "\n",
    "\n",
    "def filterGenes(adata,orthologs,top_hvgs=None):\n",
    "    # Filter expressing genes\n",
    "    exp_genes = sc.pp.filter_genes(adata,min_counts=1,inplace=False)\n",
    "    filt = adata[:,exp_genes[0]]\n",
    "        \n",
    "    # Filter one-to-one orthologs\n",
    "    filt = filt[:,filt.var.index.isin(orthologs)]\n",
    "           \n",
    "    return(filt)\n",
    "\n",
    "\n",
    "def chooseCommonGenes(r_filt,m_filt,orthologs,use_hvgs=False,join_type=\"intersect\"):\n",
    "    r_genes = r_filt.var.index\n",
    "    m_genes = m_filt.var.index\n",
    "    common_genes = orthologs.loc[orthologs.iloc[:,0].isin(r_genes) & orthologs.iloc[:,1].isin(m_genes),:]\n",
    "    \n",
    "    if(use_hvgs):\n",
    "        r_hvgs = r_genes[r_filt.var[\"highly_variable\"]]\n",
    "        m_hvgs = m_genes[m_filt.var[\"highly_variable\"]]\n",
    "        \n",
    "        if(join_type==\"union\"): \n",
    "            common_genes = common_genes.loc[orthologs.iloc[:,0].isin(r_hvgs) | orthologs.iloc[:,1].isin(m_hvgs),:]\n",
    "\n",
    "        else:\n",
    "            common_genes = common_genes.loc[orthologs.iloc[:,0].isin(r_hvgs) & orthologs.iloc[:,1].isin(m_hvgs),:]\n",
    "\n",
    "    return(common_genes)\n"
   ]
  },
  {
   "cell_type": "code",
   "execution_count": 115,
   "metadata": {},
   "outputs": [
    {
     "name": "stderr",
     "output_type": "stream",
     "text": [
      "/hps/software/users/marioni/dkeitley/miniconda3/envs/pyenv/lib/python3.8/site-packages/anndata/_core/anndata.py:1094: FutureWarning: is_categorical is deprecated and will be removed in a future version.  Use is_categorical_dtype instead\n",
      "  if not is_categorical(df_full[k]):\n"
     ]
    },
    {
     "data": {
      "text/plain": [
       "View of AnnData object with n_obs × n_vars = 146133 × 13480\n",
       "    obs: 'cell', 'barcode', 'sample', 'stage', 'batch', 'doub.density', 'doublet', 'stripped', 'cluster', 'cluster.sub', 'cluster.stage', 'cluster.theiler', 'sizeFactor', 'celltype', 'singler', 'leiden_res1', 'leiden_res2', 'leiden_res1_5', 'leiden_res2_5', 'leiden_res3', 'leiden_res5', 'leiden_res10', 'leiden_res6', 'leiden_res7', 'leiden_res8', 'anatomical_loc', 'day'\n",
       "    var: 'ensembl_ids', 'highly_variable', 'means', 'dispersions', 'dispersions_norm'\n",
       "    uns: 'anatomical_loc_colors', 'celltype_colors', 'draw_graph', 'leiden', 'neighbors', 'singler_colors', 'umap', 'log1p', 'hvg'\n",
       "    obsm: 'X_draw_graph_fa', 'X_pca', 'X_tsne', 'X_umap'\n",
       "    layers: 'logcounts'\n",
       "    obsp: 'connectivities', 'distances'"
      ]
     },
     "execution_count": 115,
     "metadata": {},
     "output_type": "execute_result"
    }
   ],
   "source": [
    "#sc.pp.log1p(r_data)\n",
    "sc.pp.highly_variable_genes(r_data,n_top_genes=2000)\n",
    "r_filt = filterGenes(r_data,orthologs=orthologs[\"ref\"])\n",
    "r_filt "
   ]
  },
  {
   "cell_type": "code",
   "execution_count": 116,
   "metadata": {},
   "outputs": [
    {
     "name": "stderr",
     "output_type": "stream",
     "text": [
      "/hps/software/users/marioni/dkeitley/miniconda3/envs/pyenv/lib/python3.8/site-packages/anndata/_core/anndata.py:1094: FutureWarning: is_categorical is deprecated and will be removed in a future version.  Use is_categorical_dtype instead\n",
      "  if not is_categorical(df_full[k]):\n"
     ]
    },
    {
     "data": {
      "text/plain": [
       "View of AnnData object with n_obs × n_vars = 430339 × 13697\n",
       "    obs: 'sample', 'stage', 'stage.mapped', 'celltype', 'celltype.extended', 'tube_name', 'somite_count', 'cluster', 'cluster.sub', 'louvain', 'leiden', 'celltype.clustering', 'day'\n",
       "    var: 'highly_variable', 'means', 'dispersions', 'dispersions_norm'\n",
       "    uns: 'celltype_colors', 'draw_graph', 'leiden', 'louvain', 'neighbors', 'pca', 'umap', 'hvg'\n",
       "    obsm: 'X_draw_graph_fa', 'X_pca', 'X_umap'\n",
       "    varm: 'PCs'\n",
       "    obsp: 'connectivities', 'distances'"
      ]
     },
     "execution_count": 116,
     "metadata": {},
     "output_type": "execute_result"
    }
   ],
   "source": [
    "sc.pp.highly_variable_genes(m_data,n_top_genes=2000)\n",
    "m_filt = filterGenes(m_data, orthologs=orthologs[\"query\"])\n",
    "m_filt "
   ]
  },
  {
   "cell_type": "code",
   "execution_count": 138,
   "metadata": {},
   "outputs": [],
   "source": [
    "common_genes = chooseCommonGenes(r_filt,m_filt, orthologs, use_hvgs=True, join_type=\"union\")\n",
    "r_filt = r_filt[:,common_genes[\"ref\"]]\n",
    "m_filt = m_filt[:,common_genes[\"query\"]]"
   ]
  },
  {
   "cell_type": "code",
   "execution_count": 139,
   "metadata": {},
   "outputs": [
    {
     "data": {
      "text/plain": [
       "View of AnnData object with n_obs × n_vars = 146133 × 2153\n",
       "    obs: 'cell', 'barcode', 'sample', 'stage', 'batch', 'doub.density', 'doublet', 'stripped', 'cluster', 'cluster.sub', 'cluster.stage', 'cluster.theiler', 'sizeFactor', 'celltype', 'singler', 'leiden_res1', 'leiden_res2', 'leiden_res1_5', 'leiden_res2_5', 'leiden_res3', 'leiden_res5', 'leiden_res10', 'leiden_res6', 'leiden_res7', 'leiden_res8', 'anatomical_loc', 'day'\n",
       "    var: 'ensembl_ids', 'highly_variable', 'means', 'dispersions', 'dispersions_norm'\n",
       "    uns: 'anatomical_loc_colors', 'celltype_colors', 'draw_graph', 'leiden', 'neighbors', 'singler_colors', 'umap', 'log1p', 'hvg'\n",
       "    obsm: 'X_draw_graph_fa', 'X_pca', 'X_tsne', 'X_umap'\n",
       "    layers: 'logcounts'\n",
       "    obsp: 'connectivities', 'distances'"
      ]
     },
     "execution_count": 139,
     "metadata": {},
     "output_type": "execute_result"
    }
   ],
   "source": [
    "r_filt"
   ]
  },
  {
   "cell_type": "code",
   "execution_count": 140,
   "metadata": {},
   "outputs": [
    {
     "data": {
      "text/plain": [
       "View of AnnData object with n_obs × n_vars = 430339 × 2153\n",
       "    obs: 'sample', 'stage', 'stage.mapped', 'celltype', 'celltype.extended', 'tube_name', 'somite_count', 'cluster', 'cluster.sub', 'louvain', 'leiden', 'celltype.clustering', 'day'\n",
       "    var: 'highly_variable', 'means', 'dispersions', 'dispersions_norm'\n",
       "    uns: 'celltype_colors', 'draw_graph', 'leiden', 'louvain', 'neighbors', 'pca', 'umap', 'hvg'\n",
       "    obsm: 'X_draw_graph_fa', 'X_pca', 'X_umap'\n",
       "    varm: 'PCs'\n",
       "    obsp: 'connectivities', 'distances'"
      ]
     },
     "execution_count": 140,
     "metadata": {},
     "output_type": "execute_result"
    }
   ],
   "source": [
    "m_filt"
   ]
  },
  {
   "cell_type": "code",
   "execution_count": 141,
   "metadata": {},
   "outputs": [],
   "source": [
    "r_gspec = calcGeneSpecificity(r_filt, mask=r_nhoods.X)"
   ]
  },
  {
   "cell_type": "code",
   "execution_count": 142,
   "metadata": {},
   "outputs": [],
   "source": [
    "m_gspec = calcGeneSpecificity(m_filt, mask=m_nhoods.X)"
   ]
  },
  {
   "cell_type": "code",
   "execution_count": 143,
   "metadata": {},
   "outputs": [
    {
     "data": {
      "text/plain": [
       "(5392, 2153)"
      ]
     },
     "execution_count": 143,
     "metadata": {},
     "output_type": "execute_result"
    }
   ],
   "source": [
    "r_gspec.shape"
   ]
  },
  {
   "cell_type": "code",
   "execution_count": 144,
   "metadata": {},
   "outputs": [
    {
     "data": {
      "text/plain": [
       "(14034, 2153)"
      ]
     },
     "execution_count": 144,
     "metadata": {},
     "output_type": "execute_result"
    }
   ],
   "source": [
    "m_gspec.shape"
   ]
  },
  {
   "cell_type": "code",
   "execution_count": 145,
   "metadata": {},
   "outputs": [],
   "source": [
    "gspec_cor = np.corrcoef(r_gspec,m_gspec)"
   ]
  },
  {
   "cell_type": "code",
   "execution_count": 150,
   "metadata": {},
   "outputs": [],
   "source": [
    "N = r_gspec.shape[0]\n",
    "gspec_cor = gspec_cor[0:N,N:]"
   ]
  },
  {
   "cell_type": "code",
   "execution_count": 156,
   "metadata": {},
   "outputs": [],
   "source": [
    "np.savetxt(\"../data-out/compare_neighbourhoods/gspec_cor.tsv\", gspec_cor, delimiter=\"\\t\")\n"
   ]
  },
  {
   "cell_type": "code",
   "execution_count": null,
   "metadata": {},
   "outputs": [],
   "source": []
  }
 ],
 "metadata": {
  "kernelspec": {
   "display_name": "Python 3",
   "language": "python",
   "name": "python3"
  },
  "language_info": {
   "codemirror_mode": {
    "name": "ipython",
    "version": 3
   },
   "file_extension": ".py",
   "mimetype": "text/x-python",
   "name": "python",
   "nbconvert_exporter": "python",
   "pygments_lexer": "ipython3",
   "version": "3.8.5"
  }
 },
 "nbformat": 4,
 "nbformat_minor": 4
}
