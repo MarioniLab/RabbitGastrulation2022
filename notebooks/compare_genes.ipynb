{
 "cells": [
  {
   "cell_type": "markdown",
   "id": "45ab78a6-5e45-4d9b-8147-86fc43e62b78",
   "metadata": {},
   "source": [
    "# Comparing genes"
   ]
  },
  {
   "cell_type": "code",
   "execution_count": null,
   "id": "bc6284a7-912d-4cc2-b5bb-9f7e2dafb29b",
   "metadata": {},
   "outputs": [],
   "source": [
    "library(scrabbitr)\n",
    "library(enrichR)"
   ]
  },
  {
   "cell_type": "markdown",
   "id": "c689bef7-803d-413a-be0e-cd76cc649359",
   "metadata": {},
   "source": [
    "## Load data"
   ]
  },
  {
   "cell_type": "code",
   "execution_count": null,
   "id": "b816ea91-d6a6-4e6e-a527-4f4d7fbd9207",
   "metadata": {},
   "outputs": [],
   "source": [
    "r_data <- loadRabbitData(\"../data-in/rabbit/\")\n",
    "m_data <- loadMouseData(\"../data-in/mouse/\")"
   ]
  },
  {
   "cell_type": "code",
   "execution_count": 13,
   "id": "f5ad6ae5-7424-4089-ba2e-ef767ab70f45",
   "metadata": {},
   "outputs": [],
   "source": [
    "rm_one2one <- read.table(\"../data-in/orthologs.tsv\",sep=\"\\t\")"
   ]
  },
  {
   "cell_type": "code",
   "execution_count": null,
   "id": "f19f851f-fc4b-4dd7-8585-fb79d09b7529",
   "metadata": {},
   "outputs": [],
   "source": []
  },
  {
   "cell_type": "code",
   "execution_count": null,
   "id": "62f6dab2-9fbc-4177-8fcd-cf88cc1c5671",
   "metadata": {},
   "outputs": [],
   "source": []
  },
  {
   "cell_type": "code",
   "execution_count": null,
   "id": "b98a3c87-248d-4d29-87cb-1113efb4b52d",
   "metadata": {},
   "outputs": [],
   "source": []
  },
  {
   "cell_type": "markdown",
   "id": "36debc7a-3580-4195-9715-96e8a8e95a38",
   "metadata": {},
   "source": [
    "## Compute marker genes"
   ]
  },
  {
   "cell_type": "markdown",
   "id": "7ac8ec5a-1aa5-4723-ba11-d2e1f9070549",
   "metadata": {},
   "source": [
    "### Sample cells"
   ]
  },
  {
   "cell_type": "code",
   "execution_count": null,
   "id": "ae6ae37d-8f89-43ee-bf15-a86510fbc4e3",
   "metadata": {},
   "outputs": [],
   "source": []
  },
  {
   "cell_type": "code",
   "execution_count": 7,
   "id": "6399dbe0-552e-4b47-a2a1-b9238a50d426",
   "metadata": {},
   "outputs": [],
   "source": [
    "# Load precomputed markers\n",
    "r_markers <- readRDS(\"../data-out/compare_genes/r_markers.rds\")\n",
    "m_markers <- readRDS(\"../data-out/compare_genes/m_markers.rds\")"
   ]
  },
  {
   "cell_type": "markdown",
   "id": "e3b981ed-f96b-4ec4-8f5e-6aa7f091eda1",
   "metadata": {},
   "source": [
    "## Compare marker genes"
   ]
  },
  {
   "cell_type": "code",
   "execution_count": 11,
   "id": "1f2fa0ca-e851-4cd0-8f4f-312a67173a6e",
   "metadata": {},
   "outputs": [],
   "source": [
    "ctype_shared = c('Allantois',\n",
    " 'Allantois endothelium',\n",
    " 'Anterior cardiopharyngeal progenitors',\n",
    " 'Anterior somitic tissues',\n",
    " 'Cardiomyocytes FHF 1',\n",
    " 'Cardiomyocytes FHF 2',\n",
    " 'Cardiopharyngeal progenitors',\n",
    " 'Caudal mesoderm',\n",
    " 'Cranial mesoderm',\n",
    " 'Dermomyotome',\n",
    " 'EMP',\n",
    " 'EPDC',\n",
    " 'Embryo proper endothelium',\n",
    " 'Endocardium',\n",
    " 'Epiblast',\n",
    " 'Epicardium',\n",
    " 'Erythroid',\n",
    " 'Gut tube',\n",
    " 'Lateral plate mesoderm',\n",
    " 'Limb mesoderm',\n",
    " 'MEP',\n",
    " 'Megakariocytes',\n",
    " 'Mesenchyme',\n",
    " 'Mesothelium',\n",
    " 'Midgut',\n",
    " 'Migratory neural crest',\n",
    " 'NMPs',\n",
    " 'NMPs/Mesoderm-biased',\n",
    " 'Nephron progenitors',\n",
    " 'Neural tube',\n",
    " 'Node',\n",
    " 'Non-neural ectoderm 1',\n",
    " 'Non-neural ectoderm 2',\n",
    " 'Non-neural ectoderm 3',\n",
    " 'Non-neural ectoderm 4',\n",
    " 'Notochord',\n",
    " 'Otic placode',\n",
    " 'PGC',\n",
    " 'Parietal endoderm',\n",
    " 'Pharyngeal endoderm',\n",
    " 'Posterior somitic tissues',\n",
    " 'Presomitic mesoderm',\n",
    " 'Primitive Streak',\n",
    " 'Sclerotome',\n",
    " 'Somitic mesoderm',\n",
    " 'Thyroid primordium',\n",
    " 'Venous endothelium',\n",
    " 'Visceral endoderm',\n",
    " 'YS endothelium')"
   ]
  },
  {
   "cell_type": "code",
   "execution_count": null,
   "id": "09b5a010-d1f4-4ba5-88c6-42fab740f045",
   "metadata": {},
   "outputs": [],
   "source": [
    "rm_markers <- lapply(ctype_shared,function(celltype){\n",
    "  rct_markers <- r_markers[[celltype]][,c(\"p.value\",\"FDR\",\"summary.logFC\")]\n",
    "  mct_markers <- m_markers[[celltype]][,c(\"p.value\",\"FDR\",\"summary.logFC\")]\n",
    "  \n",
    "  # Add gene name/ensembl id info\n",
    "  rct_markers$rgene <- rownames(rct_markers)\n",
    "  mct_markers$mgene <- rownames(mct_markers)\n",
    "  \n",
    "  rct_markers$rensembl <- rabbit.genes[rownames(rct_markers),1]\n",
    "  mct_markers$mensembl <- mouse.genes[rownames(mct_markers),1]\n",
    "  \n",
    "  # Subset one-to-one orthologs\n",
    "  rct_markers <- rct_markers[rct_markers$rensembl %in% rm_one2one$ref,]\n",
    "  mct_markers <- mct_markers[mct_markers$mensembl %in% rm_one2one$query,]\n",
    "  \n",
    "  rownames(rct_markers) <- sfs[rct_markers$rabbit_ensembl_id,\"query\"]\n",
    "  rownames(mct_markers) <- mct_markers$mouse_ensembl_id\n",
    "  \n",
    "  # Merge together markers\n",
    "  markers <- merge(rct_markers,mct_markers,by=0,all=F)\n",
    "  \n",
    "  # Remove non-significant degs\n",
    "  markers <- markers[markers$p.value.x < 0.05 | markers$p.value.y < 0.05,]\n",
    "  \n",
    "  markers <- markers[order(markers$p.value.x,-markers$summary.logFC.x,decreasing = F),]\n",
    "  markers <- markers[,c(\"rabbit_gene_name\",\"rabbit_ensembl_id\",\"mouse_gene_name\",\n",
    "                        \"mouse_ensembl_id\",\"p.value.x\",\"p.value.y\",\"FDR.x\",\"FDR.y\",\n",
    "                        \"summary.logFC.x\",\"summary.logFC.y\")]\n",
    "  \n",
    "  # Assign unique or shared\n",
    "  markers$class <- \"\"\n",
    "  markers$class[(markers$p.value.x < 0.05) & (markers$p.value.y < 0.05) &\n",
    "                  sign(markers$summary.logFC.x)==sign(markers$summary.logFC.y)] <- \"shared\"\n",
    "  markers$class[(markers$p.value.x < 0.05) & (markers$p.value.y > 0.05)] <- \"rabbit unique\"\n",
    "  markers$class[(markers$p.value.y < 0.05) & (markers$p.value.x > 0.05)] <- \"mouse unique\"\n",
    "  markers$class <- as.factor(markers$class)\n",
    "  \n",
    "  return(markers)\n",
    "  \n",
    "}) \n",
    "names(rm_markers) <- ctype_shared\n"
   ]
  },
  {
   "cell_type": "markdown",
   "id": "f3f450e5-7c7d-43bb-ab67-dbbb5a4ce6bd",
   "metadata": {},
   "source": [
    "### Gene set enrichment"
   ]
  },
  {
   "cell_type": "code",
   "execution_count": 10,
   "id": "5de87d3a-8664-4f1c-b0bc-b10750c27858",
   "metadata": {},
   "outputs": [],
   "source": [
    "dbs <- c(\"GO_Molecular_Function_2021\", \"GO_Cellular_Component_2021\", \"GO_Biological_Process_2021\")\n",
    "\n",
    "if (websiteLive) {\n",
    "    enriched <- enrichr(c(\"Runx1\", \"Gfi1\", \"Gfi1b\", \"Spi1\", \"Gata1\", \"Kdr\"), dbs)\n",
    "}"
   ]
  },
  {
   "cell_type": "markdown",
   "id": "47a974ad-2633-4d71-928c-e6a98c2de902",
   "metadata": {},
   "source": [
    "## Integration "
   ]
  },
  {
   "cell_type": "code",
   "execution_count": null,
   "id": "4aaf2070-3fd8-4907-a5c7-37ee1d242c11",
   "metadata": {},
   "outputs": [],
   "source": []
  }
 ],
 "metadata": {
  "kernelspec": {
   "display_name": "R",
   "language": "R",
   "name": "ir"
  },
  "language_info": {
   "codemirror_mode": "r",
   "file_extension": ".r",
   "mimetype": "text/x-r-source",
   "name": "R",
   "pygments_lexer": "r",
   "version": "4.0.3"
  }
 },
 "nbformat": 4,
 "nbformat_minor": 5
}
