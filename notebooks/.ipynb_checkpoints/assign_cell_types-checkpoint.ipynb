{
 "cells": [
  {
   "cell_type": "markdown",
   "id": "b5568c2d",
   "metadata": {},
   "source": [
    "# Cell type annotation\n",
    "\n",
    "In this notebook, we use a manual annotation approach, based on marker gene expression, to validate the cell type predictions of the automated annotation model. "
   ]
  },
  {
   "cell_type": "code",
   "execution_count": null,
   "id": "2e88753b",
   "metadata": {},
   "outputs": [],
   "source": [
    "# Load data\n",
    "r_data = sc.read_h5ad(\"../data/cell_type_annotation/rabbit.h5ad\")\n",
    "orthologs = pd.read_csv(\"../data/orthologs/orthologs_mouse_ext.tsv\",sep=\"\\t\")\n",
    "\n"
   ]
  },
  {
   "cell_type": "markdown",
   "id": "842fa40a",
   "metadata": {},
   "source": [
    "To simplify the annotation process, the dataset is initially divded into broad regions to be annotated independently. "
   ]
  },
  {
   "cell_type": "code",
   "execution_count": null,
   "id": "13fda566",
   "metadata": {},
   "outputs": [],
   "source": [
    "blood = rabbit[rabbit.obs[\"leiden_res1\"].isin(['4','19','20','8']),]\n",
    "mesoderm = rabbit[rabbit.obs[\"leiden_res1\"].isin(['17','2','12','22']),]\n",
    "neural = rabbit[rabbit.obs[\"leiden_res1\"].isin(['3','7']),]\n",
    "misc = rabbit[rabbit.obs[\"leiden_res1\"].isin(['6','23','21','18']),]\n",
    "exe_ectoderm = rabbit[rabbit.obs[\"leiden_res1\"].isin(['9','0','16']),]\n",
    "exe_mesoderm = rabbit[rabbit.obs[\"leiden_res1\"].isin(['5','14','10','1','22']),]\n",
    "exe_endoderm = rabbit[rabbit.obs[\"leiden_res1\"].isin(['13','15','11']),]\n",
    "\n"
   ]
  },
  {
   "cell_type": "markdown",
   "id": "a361361e",
   "metadata": {},
   "source": []
  }
 ],
 "metadata": {
  "kernelspec": {
   "display_name": "Python 3",
   "language": "python",
   "name": "python3"
  },
  "language_info": {
   "codemirror_mode": {
    "name": "ipython",
    "version": 3
   },
   "file_extension": ".py",
   "mimetype": "text/x-python",
   "name": "python",
   "nbconvert_exporter": "python",
   "pygments_lexer": "ipython3",
   "version": "3.8.5"
  }
 },
 "nbformat": 4,
 "nbformat_minor": 5
}
