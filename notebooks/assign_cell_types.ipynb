{
 "cells": [
  {
   "cell_type": "markdown",
   "id": "f1c7b78d",
   "metadata": {},
   "source": [
    "# Cell type assignment\n",
    "\n",
    "In this notebook, we use a manual annotation approach, based on marker gene expression, to validate the cell type predictions of the automated annotation model. "
   ]
  },
  {
   "cell_type": "code",
   "execution_count": 52,
   "id": "d66a2582",
   "metadata": {},
   "outputs": [],
   "source": [
    "import scrabbitpy\n",
    "import scanpy as sc\n",
    "import pandas as pd\n",
    "import numpy as np\n",
    "from pathlib import Path\n"
   ]
  },
  {
   "cell_type": "markdown",
   "id": "a1905e10",
   "metadata": {},
   "source": [
    "### Load data"
   ]
  },
  {
   "cell_type": "code",
   "execution_count": 66,
   "id": "bd79a8dd",
   "metadata": {},
   "outputs": [],
   "source": [
    "# Load data\n",
    "r_data = sc.read_h5ad(\"../data-in/cell_type_annotation/rabbit_corrected_clustered.h5ad\")\n",
    "orthologs = pd.read_csv(\"../data-in/orthologs/rabbit_mouse_orthologs.tsv\", sep=\"\\t\")\n"
   ]
  },
  {
   "cell_type": "code",
   "execution_count": 50,
   "id": "3dc552fe",
   "metadata": {},
   "outputs": [],
   "source": [
    "m_markers = pd.read_csv(\"../data-in/cell_type_annotation/celltype_markers.tsv\", sep=\"\\t\")\n",
    "m_markers = {i: m_markers[i].dropna().to_list() for i in m_markers.columns}\n"
   ]
  },
  {
   "cell_type": "code",
   "execution_count": null,
   "id": "893cb271",
   "metadata": {},
   "outputs": [],
   "source": []
  },
  {
   "cell_type": "markdown",
   "id": "86186242",
   "metadata": {},
   "source": [
    "### Cluster data"
   ]
  },
  {
   "cell_type": "markdown",
   "id": "b7077a79",
   "metadata": {},
   "source": [
    "Cell type labels are assigned to clusters identified in the high-dimensional gene expression space. Here we perfrom Leiden clustering at various resolutions to identify both coarse and fine-grained populations of cells.\n",
    "\n",
    "For the sake of brevity, here we have used precomputed clusterings. See `scripts/cluster.py` to run the full clustering.  "
   ]
  },
  {
   "cell_type": "code",
   "execution_count": null,
   "id": "1f7221ae",
   "metadata": {},
   "outputs": [],
   "source": [
    "# Load clusters from file\n",
    "clusters = pd.read_csv(\"../data-in/cell_type_annotation/clusters.tsv\",sep=\"\\t\")\n",
    "r_data.obs = r_data.obs.join(clusters)\n"
   ]
  },
  {
   "cell_type": "markdown",
   "id": "a4e5e47b",
   "metadata": {},
   "source": [
    "### Divide dataset"
   ]
  },
  {
   "cell_type": "markdown",
   "id": "61adc74a",
   "metadata": {},
   "source": [
    "To simplify the annotation process, the dataset is initially divded into broad regions to be annotated independently. \n",
    "\n",
    "For each broad region, we plot the automated annotation predictions, along with clusterings of different resolutions. In addition to clustering the entire dataset, Leiden clustering is also performed within each region. These results are compared to UMAP plots of marker gene expression of known cell types as well as differentially expressed genes computationally identified in the annotated mouse dataset.\n",
    "\n"
   ]
  },
  {
   "cell_type": "code",
   "execution_count": null,
   "id": "1ac69cdd",
   "metadata": {},
   "outputs": [],
   "source": [
    "blood = rabbit[rabbit.obs[\"leiden_res1\"].isin(['4','19','20','8']),]\n",
    "mesoderm = rabbit[rabbit.obs[\"leiden_res1\"].isin(['17','2','12','22']),]\n",
    "neural = rabbit[rabbit.obs[\"leiden_res1\"].isin(['3','7']),]\n",
    "misc = rabbit[rabbit.obs[\"leiden_res1\"].isin(['6','23','21','18']),]\n",
    "exe_ectoderm = rabbit[rabbit.obs[\"leiden_res1\"].isin(['9','0','16']),]\n",
    "exe_mesoderm = rabbit[rabbit.obs[\"leiden_res1\"].isin(['5','14','10','1','22']),]\n",
    "exe_endoderm = rabbit[rabbit.obs[\"leiden_res1\"].isin(['13','15','11']),]\n",
    "\n"
   ]
  },
  {
   "cell_type": "code",
   "execution_count": 79,
   "id": "5d3f7273",
   "metadata": {},
   "outputs": [],
   "source": [
    "# create directory for each region\n",
    "# Identify mouse cell types likely to be in each \n"
   ]
  },
  {
   "cell_type": "code",
   "execution_count": 74,
   "id": "aa0d369e",
   "metadata": {},
   "outputs": [],
   "source": [
    "def createAnnotationDirs(base_path, clusters):\n",
    "    \"\"\"\n",
    "    \n",
    "    e.g.\n",
    "    createAnnotationDirs(base_path = \"../figs/celltype_annotation/annotation_pipeline/r_mesoderm/\", \n",
    "                     clusters = [\"leiden_res8\",\"mesoderm_leiden_res2\",\"mesoderm_leiden_res5\"])\n",
    "                     \n",
    "    \"\"\"\n",
    "    \n",
    "    # Marker expression plots\n",
    "    Path(base_path + \"marker_expression\").mkdir(parents=True, exist_ok=True)\n",
    "    \n",
    "    # Cluster fraction plots\n",
    "    Path(base_path + \"cluster_fractions\").mkdir(parents=True, exist_ok=True)\n",
    "    \n",
    "    # Prediction fraction plots\n",
    "    Path(base_path + \"cluster_fractions\").mkdir(parents=True, exist_ok=True)\n",
    "    \n",
    "    for cluster in clusters:\n",
    "        # Create directory for each clustering\n",
    "        Path(base_path + \"cluster_fractions/\" + cluster).mkdir(parents=True, exist_ok=True)\n",
    "        Path(base_path + \"prediction_fractions/\" + cluster).mkdir(parents=True, exist_ok=True)\n",
    "        \n",
    "    "
   ]
  },
  {
   "cell_type": "code",
   "execution_count": null,
   "id": "abfa0289",
   "metadata": {},
   "outputs": [],
   "source": []
  },
  {
   "cell_type": "code",
   "execution_count": 70,
   "id": "8d98d808",
   "metadata": {},
   "outputs": [],
   "source": []
  },
  {
   "cell_type": "code",
   "execution_count": null,
   "id": "f5f9f265",
   "metadata": {},
   "outputs": [],
   "source": [
    "def plotMarkerExpression(adata, markers,):\n",
    "    \"\"\"\n",
    "    adata: Scanpy object\n",
    "    markers: Dictionary where keys are the cell types/obs groups of interest and items are marker gene names which match values in adata.var.index.   \n",
    "    \"\"\"\n",
    "    \n",
    "    "
   ]
  },
  {
   "cell_type": "code",
   "execution_count": 137,
   "id": "ff2faf2d",
   "metadata": {},
   "outputs": [],
   "source": [
    "def computeObsFraction(adata, obsA=\"leiden_res8\",obsB=\"singler\"):\n",
    "    \"\"\"\n",
    "    Computes the fraction of observations B within groups of observation A.\n",
    "    \n",
    "    \"\"\"\n",
    "    \n",
    "    df = pd.DataFrame({obsA:adata.obs[obsA], obsB:adata.obs[obsB]},index=adata.obs.index)\n",
    "    df[obsA + \"_ncells\"] = df.groupby([obsA]).transform('count')\n",
    "\n",
    "    df[obsB + \"_count\"] = 0\n",
    "\n",
    "    counts = df.groupby([obsA,obsB,obsA + \"_ncells\"]).count()\n",
    "    counts[obsB + \"_frac\"] = counts[obsB + \"_count\"].groupby(obsA).transform(lambda x: x/x.sum())\n",
    "    counts.sort_values([obsA,obsB,obsB + \"_frac\"],ascending=False)\n",
    "    \n",
    "    counts= counts.reset_index()\n",
    "    counts = counts.dropna()\n",
    "    \n",
    "    return(counts)"
   ]
  },
  {
   "cell_type": "code",
   "execution_count": null,
   "id": "54c7a8d6",
   "metadata": {},
   "outputs": [],
   "source": []
  },
  {
   "cell_type": "code",
   "execution_count": null,
   "id": "0e840ca7",
   "metadata": {},
   "outputs": [],
   "source": []
  },
  {
   "cell_type": "code",
   "execution_count": null,
   "id": "9cfe6971",
   "metadata": {},
   "outputs": [],
   "source": [
    "def plotObsFraction()"
   ]
  },
  {
   "cell_type": "code",
   "execution_count": null,
   "id": "8071f6b9",
   "metadata": {},
   "outputs": [],
   "source": [
    "def plotMultiObsFraction(data, obsA, obsB, ignore_small_groups = True, export_dir=None, obsB_colours=None):\n",
    "    \n",
    "    if(isinstance(r_mesoderm,sc.AnnData)):\n",
    "        data = computeObsFraction(data, obsA = obsA, obsB = obsB)\n",
    "    \n",
    "    # Don't plot fractions for observations with very few cells\n",
    "    if(ignore_small_groups):\n",
    "        df_plot = df[np.where(data[obsA + \"_ncells\"] >= thresh),]\n",
    "        df = df[df[\"cluster\"].isin(clusts_keep)]\n",
    "    \n",
    "    # Group obsB with very few cells as 'Other'\n",
    "    \n",
    "    # \n",
    "    if(export_dir != \"\"):\n",
    "        for x in data[obsA].unique():\n",
    "            fig, ax = plt.subplots()\n",
    "            \n",
    "            df_plot = df[df[obsA]==x]\n",
    "            \n",
    "            if(obsB_colours is not None):\n",
    "                obsB_colours = [obsB_colours[i] for i in df_plot[obsB]]\n",
    "                \n",
    "            ax.barh(df_plot[obsB], df_plot[obsB + \"_frac\"], color=obsB_colours)\n",
    "            \n",
    "            ax.set_title(obsA + \": \" +  x + \" (\" + str(int(df_plot[obsA + \"_ncells\"][0])+0.5))+ \" cells)\")\n",
    "            ax.set_xlabel(\"Fraction of cells\")\n",
    "            ax.set_ylabel(obsB)\n",
    "            \n",
    "            #plt.tight_layout()\n",
    "            plt.savefig(out_path + \"cluster\" + x + \".pdf\")\n",
    "    \n",
    "    \n",
    "    "
   ]
  },
  {
   "cell_type": "code",
   "execution_count": null,
   "id": "e7eb61b6",
   "metadata": {},
   "outputs": [],
   "source": []
  },
  {
   "cell_type": "code",
   "execution_count": null,
   "id": "88ff78b3",
   "metadata": {},
   "outputs": [],
   "source": [
    "def runAnnotationPlots(adata, clusters, model_predictions, celltypes, markers, export_dir):\n",
    "    \n",
    "    \n",
    "    createAnnotationDirs(base_path = export_dir, clusters = clusters )\n",
    "    \n",
    "    \n",
    "    # Plot UMAPs of SingleR predictions, Clusterings\n",
    "    sc.settings.figdir = export_dir\n",
    "    sc.pl.umap(adata, color=[model_predictions,clusters],\n",
    "               save=\"_clusters.pdf\")\n",
    "    \n",
    "\n",
    "    # Plot UMAPs of literature marker genes\n",
    "    for celltype in celltypes:\n",
    "        sc.settings.figdir = export_dir + \"marker_expression/\"\n",
    "        sc.pl.umap(adata,color=markers[celltype],\n",
    "                   save=\"_\" + celltype + \"_markers.pdf\")\n",
    "    \n",
    "   \n",
    "    # Plot bar charts of cluster prediction fractions\n",
    "    for cluster in clusters:\n",
    "        sc.settings.figdir = export_dir + \"cluster_fractions/\" + cluster\n",
    "        \n",
    "        plotClusterFraction(adata, clusters=cluster, predictions=model_predictions, \n",
    "                            save= export_dir + \"cluster_fractions/\" + cluster)\n",
    "        \n",
    "    \n",
    "    # Plot bar charts of prediction cluster fractions\n",
    "    sc.settings.figdir = export_dir + \"cluster_fractions/\"\n",
    "        \n",
    "    plotClusterFraction(r_meosderm, clusters=\"leiden_res8\", predictions=\"singler\", save=True)\n"
   ]
  },
  {
   "cell_type": "code",
   "execution_count": null,
   "id": "d055d47a",
   "metadata": {},
   "outputs": [],
   "source": []
  },
  {
   "cell_type": "markdown",
   "id": "d184c8a2",
   "metadata": {},
   "source": [
    "### Mesoderm"
   ]
  },
  {
   "cell_type": "code",
   "execution_count": null,
   "id": "b6c2ff14",
   "metadata": {},
   "outputs": [],
   "source": [
    "# Create directory for mesoderm region\n",
    "Path(\"../figs/celltype_annotation/annotation_pipeline/r_mesoderm/\").mkdir(parents=True, exist_ok=True)\n",
    "\n",
    "runAnnotationPlots(r_mesoderm, \n",
    "                    clusters = [\"leiden_res8\",\"mesoderm_leiden_res2\",\"mesoderm_leiden_res5\"],\n",
    "                    model_predictions = \"singler\",\n",
    "                   marker_genes = m_markers,\n",
    "                   export_dir = \"../figs/celltype_annotation/annotation_pipeline/r_mesoderm/\")"
   ]
  }
 ],
 "metadata": {
  "kernelspec": {
   "display_name": "Python 3",
   "language": "python",
   "name": "python3"
  },
  "language_info": {
   "codemirror_mode": {
    "name": "ipython",
    "version": 3
   },
   "file_extension": ".py",
   "mimetype": "text/x-python",
   "name": "python",
   "nbconvert_exporter": "python",
   "pygments_lexer": "ipython3",
   "version": "3.8.5"
  }
 },
 "nbformat": 4,
 "nbformat_minor": 5
}
