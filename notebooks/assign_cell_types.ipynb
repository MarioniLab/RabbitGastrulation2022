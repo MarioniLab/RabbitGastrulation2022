{
 "cells": [
  {
   "cell_type": "markdown",
   "id": "d6351c6f",
   "metadata": {},
   "source": [
    "# Cell type assignment\n",
    "\n",
    "In this notebook, we use a manual annotation approach, based on marker gene expression, to validate the cell type predictions of the automated annotation model. "
   ]
  },
  {
   "cell_type": "code",
   "execution_count": 2,
   "id": "920d350b",
   "metadata": {},
   "outputs": [
    {
     "ename": "ModuleNotFoundError",
     "evalue": "No module named 'scrabbitpy'",
     "output_type": "error",
     "traceback": [
      "\u001b[1;31m---------------------------------------------------------------------------\u001b[0m",
      "\u001b[1;31mModuleNotFoundError\u001b[0m                       Traceback (most recent call last)",
      "\u001b[1;32m<ipython-input-2-4c3e7ed07343>\u001b[0m in \u001b[0;36m<module>\u001b[1;34m\u001b[0m\n\u001b[1;32m----> 1\u001b[1;33m \u001b[1;32mimport\u001b[0m \u001b[0mscrabbitpy\u001b[0m\u001b[1;33m\u001b[0m\u001b[1;33m\u001b[0m\u001b[0m\n\u001b[0m\u001b[0;32m      2\u001b[0m \u001b[1;32mimport\u001b[0m \u001b[0mscanpy\u001b[0m \u001b[1;32mas\u001b[0m \u001b[0msc\u001b[0m\u001b[1;33m\u001b[0m\u001b[1;33m\u001b[0m\u001b[0m\n\u001b[0;32m      3\u001b[0m \u001b[1;32mimport\u001b[0m \u001b[0mpandas\u001b[0m \u001b[1;32mas\u001b[0m \u001b[0mpd\u001b[0m\u001b[1;33m\u001b[0m\u001b[1;33m\u001b[0m\u001b[0m\n\u001b[0;32m      4\u001b[0m \u001b[1;32mimport\u001b[0m \u001b[0mnumpy\u001b[0m \u001b[1;32mas\u001b[0m \u001b[0mnp\u001b[0m\u001b[1;33m\u001b[0m\u001b[1;33m\u001b[0m\u001b[0m\n\u001b[0;32m      5\u001b[0m \u001b[1;33m\u001b[0m\u001b[0m\n",
      "\u001b[1;31mModuleNotFoundError\u001b[0m: No module named 'scrabbitpy'"
     ]
    }
   ],
   "source": [
    "import scrabbitpy\n",
    "import scanpy as sc\n",
    "import pandas as pd\n",
    "import numpy as np\n",
    "\n",
    "run_full = False\n",
    "run_fast = True"
   ]
  },
  {
   "cell_type": "markdown",
   "id": "c2948099",
   "metadata": {},
   "source": [
    "### Load data"
   ]
  },
  {
   "cell_type": "code",
   "execution_count": null,
   "id": "0109159f",
   "metadata": {},
   "outputs": [],
   "source": [
    "# Load data\n",
    "r_data = sc.read_h5ad(\"../data/cell_type_annotation/rabbit_data.h5ad\")\n",
    "orthologs = pd.read_csv(\"../data/orthologs/orthologs_mouse_ext.tsv\",sep=\"\\t\")\n",
    "markers = pd.read_csv(\"../data/cell_type_annotation/marker_genes.tsv\",sep=\"\\t\")\n"
   ]
  },
  {
   "cell_type": "markdown",
   "id": "a2cc8bd8",
   "metadata": {},
   "source": [
    "### Cluster data"
   ]
  },
  {
   "cell_type": "markdown",
   "id": "8de8e3ee",
   "metadata": {},
   "source": [
    "Cell type labels are assigned to clusters identified in the high-dimensional gene expression space. Here we perfrom Leiden clustering at various resolutions to identify both coarse and fine-grained populations of cells."
   ]
  },
  {
   "cell_type": "code",
   "execution_count": null,
   "id": "f0a1499c",
   "metadata": {},
   "outputs": [],
   "source": [
    "# Load clusters from file\n",
    "if(run_fast):\n",
    "    clusters = pd.read_csv(\"../data/cell_type_annotation/clusters.tsv\",sep=\"\\t\")\n",
    "    r_data.obs = r_data.obs.join(clusters)\n",
    "\n",
    "# Compute clusterings\n",
    "elif(run_full):\n",
    "    sc.tl.leiden(r_data,resolution=1,key_added=\"leiden_res1\",random_state=seed)\n",
    "    sc.tl.leiden(rabbit,resolution=2,key_added=\"leiden_res2\",random_state=seed)\n",
    "    sc.tl.leiden(rabbit,resolution=1.5,key_added=\"leiden_res1_5\",random_state=seed)\n",
    "    sc.tl.leiden(rabbit,resolution=2.5,key_added=\"leiden_res2_5\",random_state=seed)\n",
    "    sc.tl.leiden(rabbit,resolution=3,key_added=\"leiden_res3\",random_state=seed)\n",
    "    sc.tl.leiden(rabbit,resolution=5,key_added=\"leiden_res5\",random_state=seed)\n",
    "    sc.tl.leiden(rabbit,resolution=10,key_added=\"leiden_res10\",random_state=seed)"
   ]
  },
  {
   "cell_type": "markdown",
   "id": "c84f6c04",
   "metadata": {},
   "source": [
    "### Divide dataset"
   ]
  },
  {
   "cell_type": "markdown",
   "id": "3e825b31",
   "metadata": {},
   "source": [
    "To simplify the annotation process, the dataset is initially divded into broad regions to be annotated independently. \n",
    "\n",
    "For each broad region, we plot the automated annotation predictions, along with clusterings of different resolutions. In addition to clustering the entire dataset, Leiden clustering is also performed within each region. These results are compared to UMAP plots of marker gene expression of known cell types as well as differentially expressed genes computationally identified in the annotated mouse dataset.\n",
    "\n"
   ]
  },
  {
   "cell_type": "code",
   "execution_count": null,
   "id": "28ed35fb",
   "metadata": {},
   "outputs": [],
   "source": [
    "blood = rabbit[rabbit.obs[\"leiden_res1\"].isin(['4','19','20','8']),]\n",
    "mesoderm = rabbit[rabbit.obs[\"leiden_res1\"].isin(['17','2','12','22']),]\n",
    "neural = rabbit[rabbit.obs[\"leiden_res1\"].isin(['3','7']),]\n",
    "misc = rabbit[rabbit.obs[\"leiden_res1\"].isin(['6','23','21','18']),]\n",
    "exe_ectoderm = rabbit[rabbit.obs[\"leiden_res1\"].isin(['9','0','16']),]\n",
    "exe_mesoderm = rabbit[rabbit.obs[\"leiden_res1\"].isin(['5','14','10','1','22']),]\n",
    "exe_endoderm = rabbit[rabbit.obs[\"leiden_res1\"].isin(['13','15','11']),]\n",
    "\n"
   ]
  },
  {
   "cell_type": "markdown",
   "id": "2c4efe54",
   "metadata": {},
   "source": []
  }
 ],
 "metadata": {
  "kernelspec": {
   "display_name": "Python 3",
   "language": "python",
   "name": "python3"
  },
  "language_info": {
   "codemirror_mode": {
    "name": "ipython",
    "version": 3
   },
   "file_extension": ".py",
   "mimetype": "text/x-python",
   "name": "python",
   "nbconvert_exporter": "python",
   "pygments_lexer": "ipython3",
   "version": "3.8.5"
  }
 },
 "nbformat": 4,
 "nbformat_minor": 5
}
