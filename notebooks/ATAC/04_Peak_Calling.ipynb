{
 "cells": [
  {
   "cell_type": "markdown",
   "id": "6167512f",
   "metadata": {},
   "source": [
    "# 04 Dimensionality reduction and peak calling\n",
    "<b> Bart Theeuwes </b>"
   ]
  },
  {
   "cell_type": "markdown",
   "id": "f7e0f9f7",
   "metadata": {},
   "source": [
    "Dimensionality is first performed on the Tile Matrix in order to create clusters. Peaks are then called on these individual clusters using MACS2. These peaks are then used to create a peak matrix, on which the final dimensionality reduction is performed, the LSI and UMAP dimensions of which will be used in the rest of the analysis."
   ]
  },
  {
   "cell_type": "code",
   "execution_count": 1,
   "id": "51e5abdf",
   "metadata": {},
   "outputs": [
    {
     "name": "stderr",
     "output_type": "stream",
     "text": [
      "Setting default number of Parallel threads to 1.\n",
      "\n",
      "Setting addArchRVerbose = FALSE\n",
      "\n",
      "Successfully loaded ArchRProject!\n",
      "\n",
      "\n",
      "                                                   / |\n",
      "                                                 /    \\\n",
      "            .                                  /      |.\n",
      "            \\\\\\                              /        |.\n",
      "              \\\\\\                          /           `|.\n",
      "                \\\\\\                      /              |.\n",
      "                  \\                    /                |\\\n",
      "                  \\\\#####\\           /                  ||\n",
      "                ==###########>      /                   ||\n",
      "                 \\\\##==......\\    /                     ||\n",
      "            ______ =       =|__ /__                     ||      \\\\\\\n",
      "        ,--' ,----`-,__ ___/'  --,-`-===================##========>\n",
      "       \\               '        ##_______ _____ ,--,__,=##,__   ///\n",
      "        ,    __==    ___,-,__,--'#'  ==='      `-'    | ##,-/\n",
      "        -,____,---'       \\\\####\\\\________________,--\\\\_##,/\n",
      "           ___      .______        ______  __    __  .______      \n",
      "          /   \\     |   _  \\      /      ||  |  |  | |   _  \\     \n",
      "         /  ^  \\    |  |_)  |    |  ,----'|  |__|  | |  |_)  |    \n",
      "        /  /_\\  \\   |      /     |  |     |   __   | |      /     \n",
      "       /  _____  \\  |  |\\  \\\\___ |  `----.|  |  |  | |  |\\  \\\\___.\n",
      "      /__/     \\__\\ | _| `._____| \\______||__|  |__| | _| `._____|\n",
      "    \n",
      "\n"
     ]
    }
   ],
   "source": [
    "source(here::here(\"settings.R\"))\n",
    "source(here::here(\"load_archr.R\"))\n",
    "\n",
    "# I/O\n",
    "io$output.directory <- file.path(io$basedir,\"ArchR\")\n",
    "setwd(io$output.directory)"
   ]
  },
  {
   "cell_type": "markdown",
   "id": "712e9828",
   "metadata": {},
   "source": [
    "#### Run dimensionality reduction on TileMatrix"
   ]
  },
  {
   "cell_type": "code",
   "execution_count": 2,
   "id": "e882ca67",
   "metadata": {},
   "outputs": [
    {
     "name": "stderr",
     "output_type": "stream",
     "text": [
      "Setting default number of Parallel threads to 30.\n",
      "\n"
     ]
    }
   ],
   "source": [
    "addArchRThreads(threads = 30) "
   ]
  },
  {
   "cell_type": "code",
   "execution_count": 3,
   "id": "1f20ff21",
   "metadata": {
    "collapsed": true,
    "jupyter": {
     "outputs_hidden": true
    },
    "tags": []
   },
   "outputs": [
    {
     "name": "stderr",
     "output_type": "stream",
     "text": [
      "Checking Inputs...\n",
      "\n",
      "Warning message:\n",
      "“package ‘Seurat’ was built under R version 4.1.2”\n",
      "Overriding previous entry for Clusters_TileMatrix\n",
      "\n",
      "Computing nearest neighbor graph\n",
      "\n",
      "Computing SNN\n",
      "\n"
     ]
    },
    {
     "name": "stdout",
     "output_type": "stream",
     "text": [
      "Modularity Optimizer version 1.3.0 by Ludo Waltman and Nees Jan van Eck\n",
      "\n",
      "Number of nodes: 34082\n",
      "Number of edges: 1464476\n",
      "\n",
      "Running Louvain algorithm...\n",
      "Maximum modularity in 10 random starts: 0.9180\n",
      "Number of communities: 28\n",
      "Elapsed time: 5 seconds\n"
     ]
    },
    {
     "name": "stderr",
     "output_type": "stream",
     "text": [
      "1 singletons identified. 27 final clusters.\n",
      "\n",
      "Warning message in .local(x, row.names, optional, ...):\n",
      "“Arguments in '...' ignored”\n",
      "21:20:24 UMAP embedding parameters a = 0.9922 b = 1.112\n",
      "\n",
      "21:20:24 Read 34082 rows and found 45 numeric columns\n",
      "\n",
      "21:20:24 Using Annoy for neighbor search, n_neighbors = 35\n",
      "\n",
      "21:20:24 Building Annoy index with metric = cosine, n_trees = 50\n",
      "\n",
      "0%   10   20   30   40   50   60   70   80   90   100%\n",
      "\n",
      "[----|----|----|----|----|----|----|----|----|----|\n",
      "\n",
      "*\n",
      "*\n",
      "*\n",
      "*\n",
      "*\n",
      "*\n",
      "*\n",
      "*\n",
      "*\n",
      "*\n",
      "*\n",
      "*\n",
      "*\n",
      "*\n",
      "*\n",
      "*\n",
      "*\n",
      "*\n",
      "*\n",
      "*\n",
      "*\n",
      "*\n",
      "*\n",
      "*\n",
      "*\n",
      "*\n",
      "*\n",
      "*\n",
      "*\n",
      "*\n",
      "*\n",
      "*\n",
      "*\n",
      "*\n",
      "*\n",
      "*\n",
      "*\n",
      "*\n",
      "*\n",
      "*\n",
      "*\n",
      "*\n",
      "*\n",
      "*\n",
      "*\n",
      "*\n",
      "*\n",
      "*\n",
      "*\n",
      "*\n",
      "|\n",
      "\n",
      "21:20:28 Writing NN index file to temp file /tmp/RtmpZ7E0x1/file1a8ef6febbf4\n",
      "\n",
      "21:20:28 Searching Annoy index using 16 threads, search_k = 3500\n",
      "\n",
      "21:20:30 Annoy recall = 100%\n",
      "\n",
      "21:20:32 Commencing smooth kNN distance calibration using 16 threads\n",
      "\n",
      "21:20:35 Initializing from normalized Laplacian + noise\n",
      "\n",
      "21:20:38 Commencing optimization for 200 epochs, with 1935992 positive edges\n",
      "\n",
      "21:21:24 Optimization finished\n",
      "\n",
      "Scale for 'colour' is already present. Adding another scale for 'colour',\n",
      "which will replace the existing scale.\n",
      "\n",
      "Saving ArchRProject...\n",
      "\n",
      "Loading ArchRProject...\n",
      "\n",
      "Successfully loaded ArchRProject!\n",
      "\n",
      "\n",
      "                                                   / |\n",
      "                                                 /    \\\n",
      "            .                                  /      |.\n",
      "            \\\\\\                              /        |.\n",
      "              \\\\\\                          /           `|.\n",
      "                \\\\\\                      /              |.\n",
      "                  \\                    /                |\\\n",
      "                  \\\\#####\\           /                  ||\n",
      "                ==###########>      /                   ||\n",
      "                 \\\\##==......\\    /                     ||\n",
      "            ______ =       =|__ /__                     ||      \\\\\\\n",
      "        ,--' ,----`-,__ ___/'  --,-`-===================##========>\n",
      "       \\               '        ##_______ _____ ,--,__,=##,__   ///\n",
      "        ,    __==    ___,-,__,--'#'  ==='      `-'    | ##,-/\n",
      "        -,____,---'       \\\\####\\\\________________,--\\\\_##,/\n",
      "           ___      .______        ______  __    __  .______      \n",
      "          /   \\     |   _  \\      /      ||  |  |  | |   _  \\     \n",
      "         /  ^  \\    |  |_)  |    |  ,----'|  |__|  | |  |_)  |    \n",
      "        /  /_\\  \\   |      /     |  |     |   __   | |      /     \n",
      "       /  _____  \\  |  |\\  \\\\___ |  `----.|  |  |  | |  |\\  \\\\___.\n",
      "      /__/     \\__\\ | _| `._____| \\______||__|  |__| | _| `._____|\n",
      "    \n",
      "\n"
     ]
    }
   ],
   "source": [
    "# Run dimensionality reduction on TileMatrix\n",
    "ArchRProject = dim_redu(matrix = 'TileMatrix', \n",
    "         nfeatures = 60000, \n",
    "         batch.variable = NULL,\n",
    "         ndims = 45, \n",
    "         n_neighbors = 35,\n",
    "         min_dist = 0.3, \n",
    "         colour_by = c(\"sample\",\"stage\", \"DoubletEnrichment\", \"nFrags\", \"TSSEnrichment\"),\n",
    "         final_run = TRUE\n",
    "    )"
   ]
  },
  {
   "cell_type": "markdown",
   "id": "cd0a52c2",
   "metadata": {},
   "source": [
    "#### Peak calling on TileMatrix clusters"
   ]
  },
  {
   "cell_type": "code",
   "execution_count": 4,
   "id": "9090ec9c",
   "metadata": {},
   "outputs": [
    {
     "name": "stderr",
     "output_type": "stream",
     "text": [
      "Searching For MACS2..\n",
      "\n",
      "Found with $path!\n",
      "\n"
     ]
    }
   ],
   "source": [
    "# Define arguments for peak calling\n",
    "args = list()\n",
    "args$group_by = 'Clusters_TileMatrix'\n",
    "args$pathToMacs2 = findMacs2()\n",
    "args$pvalue_cutoff = 0.001\n",
    "args$extend_summits = 250\n",
    "args$outdir = file.path(io$base, 'ArchR/Peak_calling')\n",
    "\n",
    "dir.create(args$outdir, showWarnings = FALSE)"
   ]
  },
  {
   "cell_type": "code",
   "execution_count": 5,
   "id": "54386b22",
   "metadata": {},
   "outputs": [
    {
     "name": "stderr",
     "output_type": "stream",
     "text": [
      "Setting default number of Parallel threads to 1.\n",
      "\n"
     ]
    }
   ],
   "source": [
    "addArchRThreads(threads = 1) "
   ]
  },
  {
   "cell_type": "code",
   "execution_count": 6,
   "id": "8c90df28",
   "metadata": {
    "collapsed": true,
    "jupyter": {
     "outputs_hidden": true
    },
    "tags": []
   },
   "outputs": [
    {
     "name": "stderr",
     "output_type": "stream",
     "text": [
      "chr1 \n",
      "chr10 \n",
      "chr11 \n",
      "chr12 \n",
      "chr13 \n",
      "chr14 \n",
      "chr15 \n",
      "chr16 \n",
      "chr17 \n",
      "chr18 \n",
      "chr19 \n",
      "chr2 \n",
      "chr20 \n",
      "chr4 \n",
      "chr5 \n",
      "chr6 \n",
      "chr7 \n",
      "chr8 \n",
      "chr9 \n",
      "chrX \n",
      "Saving ArchRProject...\n",
      "\n",
      "Loading ArchRProject...\n",
      "\n",
      "Successfully loaded ArchRProject!\n",
      "\n",
      "\n",
      "                                                   / |\n",
      "                                                 /    \\\n",
      "            .                                  /      |.\n",
      "            \\\\\\                              /        |.\n",
      "              \\\\\\                          /           `|.\n",
      "                \\\\\\                      /              |.\n",
      "                  \\                    /                |\\\n",
      "                  \\\\#####\\           /                  ||\n",
      "                ==###########>      /                   ||\n",
      "                 \\\\##==......\\    /                     ||\n",
      "            ______ =       =|__ /__                     ||      \\\\\\\n",
      "        ,--' ,----`-,__ ___/'  --,-`-===================##========>\n",
      "       \\               '        ##_______ _____ ,--,__,=##,__   ///\n",
      "        ,    __==    ___,-,__,--'#'  ==='      `-'    | ##,-/\n",
      "        -,____,---'       \\\\####\\\\________________,--\\\\_##,/\n",
      "           ___      .______        ______  __    __  .______      \n",
      "          /   \\     |   _  \\      /      ||  |  |  | |   _  \\     \n",
      "         /  ^  \\    |  |_)  |    |  ,----'|  |__|  | |  |_)  |    \n",
      "        /  /_\\  \\   |      /     |  |     |   __   | |      /     \n",
      "       /  _____  \\  |  |\\  \\\\___ |  `----.|  |  |  | |  |\\  \\\\___.\n",
      "      /__/     \\__\\ | _| `._____| \\______||__|  |__| | _| `._____|\n",
      "    \n",
      "\n",
      "\n",
      "           ___      .______        ______  __    __  .______      \n",
      "          /   \\     |   _  \\      /      ||  |  |  | |   _  \\     \n",
      "         /  ^  \\    |  |_)  |    |  ,----'|  |__|  | |  |_)  |    \n",
      "        /  /_\\  \\   |      /     |  |     |   __   | |      /     \n",
      "       /  _____  \\  |  |\\  \\\\___ |  `----.|  |  |  | |  |\\  \\\\___.\n",
      "      /__/     \\__\\ | _| `._____| \\______||__|  |__| | _| `._____|\n",
      "    \n",
      "\n"
     ]
    },
    {
     "data": {
      "text/plain": [
       "class: ArchRProject \n",
       "outputDirectory: /rds/project/rds-SDzz0CATGms/users/bt392/04_rabbit_scATAC/ArchR/Project \n",
       "samples(8): rabbit_BGRGP1 rabbit_BGRGP2 ... rabbit_BGRGP7 rabbit_BGRGP8\n",
       "sampleColData names(1): ArrowFiles\n",
       "cellColData names(18): Sample TSSEnrichment ... ReadsInPeaks FRIP\n",
       "numberOfCells(1): 34082\n",
       "medianTSS(1): 3.615\n",
       "medianFrags(1): 33602"
      ]
     },
     "metadata": {},
     "output_type": "display_data"
    }
   ],
   "source": [
    "# Add Group Coverages\n",
    "ArchRProject <- addGroupCoverages(ArchRProject, \n",
    "  groupBy = args$group_by,\n",
    "  useLabels = TRUE,\n",
    "  force = TRUE\n",
    ")\n",
    "\n",
    "saveArchRProject(ArchRProject)"
   ]
  },
  {
   "cell_type": "code",
   "execution_count": 7,
   "id": "767bd96f",
   "metadata": {
    "collapsed": true,
    "jupyter": {
     "outputs_hidden": true
    },
    "tags": []
   },
   "outputs": [
    {
     "name": "stdout",
     "output_type": "stream",
     "text": [
      "    Group nCells nCellsUsed nReplicates nMin nMax maxPeaks\n",
      "C1     C1    532        500           2  239  261   150000\n",
      "C2     C2    120        120           2   40   80    60000\n",
      "C3     C3    508        508           2   40  468   150000\n",
      "C4     C4    225        225           2   40  185   112500\n",
      "C5     C5   1342       1000           2  500  500   150000\n",
      "C6     C6     35         35           2   23   25    17500\n",
      "C7     C7    106        106           2   40   66    53000\n",
      "C8     C8   2989        540           2   40  500   150000\n",
      "C9     C9    917        900           3  196  373   150000\n",
      "C10   C10   1017        717           3   43  500   150000\n",
      "C11   C11    808        680           5   93  173   150000\n",
      "C12   C12    592        559           2  257  302   150000\n",
      "C13   C13   1996        540           2   40  500   150000\n",
      "C14   C14   2878        540           2   40  500   150000\n",
      "C15   C15   1865       1385           5  120  500   150000\n",
      "C16   C16   1156       1000           2  500  500   150000\n",
      "C17   C17    176        176           4   41   48    88000\n",
      "C18   C18   7075       2000           4  500  500   150000\n",
      "C19   C19    296        296           3   47  125   148000\n",
      "C20   C20   2968       2138           5  138  500   150000\n",
      "C21   C21   1908       1656           5  258  379   150000\n",
      "C22   C22   1358       1041           3   41  500   150000\n",
      "C23   C23   1899       1875           4  389  500   150000\n",
      "C24   C24   1081        830           5  149  184   150000\n",
      "C25   C25    235        235           2   55  180   117500\n"
     ]
    },
    {
     "name": "stderr",
     "output_type": "stream",
     "text": [
      "Warning message in valid.GenomicRanges.seqinfo(x, suggest.trim = TRUE):\n",
      "“GRanges object contains 3 out-of-bound ranges located on sequences\n",
      "  chr12, chr13, and chr16. Note that ranges located on a sequence whose\n",
      "  length is unknown (NA) or on a circular sequence are not considered\n",
      "  out-of-bound (use seqlengths() and isCircular() to get the lengths and\n",
      "  circularity flags of the underlying sequences). You can use trim() to\n",
      "  trim these ranges. See ?`trim,GenomicRanges-method` for more\n",
      "  information.”\n",
      "Warning message in valid.GenomicRanges.seqinfo(x, suggest.trim = TRUE):\n",
      "“GRanges object contains 3 out-of-bound ranges located on sequences\n",
      "  chr12, chr13, and chr16. Note that ranges located on a sequence whose\n",
      "  length is unknown (NA) or on a circular sequence are not considered\n",
      "  out-of-bound (use seqlengths() and isCircular() to get the lengths and\n",
      "  circularity flags of the underlying sequences). You can use trim() to\n",
      "  trim these ranges. See ?`trim,GenomicRanges-method` for more\n",
      "  information.”\n"
     ]
    },
    {
     "name": "stdout",
     "output_type": "stream",
     "text": [
      "[1] \"/rds/project/rds-SDzz0CATGms/users/bt392/04_rabbit_scATAC/ArchR/Project/PeakCalls/C1-reproduciblePeaks.gr.rds\"\n"
     ]
    },
    {
     "name": "stderr",
     "output_type": "stream",
     "text": [
      "Warning message in valid.GenomicRanges.seqinfo(x, suggest.trim = TRUE):\n",
      "“GRanges object contains 3 out-of-bound ranges located on sequences\n",
      "  chr12, chr13, and chr16. Note that ranges located on a sequence whose\n",
      "  length is unknown (NA) or on a circular sequence are not considered\n",
      "  out-of-bound (use seqlengths() and isCircular() to get the lengths and\n",
      "  circularity flags of the underlying sequences). You can use trim() to\n",
      "  trim these ranges. See ?`trim,GenomicRanges-method` for more\n",
      "  information.”\n",
      "Warning message in valid.GenomicRanges.seqinfo(x, suggest.trim = TRUE):\n",
      "“GRanges object contains 3 out-of-bound ranges located on sequences\n",
      "  chr12, chr13, and chr16. Note that ranges located on a sequence whose\n",
      "  length is unknown (NA) or on a circular sequence are not considered\n",
      "  out-of-bound (use seqlengths() and isCircular() to get the lengths and\n",
      "  circularity flags of the underlying sequences). You can use trim() to\n",
      "  trim these ranges. See ?`trim,GenomicRanges-method` for more\n",
      "  information.”\n"
     ]
    },
    {
     "name": "stdout",
     "output_type": "stream",
     "text": [
      "[1] \"/rds/project/rds-SDzz0CATGms/users/bt392/04_rabbit_scATAC/ArchR/Project/PeakCalls/C10-reproduciblePeaks.gr.rds\"\n"
     ]
    },
    {
     "name": "stderr",
     "output_type": "stream",
     "text": [
      "Warning message in valid.GenomicRanges.seqinfo(x, suggest.trim = TRUE):\n",
      "“GRanges object contains 3 out-of-bound ranges located on sequences\n",
      "  chr12, chr13, and chr16. Note that ranges located on a sequence whose\n",
      "  length is unknown (NA) or on a circular sequence are not considered\n",
      "  out-of-bound (use seqlengths() and isCircular() to get the lengths and\n",
      "  circularity flags of the underlying sequences). You can use trim() to\n",
      "  trim these ranges. See ?`trim,GenomicRanges-method` for more\n",
      "  information.”\n",
      "Warning message in valid.GenomicRanges.seqinfo(x, suggest.trim = TRUE):\n",
      "“GRanges object contains 3 out-of-bound ranges located on sequences\n",
      "  chr12, chr13, and chr16. Note that ranges located on a sequence whose\n",
      "  length is unknown (NA) or on a circular sequence are not considered\n",
      "  out-of-bound (use seqlengths() and isCircular() to get the lengths and\n",
      "  circularity flags of the underlying sequences). You can use trim() to\n",
      "  trim these ranges. See ?`trim,GenomicRanges-method` for more\n",
      "  information.”\n"
     ]
    },
    {
     "name": "stdout",
     "output_type": "stream",
     "text": [
      "[1] \"/rds/project/rds-SDzz0CATGms/users/bt392/04_rabbit_scATAC/ArchR/Project/PeakCalls/C11-reproduciblePeaks.gr.rds\"\n"
     ]
    },
    {
     "name": "stderr",
     "output_type": "stream",
     "text": [
      "Warning message in valid.GenomicRanges.seqinfo(x, suggest.trim = TRUE):\n",
      "“GRanges object contains 3 out-of-bound ranges located on sequences\n",
      "  chr12, chr13, and chr16. Note that ranges located on a sequence whose\n",
      "  length is unknown (NA) or on a circular sequence are not considered\n",
      "  out-of-bound (use seqlengths() and isCircular() to get the lengths and\n",
      "  circularity flags of the underlying sequences). You can use trim() to\n",
      "  trim these ranges. See ?`trim,GenomicRanges-method` for more\n",
      "  information.”\n",
      "Warning message in valid.GenomicRanges.seqinfo(x, suggest.trim = TRUE):\n",
      "“GRanges object contains 3 out-of-bound ranges located on sequences\n",
      "  chr12, chr13, and chr16. Note that ranges located on a sequence whose\n",
      "  length is unknown (NA) or on a circular sequence are not considered\n",
      "  out-of-bound (use seqlengths() and isCircular() to get the lengths and\n",
      "  circularity flags of the underlying sequences). You can use trim() to\n",
      "  trim these ranges. See ?`trim,GenomicRanges-method` for more\n",
      "  information.”\n"
     ]
    },
    {
     "name": "stdout",
     "output_type": "stream",
     "text": [
      "[1] \"/rds/project/rds-SDzz0CATGms/users/bt392/04_rabbit_scATAC/ArchR/Project/PeakCalls/C12-reproduciblePeaks.gr.rds\"\n"
     ]
    },
    {
     "name": "stderr",
     "output_type": "stream",
     "text": [
      "Warning message in valid.GenomicRanges.seqinfo(x, suggest.trim = TRUE):\n",
      "“GRanges object contains 3 out-of-bound ranges located on sequences\n",
      "  chr12, chr13, and chr16. Note that ranges located on a sequence whose\n",
      "  length is unknown (NA) or on a circular sequence are not considered\n",
      "  out-of-bound (use seqlengths() and isCircular() to get the lengths and\n",
      "  circularity flags of the underlying sequences). You can use trim() to\n",
      "  trim these ranges. See ?`trim,GenomicRanges-method` for more\n",
      "  information.”\n",
      "Warning message in valid.GenomicRanges.seqinfo(x, suggest.trim = TRUE):\n",
      "“GRanges object contains 3 out-of-bound ranges located on sequences\n",
      "  chr12, chr13, and chr16. Note that ranges located on a sequence whose\n",
      "  length is unknown (NA) or on a circular sequence are not considered\n",
      "  out-of-bound (use seqlengths() and isCircular() to get the lengths and\n",
      "  circularity flags of the underlying sequences). You can use trim() to\n",
      "  trim these ranges. See ?`trim,GenomicRanges-method` for more\n",
      "  information.”\n"
     ]
    },
    {
     "name": "stdout",
     "output_type": "stream",
     "text": [
      "[1] \"/rds/project/rds-SDzz0CATGms/users/bt392/04_rabbit_scATAC/ArchR/Project/PeakCalls/C13-reproduciblePeaks.gr.rds\"\n"
     ]
    },
    {
     "name": "stderr",
     "output_type": "stream",
     "text": [
      "Warning message in valid.GenomicRanges.seqinfo(x, suggest.trim = TRUE):\n",
      "“GRanges object contains 3 out-of-bound ranges located on sequences\n",
      "  chr12, chr13, and chr16. Note that ranges located on a sequence whose\n",
      "  length is unknown (NA) or on a circular sequence are not considered\n",
      "  out-of-bound (use seqlengths() and isCircular() to get the lengths and\n",
      "  circularity flags of the underlying sequences). You can use trim() to\n",
      "  trim these ranges. See ?`trim,GenomicRanges-method` for more\n",
      "  information.”\n",
      "Warning message in valid.GenomicRanges.seqinfo(x, suggest.trim = TRUE):\n",
      "“GRanges object contains 3 out-of-bound ranges located on sequences\n",
      "  chr12, chr13, and chr16. Note that ranges located on a sequence whose\n",
      "  length is unknown (NA) or on a circular sequence are not considered\n",
      "  out-of-bound (use seqlengths() and isCircular() to get the lengths and\n",
      "  circularity flags of the underlying sequences). You can use trim() to\n",
      "  trim these ranges. See ?`trim,GenomicRanges-method` for more\n",
      "  information.”\n"
     ]
    },
    {
     "name": "stdout",
     "output_type": "stream",
     "text": [
      "[1] \"/rds/project/rds-SDzz0CATGms/users/bt392/04_rabbit_scATAC/ArchR/Project/PeakCalls/C14-reproduciblePeaks.gr.rds\"\n"
     ]
    },
    {
     "name": "stderr",
     "output_type": "stream",
     "text": [
      "Warning message in valid.GenomicRanges.seqinfo(x, suggest.trim = TRUE):\n",
      "“GRanges object contains 3 out-of-bound ranges located on sequences\n",
      "  chr12, chr13, and chr16. Note that ranges located on a sequence whose\n",
      "  length is unknown (NA) or on a circular sequence are not considered\n",
      "  out-of-bound (use seqlengths() and isCircular() to get the lengths and\n",
      "  circularity flags of the underlying sequences). You can use trim() to\n",
      "  trim these ranges. See ?`trim,GenomicRanges-method` for more\n",
      "  information.”\n",
      "Warning message in valid.GenomicRanges.seqinfo(x, suggest.trim = TRUE):\n",
      "“GRanges object contains 3 out-of-bound ranges located on sequences\n",
      "  chr12, chr13, and chr16. Note that ranges located on a sequence whose\n",
      "  length is unknown (NA) or on a circular sequence are not considered\n",
      "  out-of-bound (use seqlengths() and isCircular() to get the lengths and\n",
      "  circularity flags of the underlying sequences). You can use trim() to\n",
      "  trim these ranges. See ?`trim,GenomicRanges-method` for more\n",
      "  information.”\n"
     ]
    },
    {
     "name": "stdout",
     "output_type": "stream",
     "text": [
      "[1] \"/rds/project/rds-SDzz0CATGms/users/bt392/04_rabbit_scATAC/ArchR/Project/PeakCalls/C15-reproduciblePeaks.gr.rds\"\n"
     ]
    },
    {
     "name": "stderr",
     "output_type": "stream",
     "text": [
      "Warning message in valid.GenomicRanges.seqinfo(x, suggest.trim = TRUE):\n",
      "“GRanges object contains 3 out-of-bound ranges located on sequences\n",
      "  chr12, chr13, and chr16. Note that ranges located on a sequence whose\n",
      "  length is unknown (NA) or on a circular sequence are not considered\n",
      "  out-of-bound (use seqlengths() and isCircular() to get the lengths and\n",
      "  circularity flags of the underlying sequences). You can use trim() to\n",
      "  trim these ranges. See ?`trim,GenomicRanges-method` for more\n",
      "  information.”\n",
      "Warning message in valid.GenomicRanges.seqinfo(x, suggest.trim = TRUE):\n",
      "“GRanges object contains 3 out-of-bound ranges located on sequences\n",
      "  chr12, chr13, and chr16. Note that ranges located on a sequence whose\n",
      "  length is unknown (NA) or on a circular sequence are not considered\n",
      "  out-of-bound (use seqlengths() and isCircular() to get the lengths and\n",
      "  circularity flags of the underlying sequences). You can use trim() to\n",
      "  trim these ranges. See ?`trim,GenomicRanges-method` for more\n",
      "  information.”\n"
     ]
    },
    {
     "name": "stdout",
     "output_type": "stream",
     "text": [
      "[1] \"/rds/project/rds-SDzz0CATGms/users/bt392/04_rabbit_scATAC/ArchR/Project/PeakCalls/C16-reproduciblePeaks.gr.rds\"\n"
     ]
    },
    {
     "name": "stderr",
     "output_type": "stream",
     "text": [
      "Warning message in valid.GenomicRanges.seqinfo(x, suggest.trim = TRUE):\n",
      "“GRanges object contains 3 out-of-bound ranges located on sequences\n",
      "  chr12, chr13, and chr16. Note that ranges located on a sequence whose\n",
      "  length is unknown (NA) or on a circular sequence are not considered\n",
      "  out-of-bound (use seqlengths() and isCircular() to get the lengths and\n",
      "  circularity flags of the underlying sequences). You can use trim() to\n",
      "  trim these ranges. See ?`trim,GenomicRanges-method` for more\n",
      "  information.”\n",
      "Warning message in valid.GenomicRanges.seqinfo(x, suggest.trim = TRUE):\n",
      "“GRanges object contains 3 out-of-bound ranges located on sequences\n",
      "  chr12, chr13, and chr16. Note that ranges located on a sequence whose\n",
      "  length is unknown (NA) or on a circular sequence are not considered\n",
      "  out-of-bound (use seqlengths() and isCircular() to get the lengths and\n",
      "  circularity flags of the underlying sequences). You can use trim() to\n",
      "  trim these ranges. See ?`trim,GenomicRanges-method` for more\n",
      "  information.”\n"
     ]
    },
    {
     "name": "stdout",
     "output_type": "stream",
     "text": [
      "[1] \"/rds/project/rds-SDzz0CATGms/users/bt392/04_rabbit_scATAC/ArchR/Project/PeakCalls/C17-reproduciblePeaks.gr.rds\"\n"
     ]
    },
    {
     "name": "stderr",
     "output_type": "stream",
     "text": [
      "Warning message in valid.GenomicRanges.seqinfo(x, suggest.trim = TRUE):\n",
      "“GRanges object contains 3 out-of-bound ranges located on sequences\n",
      "  chr12, chr13, and chr16. Note that ranges located on a sequence whose\n",
      "  length is unknown (NA) or on a circular sequence are not considered\n",
      "  out-of-bound (use seqlengths() and isCircular() to get the lengths and\n",
      "  circularity flags of the underlying sequences). You can use trim() to\n",
      "  trim these ranges. See ?`trim,GenomicRanges-method` for more\n",
      "  information.”\n",
      "Warning message in valid.GenomicRanges.seqinfo(x, suggest.trim = TRUE):\n",
      "“GRanges object contains 3 out-of-bound ranges located on sequences\n",
      "  chr12, chr13, and chr16. Note that ranges located on a sequence whose\n",
      "  length is unknown (NA) or on a circular sequence are not considered\n",
      "  out-of-bound (use seqlengths() and isCircular() to get the lengths and\n",
      "  circularity flags of the underlying sequences). You can use trim() to\n",
      "  trim these ranges. See ?`trim,GenomicRanges-method` for more\n",
      "  information.”\n"
     ]
    },
    {
     "name": "stdout",
     "output_type": "stream",
     "text": [
      "[1] \"/rds/project/rds-SDzz0CATGms/users/bt392/04_rabbit_scATAC/ArchR/Project/PeakCalls/C18-reproduciblePeaks.gr.rds\"\n"
     ]
    },
    {
     "name": "stderr",
     "output_type": "stream",
     "text": [
      "Warning message in valid.GenomicRanges.seqinfo(x, suggest.trim = TRUE):\n",
      "“GRanges object contains 3 out-of-bound ranges located on sequences\n",
      "  chr12, chr13, and chr16. Note that ranges located on a sequence whose\n",
      "  length is unknown (NA) or on a circular sequence are not considered\n",
      "  out-of-bound (use seqlengths() and isCircular() to get the lengths and\n",
      "  circularity flags of the underlying sequences). You can use trim() to\n",
      "  trim these ranges. See ?`trim,GenomicRanges-method` for more\n",
      "  information.”\n",
      "Warning message in valid.GenomicRanges.seqinfo(x, suggest.trim = TRUE):\n",
      "“GRanges object contains 3 out-of-bound ranges located on sequences\n",
      "  chr12, chr13, and chr16. Note that ranges located on a sequence whose\n",
      "  length is unknown (NA) or on a circular sequence are not considered\n",
      "  out-of-bound (use seqlengths() and isCircular() to get the lengths and\n",
      "  circularity flags of the underlying sequences). You can use trim() to\n",
      "  trim these ranges. See ?`trim,GenomicRanges-method` for more\n",
      "  information.”\n"
     ]
    },
    {
     "name": "stdout",
     "output_type": "stream",
     "text": [
      "[1] \"/rds/project/rds-SDzz0CATGms/users/bt392/04_rabbit_scATAC/ArchR/Project/PeakCalls/C19-reproduciblePeaks.gr.rds\"\n"
     ]
    },
    {
     "name": "stderr",
     "output_type": "stream",
     "text": [
      "Warning message in valid.GenomicRanges.seqinfo(x, suggest.trim = TRUE):\n",
      "“GRanges object contains 3 out-of-bound ranges located on sequences\n",
      "  chr12, chr13, and chr16. Note that ranges located on a sequence whose\n",
      "  length is unknown (NA) or on a circular sequence are not considered\n",
      "  out-of-bound (use seqlengths() and isCircular() to get the lengths and\n",
      "  circularity flags of the underlying sequences). You can use trim() to\n",
      "  trim these ranges. See ?`trim,GenomicRanges-method` for more\n",
      "  information.”\n",
      "Warning message in valid.GenomicRanges.seqinfo(x, suggest.trim = TRUE):\n",
      "“GRanges object contains 3 out-of-bound ranges located on sequences\n",
      "  chr12, chr13, and chr16. Note that ranges located on a sequence whose\n",
      "  length is unknown (NA) or on a circular sequence are not considered\n",
      "  out-of-bound (use seqlengths() and isCircular() to get the lengths and\n",
      "  circularity flags of the underlying sequences). You can use trim() to\n",
      "  trim these ranges. See ?`trim,GenomicRanges-method` for more\n",
      "  information.”\n"
     ]
    },
    {
     "name": "stdout",
     "output_type": "stream",
     "text": [
      "[1] \"/rds/project/rds-SDzz0CATGms/users/bt392/04_rabbit_scATAC/ArchR/Project/PeakCalls/C2-reproduciblePeaks.gr.rds\"\n"
     ]
    },
    {
     "name": "stderr",
     "output_type": "stream",
     "text": [
      "Warning message in valid.GenomicRanges.seqinfo(x, suggest.trim = TRUE):\n",
      "“GRanges object contains 3 out-of-bound ranges located on sequences\n",
      "  chr12, chr13, and chr16. Note that ranges located on a sequence whose\n",
      "  length is unknown (NA) or on a circular sequence are not considered\n",
      "  out-of-bound (use seqlengths() and isCircular() to get the lengths and\n",
      "  circularity flags of the underlying sequences). You can use trim() to\n",
      "  trim these ranges. See ?`trim,GenomicRanges-method` for more\n",
      "  information.”\n",
      "Warning message in valid.GenomicRanges.seqinfo(x, suggest.trim = TRUE):\n",
      "“GRanges object contains 3 out-of-bound ranges located on sequences\n",
      "  chr12, chr13, and chr16. Note that ranges located on a sequence whose\n",
      "  length is unknown (NA) or on a circular sequence are not considered\n",
      "  out-of-bound (use seqlengths() and isCircular() to get the lengths and\n",
      "  circularity flags of the underlying sequences). You can use trim() to\n",
      "  trim these ranges. See ?`trim,GenomicRanges-method` for more\n",
      "  information.”\n"
     ]
    },
    {
     "name": "stdout",
     "output_type": "stream",
     "text": [
      "[1] \"/rds/project/rds-SDzz0CATGms/users/bt392/04_rabbit_scATAC/ArchR/Project/PeakCalls/C20-reproduciblePeaks.gr.rds\"\n"
     ]
    },
    {
     "name": "stderr",
     "output_type": "stream",
     "text": [
      "Warning message in valid.GenomicRanges.seqinfo(x, suggest.trim = TRUE):\n",
      "“GRanges object contains 3 out-of-bound ranges located on sequences\n",
      "  chr12, chr13, and chr16. Note that ranges located on a sequence whose\n",
      "  length is unknown (NA) or on a circular sequence are not considered\n",
      "  out-of-bound (use seqlengths() and isCircular() to get the lengths and\n",
      "  circularity flags of the underlying sequences). You can use trim() to\n",
      "  trim these ranges. See ?`trim,GenomicRanges-method` for more\n",
      "  information.”\n",
      "Warning message in valid.GenomicRanges.seqinfo(x, suggest.trim = TRUE):\n",
      "“GRanges object contains 3 out-of-bound ranges located on sequences\n",
      "  chr12, chr13, and chr16. Note that ranges located on a sequence whose\n",
      "  length is unknown (NA) or on a circular sequence are not considered\n",
      "  out-of-bound (use seqlengths() and isCircular() to get the lengths and\n",
      "  circularity flags of the underlying sequences). You can use trim() to\n",
      "  trim these ranges. See ?`trim,GenomicRanges-method` for more\n",
      "  information.”\n"
     ]
    },
    {
     "name": "stdout",
     "output_type": "stream",
     "text": [
      "[1] \"/rds/project/rds-SDzz0CATGms/users/bt392/04_rabbit_scATAC/ArchR/Project/PeakCalls/C21-reproduciblePeaks.gr.rds\"\n"
     ]
    },
    {
     "name": "stderr",
     "output_type": "stream",
     "text": [
      "Warning message in valid.GenomicRanges.seqinfo(x, suggest.trim = TRUE):\n",
      "“GRanges object contains 3 out-of-bound ranges located on sequences\n",
      "  chr12, chr13, and chr16. Note that ranges located on a sequence whose\n",
      "  length is unknown (NA) or on a circular sequence are not considered\n",
      "  out-of-bound (use seqlengths() and isCircular() to get the lengths and\n",
      "  circularity flags of the underlying sequences). You can use trim() to\n",
      "  trim these ranges. See ?`trim,GenomicRanges-method` for more\n",
      "  information.”\n",
      "Warning message in valid.GenomicRanges.seqinfo(x, suggest.trim = TRUE):\n",
      "“GRanges object contains 3 out-of-bound ranges located on sequences\n",
      "  chr12, chr13, and chr16. Note that ranges located on a sequence whose\n",
      "  length is unknown (NA) or on a circular sequence are not considered\n",
      "  out-of-bound (use seqlengths() and isCircular() to get the lengths and\n",
      "  circularity flags of the underlying sequences). You can use trim() to\n",
      "  trim these ranges. See ?`trim,GenomicRanges-method` for more\n",
      "  information.”\n"
     ]
    },
    {
     "name": "stdout",
     "output_type": "stream",
     "text": [
      "[1] \"/rds/project/rds-SDzz0CATGms/users/bt392/04_rabbit_scATAC/ArchR/Project/PeakCalls/C22-reproduciblePeaks.gr.rds\"\n"
     ]
    },
    {
     "name": "stderr",
     "output_type": "stream",
     "text": [
      "Warning message in valid.GenomicRanges.seqinfo(x, suggest.trim = TRUE):\n",
      "“GRanges object contains 3 out-of-bound ranges located on sequences\n",
      "  chr12, chr13, and chr16. Note that ranges located on a sequence whose\n",
      "  length is unknown (NA) or on a circular sequence are not considered\n",
      "  out-of-bound (use seqlengths() and isCircular() to get the lengths and\n",
      "  circularity flags of the underlying sequences). You can use trim() to\n",
      "  trim these ranges. See ?`trim,GenomicRanges-method` for more\n",
      "  information.”\n",
      "Warning message in valid.GenomicRanges.seqinfo(x, suggest.trim = TRUE):\n",
      "“GRanges object contains 3 out-of-bound ranges located on sequences\n",
      "  chr12, chr13, and chr16. Note that ranges located on a sequence whose\n",
      "  length is unknown (NA) or on a circular sequence are not considered\n",
      "  out-of-bound (use seqlengths() and isCircular() to get the lengths and\n",
      "  circularity flags of the underlying sequences). You can use trim() to\n",
      "  trim these ranges. See ?`trim,GenomicRanges-method` for more\n",
      "  information.”\n"
     ]
    },
    {
     "name": "stdout",
     "output_type": "stream",
     "text": [
      "[1] \"/rds/project/rds-SDzz0CATGms/users/bt392/04_rabbit_scATAC/ArchR/Project/PeakCalls/C23-reproduciblePeaks.gr.rds\"\n"
     ]
    },
    {
     "name": "stderr",
     "output_type": "stream",
     "text": [
      "Warning message in valid.GenomicRanges.seqinfo(x, suggest.trim = TRUE):\n",
      "“GRanges object contains 3 out-of-bound ranges located on sequences\n",
      "  chr12, chr13, and chr16. Note that ranges located on a sequence whose\n",
      "  length is unknown (NA) or on a circular sequence are not considered\n",
      "  out-of-bound (use seqlengths() and isCircular() to get the lengths and\n",
      "  circularity flags of the underlying sequences). You can use trim() to\n",
      "  trim these ranges. See ?`trim,GenomicRanges-method` for more\n",
      "  information.”\n",
      "Warning message in valid.GenomicRanges.seqinfo(x, suggest.trim = TRUE):\n",
      "“GRanges object contains 3 out-of-bound ranges located on sequences\n",
      "  chr12, chr13, and chr16. Note that ranges located on a sequence whose\n",
      "  length is unknown (NA) or on a circular sequence are not considered\n",
      "  out-of-bound (use seqlengths() and isCircular() to get the lengths and\n",
      "  circularity flags of the underlying sequences). You can use trim() to\n",
      "  trim these ranges. See ?`trim,GenomicRanges-method` for more\n",
      "  information.”\n"
     ]
    },
    {
     "name": "stdout",
     "output_type": "stream",
     "text": [
      "[1] \"/rds/project/rds-SDzz0CATGms/users/bt392/04_rabbit_scATAC/ArchR/Project/PeakCalls/C24-reproduciblePeaks.gr.rds\"\n"
     ]
    },
    {
     "name": "stderr",
     "output_type": "stream",
     "text": [
      "Warning message in valid.GenomicRanges.seqinfo(x, suggest.trim = TRUE):\n",
      "“GRanges object contains 3 out-of-bound ranges located on sequences\n",
      "  chr12, chr13, and chr16. Note that ranges located on a sequence whose\n",
      "  length is unknown (NA) or on a circular sequence are not considered\n",
      "  out-of-bound (use seqlengths() and isCircular() to get the lengths and\n",
      "  circularity flags of the underlying sequences). You can use trim() to\n",
      "  trim these ranges. See ?`trim,GenomicRanges-method` for more\n",
      "  information.”\n",
      "Warning message in valid.GenomicRanges.seqinfo(x, suggest.trim = TRUE):\n",
      "“GRanges object contains 3 out-of-bound ranges located on sequences\n",
      "  chr12, chr13, and chr16. Note that ranges located on a sequence whose\n",
      "  length is unknown (NA) or on a circular sequence are not considered\n",
      "  out-of-bound (use seqlengths() and isCircular() to get the lengths and\n",
      "  circularity flags of the underlying sequences). You can use trim() to\n",
      "  trim these ranges. See ?`trim,GenomicRanges-method` for more\n",
      "  information.”\n"
     ]
    },
    {
     "name": "stdout",
     "output_type": "stream",
     "text": [
      "[1] \"/rds/project/rds-SDzz0CATGms/users/bt392/04_rabbit_scATAC/ArchR/Project/PeakCalls/C25-reproduciblePeaks.gr.rds\"\n"
     ]
    },
    {
     "name": "stderr",
     "output_type": "stream",
     "text": [
      "Warning message in valid.GenomicRanges.seqinfo(x, suggest.trim = TRUE):\n",
      "“GRanges object contains 3 out-of-bound ranges located on sequences\n",
      "  chr12, chr13, and chr16. Note that ranges located on a sequence whose\n",
      "  length is unknown (NA) or on a circular sequence are not considered\n",
      "  out-of-bound (use seqlengths() and isCircular() to get the lengths and\n",
      "  circularity flags of the underlying sequences). You can use trim() to\n",
      "  trim these ranges. See ?`trim,GenomicRanges-method` for more\n",
      "  information.”\n",
      "Warning message in valid.GenomicRanges.seqinfo(x, suggest.trim = TRUE):\n",
      "“GRanges object contains 3 out-of-bound ranges located on sequences\n",
      "  chr12, chr13, and chr16. Note that ranges located on a sequence whose\n",
      "  length is unknown (NA) or on a circular sequence are not considered\n",
      "  out-of-bound (use seqlengths() and isCircular() to get the lengths and\n",
      "  circularity flags of the underlying sequences). You can use trim() to\n",
      "  trim these ranges. See ?`trim,GenomicRanges-method` for more\n",
      "  information.”\n"
     ]
    },
    {
     "name": "stdout",
     "output_type": "stream",
     "text": [
      "[1] \"/rds/project/rds-SDzz0CATGms/users/bt392/04_rabbit_scATAC/ArchR/Project/PeakCalls/C3-reproduciblePeaks.gr.rds\"\n"
     ]
    },
    {
     "name": "stderr",
     "output_type": "stream",
     "text": [
      "Warning message in valid.GenomicRanges.seqinfo(x, suggest.trim = TRUE):\n",
      "“GRanges object contains 3 out-of-bound ranges located on sequences\n",
      "  chr12, chr13, and chr16. Note that ranges located on a sequence whose\n",
      "  length is unknown (NA) or on a circular sequence are not considered\n",
      "  out-of-bound (use seqlengths() and isCircular() to get the lengths and\n",
      "  circularity flags of the underlying sequences). You can use trim() to\n",
      "  trim these ranges. See ?`trim,GenomicRanges-method` for more\n",
      "  information.”\n",
      "Warning message in valid.GenomicRanges.seqinfo(x, suggest.trim = TRUE):\n",
      "“GRanges object contains 3 out-of-bound ranges located on sequences\n",
      "  chr12, chr13, and chr16. Note that ranges located on a sequence whose\n",
      "  length is unknown (NA) or on a circular sequence are not considered\n",
      "  out-of-bound (use seqlengths() and isCircular() to get the lengths and\n",
      "  circularity flags of the underlying sequences). You can use trim() to\n",
      "  trim these ranges. See ?`trim,GenomicRanges-method` for more\n",
      "  information.”\n"
     ]
    },
    {
     "name": "stdout",
     "output_type": "stream",
     "text": [
      "[1] \"/rds/project/rds-SDzz0CATGms/users/bt392/04_rabbit_scATAC/ArchR/Project/PeakCalls/C4-reproduciblePeaks.gr.rds\"\n"
     ]
    },
    {
     "name": "stderr",
     "output_type": "stream",
     "text": [
      "Warning message in valid.GenomicRanges.seqinfo(x, suggest.trim = TRUE):\n",
      "“GRanges object contains 3 out-of-bound ranges located on sequences\n",
      "  chr12, chr13, and chr16. Note that ranges located on a sequence whose\n",
      "  length is unknown (NA) or on a circular sequence are not considered\n",
      "  out-of-bound (use seqlengths() and isCircular() to get the lengths and\n",
      "  circularity flags of the underlying sequences). You can use trim() to\n",
      "  trim these ranges. See ?`trim,GenomicRanges-method` for more\n",
      "  information.”\n",
      "Warning message in valid.GenomicRanges.seqinfo(x, suggest.trim = TRUE):\n",
      "“GRanges object contains 3 out-of-bound ranges located on sequences\n",
      "  chr12, chr13, and chr16. Note that ranges located on a sequence whose\n",
      "  length is unknown (NA) or on a circular sequence are not considered\n",
      "  out-of-bound (use seqlengths() and isCircular() to get the lengths and\n",
      "  circularity flags of the underlying sequences). You can use trim() to\n",
      "  trim these ranges. See ?`trim,GenomicRanges-method` for more\n",
      "  information.”\n"
     ]
    },
    {
     "name": "stdout",
     "output_type": "stream",
     "text": [
      "[1] \"/rds/project/rds-SDzz0CATGms/users/bt392/04_rabbit_scATAC/ArchR/Project/PeakCalls/C5-reproduciblePeaks.gr.rds\"\n"
     ]
    },
    {
     "name": "stderr",
     "output_type": "stream",
     "text": [
      "Warning message in valid.GenomicRanges.seqinfo(x, suggest.trim = TRUE):\n",
      "“GRanges object contains 3 out-of-bound ranges located on sequences\n",
      "  chr12, chr13, and chr16. Note that ranges located on a sequence whose\n",
      "  length is unknown (NA) or on a circular sequence are not considered\n",
      "  out-of-bound (use seqlengths() and isCircular() to get the lengths and\n",
      "  circularity flags of the underlying sequences). You can use trim() to\n",
      "  trim these ranges. See ?`trim,GenomicRanges-method` for more\n",
      "  information.”\n",
      "Warning message in valid.GenomicRanges.seqinfo(x, suggest.trim = TRUE):\n",
      "“GRanges object contains 3 out-of-bound ranges located on sequences\n",
      "  chr12, chr13, and chr16. Note that ranges located on a sequence whose\n",
      "  length is unknown (NA) or on a circular sequence are not considered\n",
      "  out-of-bound (use seqlengths() and isCircular() to get the lengths and\n",
      "  circularity flags of the underlying sequences). You can use trim() to\n",
      "  trim these ranges. See ?`trim,GenomicRanges-method` for more\n",
      "  information.”\n"
     ]
    },
    {
     "name": "stdout",
     "output_type": "stream",
     "text": [
      "[1] \"/rds/project/rds-SDzz0CATGms/users/bt392/04_rabbit_scATAC/ArchR/Project/PeakCalls/C6-reproduciblePeaks.gr.rds\"\n"
     ]
    },
    {
     "name": "stderr",
     "output_type": "stream",
     "text": [
      "Warning message in valid.GenomicRanges.seqinfo(x, suggest.trim = TRUE):\n",
      "“GRanges object contains 3 out-of-bound ranges located on sequences\n",
      "  chr12, chr13, and chr16. Note that ranges located on a sequence whose\n",
      "  length is unknown (NA) or on a circular sequence are not considered\n",
      "  out-of-bound (use seqlengths() and isCircular() to get the lengths and\n",
      "  circularity flags of the underlying sequences). You can use trim() to\n",
      "  trim these ranges. See ?`trim,GenomicRanges-method` for more\n",
      "  information.”\n",
      "Warning message in valid.GenomicRanges.seqinfo(x, suggest.trim = TRUE):\n",
      "“GRanges object contains 3 out-of-bound ranges located on sequences\n",
      "  chr12, chr13, and chr16. Note that ranges located on a sequence whose\n",
      "  length is unknown (NA) or on a circular sequence are not considered\n",
      "  out-of-bound (use seqlengths() and isCircular() to get the lengths and\n",
      "  circularity flags of the underlying sequences). You can use trim() to\n",
      "  trim these ranges. See ?`trim,GenomicRanges-method` for more\n",
      "  information.”\n"
     ]
    },
    {
     "name": "stdout",
     "output_type": "stream",
     "text": [
      "[1] \"/rds/project/rds-SDzz0CATGms/users/bt392/04_rabbit_scATAC/ArchR/Project/PeakCalls/C7-reproduciblePeaks.gr.rds\"\n"
     ]
    },
    {
     "name": "stderr",
     "output_type": "stream",
     "text": [
      "Warning message in valid.GenomicRanges.seqinfo(x, suggest.trim = TRUE):\n",
      "“GRanges object contains 3 out-of-bound ranges located on sequences\n",
      "  chr12, chr13, and chr16. Note that ranges located on a sequence whose\n",
      "  length is unknown (NA) or on a circular sequence are not considered\n",
      "  out-of-bound (use seqlengths() and isCircular() to get the lengths and\n",
      "  circularity flags of the underlying sequences). You can use trim() to\n",
      "  trim these ranges. See ?`trim,GenomicRanges-method` for more\n",
      "  information.”\n",
      "Warning message in valid.GenomicRanges.seqinfo(x, suggest.trim = TRUE):\n",
      "“GRanges object contains 3 out-of-bound ranges located on sequences\n",
      "  chr12, chr13, and chr16. Note that ranges located on a sequence whose\n",
      "  length is unknown (NA) or on a circular sequence are not considered\n",
      "  out-of-bound (use seqlengths() and isCircular() to get the lengths and\n",
      "  circularity flags of the underlying sequences). You can use trim() to\n",
      "  trim these ranges. See ?`trim,GenomicRanges-method` for more\n",
      "  information.”\n"
     ]
    },
    {
     "name": "stdout",
     "output_type": "stream",
     "text": [
      "[1] \"/rds/project/rds-SDzz0CATGms/users/bt392/04_rabbit_scATAC/ArchR/Project/PeakCalls/C8-reproduciblePeaks.gr.rds\"\n"
     ]
    },
    {
     "name": "stderr",
     "output_type": "stream",
     "text": [
      "Warning message in valid.GenomicRanges.seqinfo(x, suggest.trim = TRUE):\n",
      "“GRanges object contains 3 out-of-bound ranges located on sequences\n",
      "  chr12, chr13, and chr16. Note that ranges located on a sequence whose\n",
      "  length is unknown (NA) or on a circular sequence are not considered\n",
      "  out-of-bound (use seqlengths() and isCircular() to get the lengths and\n",
      "  circularity flags of the underlying sequences). You can use trim() to\n",
      "  trim these ranges. See ?`trim,GenomicRanges-method` for more\n",
      "  information.”\n",
      "Warning message in valid.GenomicRanges.seqinfo(x, suggest.trim = TRUE):\n",
      "“GRanges object contains 3 out-of-bound ranges located on sequences\n",
      "  chr12, chr13, and chr16. Note that ranges located on a sequence whose\n",
      "  length is unknown (NA) or on a circular sequence are not considered\n",
      "  out-of-bound (use seqlengths() and isCircular() to get the lengths and\n",
      "  circularity flags of the underlying sequences). You can use trim() to\n",
      "  trim these ranges. See ?`trim,GenomicRanges-method` for more\n",
      "  information.”\n"
     ]
    },
    {
     "name": "stdout",
     "output_type": "stream",
     "text": [
      "[1] \"/rds/project/rds-SDzz0CATGms/users/bt392/04_rabbit_scATAC/ArchR/Project/PeakCalls/C9-reproduciblePeaks.gr.rds\"\n"
     ]
    },
    {
     "name": "stderr",
     "output_type": "stream",
     "text": [
      "Converged after 11 iterations!\n",
      "\n",
      "Saving ArchRProject...\n",
      "\n",
      "Loading ArchRProject...\n",
      "\n",
      "Successfully loaded ArchRProject!\n",
      "\n",
      "\n",
      "                                                   / |\n",
      "                                                 /    \\\n",
      "            .                                  /      |.\n",
      "            \\\\\\                              /        |.\n",
      "              \\\\\\                          /           `|.\n",
      "                \\\\\\                      /              |.\n",
      "                  \\                    /                |\\\n",
      "                  \\\\#####\\           /                  ||\n",
      "                ==###########>      /                   ||\n",
      "                 \\\\##==......\\    /                     ||\n",
      "            ______ =       =|__ /__                     ||      \\\\\\\n",
      "        ,--' ,----`-,__ ___/'  --,-`-===================##========>\n",
      "       \\               '        ##_______ _____ ,--,__,=##,__   ///\n",
      "        ,    __==    ___,-,__,--'#'  ==='      `-'    | ##,-/\n",
      "        -,____,---'       \\\\####\\\\________________,--\\\\_##,/\n",
      "           ___      .______        ______  __    __  .______      \n",
      "          /   \\     |   _  \\      /      ||  |  |  | |   _  \\     \n",
      "         /  ^  \\    |  |_)  |    |  ,----'|  |__|  | |  |_)  |    \n",
      "        /  /_\\  \\   |      /     |  |     |   __   | |      /     \n",
      "       /  _____  \\  |  |\\  \\\\___ |  `----.|  |  |  | |  |\\  \\\\___.\n",
      "      /__/     \\__\\ | _| `._____| \\______||__|  |__| | _| `._____|\n",
      "    \n",
      "\n",
      "\n",
      "           ___      .______        ______  __    __  .______      \n",
      "          /   \\     |   _  \\      /      ||  |  |  | |   _  \\     \n",
      "         /  ^  \\    |  |_)  |    |  ,----'|  |__|  | |  |_)  |    \n",
      "        /  /_\\  \\   |      /     |  |     |   __   | |      /     \n",
      "       /  _____  \\  |  |\\  \\\\___ |  `----.|  |  |  | |  |\\  \\\\___.\n",
      "      /__/     \\__\\ | _| `._____| \\______||__|  |__| | _| `._____|\n",
      "    \n",
      "\n"
     ]
    },
    {
     "data": {
      "text/plain": [
       "class: ArchRProject \n",
       "outputDirectory: /rds/project/rds-SDzz0CATGms/users/bt392/04_rabbit_scATAC/ArchR/Project \n",
       "samples(8): rabbit_BGRGP1 rabbit_BGRGP2 ... rabbit_BGRGP7 rabbit_BGRGP8\n",
       "sampleColData names(1): ArrowFiles\n",
       "cellColData names(18): Sample TSSEnrichment ... ReadsInPeaks FRIP\n",
       "numberOfCells(1): 34082\n",
       "medianTSS(1): 3.615\n",
       "medianFrags(1): 33602"
      ]
     },
     "metadata": {},
     "output_type": "display_data"
    }
   ],
   "source": [
    "# Call peaks\n",
    "ArchRProject <- addReproduciblePeakSet(\n",
    "  ArchRProj = ArchRProject, \n",
    "  groupBy = args$group_by, \n",
    "  peakMethod = \"Macs2\",\n",
    "  excludeChr = c(\"chrM\", \"chrY\"),\n",
    "  pathToMacs2 = args$pathToMacs2,\n",
    "  genomeSize = 2.7e9, # This argument is needed for the non-standard genome\n",
    "  cutOff = args$pvalue_cutoff,\n",
    "  extendSummits = args$extend_summits,\n",
    "  plot = FALSE,\n",
    "  force = TRUE\n",
    ")\n",
    "\n",
    "# Save\n",
    "saveArchRProject(ArchRProject)\n",
    "# fetch peaks in data.table format\n",
    "dt <- getPeakSet(ArchRProject) %>% as.data.table() %>% setnames(\"seqnames\",\"chr\")\n",
    "# Save peak metadata\n",
    "fwrite(dt, file.path(args$outdir,\"peak_metadata.tsv.gz\"), sep=\"\\t\")\n",
    "# save peaks in bed format\n",
    "fwrite(dt[,c(\"chr\",\"start\",\"end\")], file.path(args$outdir,\"peaks_archR_macs2.bed.gz\"), sep=\"\\t\", col.names = F)"
   ]
  },
  {
   "cell_type": "code",
   "execution_count": 8,
   "id": "73bfddd2",
   "metadata": {},
   "outputs": [
    {
     "data": {
      "image/png": "[encoded data removed]",
      "text/plain": [
       "plot without title"
      ]
     },
     "metadata": {
      "image/png": {
       "height": 300,
       "width": 900
      }
     },
     "output_type": "display_data"
    }
   ],
   "source": [
    "plot = ggplot(as.data.table(getPeakSet(ArchRProject)), aes(peakType,fill=peakType)) + geom_bar(col='black') + theme_bw() + theme(text=element_text(size=20))\n",
    "plot\n",
    "# Turn into suppl figure?"
   ]
  },
  {
   "cell_type": "code",
   "execution_count": 9,
   "id": "15c7e54c",
   "metadata": {},
   "outputs": [],
   "source": [
    "plot = ggplot(as.data.table(getPeakSet(ArchRProject)), aes(peakType,fill=peakType, col='black')) + geom_bar() + theme_bw() + theme(text=element_text(size=20))\n",
    "# Turn into suppl figure?"
   ]
  },
  {
   "cell_type": "code",
   "execution_count": null,
   "id": "d3a2960f",
   "metadata": {},
   "outputs": [],
   "source": [
    "# Create PeakMatrix\n",
    "ArchRProject <- addPeakMatrix(ArchRProject)\n",
    "# Save\n",
    "saveArchRProject(ArchRProject)"
   ]
  },
  {
   "cell_type": "markdown",
   "id": "f0771c60",
   "metadata": {},
   "source": [
    "#### Run dimensionality reduction on PeakMatrix"
   ]
  },
  {
   "cell_type": "code",
   "execution_count": null,
   "id": "97071b66",
   "metadata": {},
   "outputs": [],
   "source": [
    "addArchRThreads(threads = 30) "
   ]
  },
  {
   "cell_type": "code",
   "execution_count": null,
   "id": "e4d71a5a",
   "metadata": {},
   "outputs": [],
   "source": [
    "# Run dimensionality reduction\n",
    "ArchRProject = dim_redu(matrix = 'PeakMatrix', \n",
    "         nfeatures = 60000, \n",
    "         batch.variable = NULL,\n",
    "         ndims = 45, \n",
    "         n_neighbors = 45,\n",
    "         min_dist = 0.5, \n",
    "         colour_by = c(\"sample\",\"stage\", \"DoubletEnrichment\", \"nFrags\", \"Clusters_TileMatrix\", \"Clusters_PeakMatrix\", \"TSSEnrichment\"),\n",
    "         final_run = TRUE\n",
    "    )"
   ]
  },
  {
   "cell_type": "markdown",
   "id": "dd29833f",
   "metadata": {},
   "source": [
    "#### Calculate imputation weights"
   ]
  },
  {
   "cell_type": "code",
   "execution_count": null,
   "id": "02acda68",
   "metadata": {},
   "outputs": [],
   "source": [
    "ArchRProject = addImputeWeights(\n",
    "  ArchRProj = ArchRProject,\n",
    "  reducedDims = \"PeakMatrix\")"
   ]
  },
  {
   "cell_type": "code",
   "execution_count": null,
   "id": "be8d14ae",
   "metadata": {},
   "outputs": [],
   "source": [
    "saveArchRProject(ArchRProject)"
   ]
  },
  {
   "cell_type": "code",
   "execution_count": null,
   "id": "54abb318",
   "metadata": {},
   "outputs": [],
   "source": []
  }
 ],
 "metadata": {
  "kernelspec": {
   "display_name": "R",
   "language": "R",
   "name": "ir"
  },
  "language_info": {
   "codemirror_mode": "r",
   "file_extension": ".r",
   "mimetype": "text/x-r-source",
   "name": "R",
   "pygments_lexer": "r",
   "version": "4.0.3"
  }
 },
 "nbformat": 4,
 "nbformat_minor": 5
}
