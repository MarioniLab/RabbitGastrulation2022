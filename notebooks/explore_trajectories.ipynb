{
 "cells": [
  {
   "cell_type": "markdown",
   "metadata": {},
   "source": [
    "# Waddinton OT trajectory analysis\n"
   ]
  },
  {
   "cell_type": "code",
   "execution_count": 35,
   "metadata": {},
   "outputs": [
    {
     "data": {
      "text/plain": [
       "<module 'scrabbit.traj' from 'g:\\\\my drive\\\\postgrad\\\\phd\\\\projects\\\\rabbit-gastrulation-atlas\\\\rabbitgastrulation2021\\\\scrabbitpy\\\\src\\\\scrabbit\\\\traj.py'>"
      ]
     },
     "execution_count": 35,
     "metadata": {},
     "output_type": "execute_result"
    }
   ],
   "source": [
    "import importlib\n",
    "importlib.reload(scrabbit.traj)"
   ]
  },
  {
   "cell_type": "code",
   "execution_count": 8,
   "metadata": {},
   "outputs": [],
   "source": [
    "import scrabbit\n",
    "from matplotlib import pyplot as plt\n",
    "import numpy as np\n",
    "import ipywidgets as widgets\n",
    "from ipywidgets import Box,fixed,interact,interactive,HBox,Layout\n",
    "import scanpy as sc\n",
    "import pandas as pd\n",
    "import wot\n",
    "import scipy\n",
    "import anndata"
   ]
  },
  {
   "cell_type": "markdown",
   "metadata": {},
   "source": [
    "## Load trajectories"
   ]
  },
  {
   "cell_type": "code",
   "execution_count": 2,
   "metadata": {},
   "outputs": [
    {
     "name": "stderr",
     "output_type": "stream",
     "text": [
      "Variable names are not unique. To make them unique, call `.var_names_make_unique`.\n"
     ]
    },
    {
     "data": {
      "text/plain": [
       "AnnData object with n_obs × n_vars = 146133 × 30725\n",
       "    obs: 'cell', 'barcode', 'sample', 'stage', 'batch', 'doub.density', 'doublet', 'stripped', 'cluster', 'sizeFactor', 'celltype', 'singler', 'leiden_res1', 'leiden_res8', 'anatomical_loc', 'day'\n",
       "    var: 'ensembl_ids'\n",
       "    uns: 'anatomical_loc_colors', 'celltype_colors', 'leiden', 'neighbors', 'singler_colors', 'umap'\n",
       "    obsm: 'X_pca', 'X_tsne', 'X_umap'\n",
       "    layers: 'logcounts'\n",
       "    obsp: 'connectivities', 'distances'"
      ]
     },
     "execution_count": 2,
     "metadata": {},
     "output_type": "execute_result"
    }
   ],
   "source": [
    "r_data = sc.read_h5ad(\"../data-in/rabbit/anndata.h5ad\")\n",
    "r_data"
   ]
  },
  {
   "cell_type": "code",
   "execution_count": 11,
   "metadata": {},
   "outputs": [],
   "source": [
    "r_traj = scrabbit.io.loadWOTCSV(\"../data-test/rabbit/trajectory_analysis/trajectory/\")\n",
    "r_fates = scrabbit.io.loadWOTCSV(\"../data-test/rabbit/trajectory_analysis/fates/\")"
   ]
  },
  {
   "cell_type": "code",
   "execution_count": 12,
   "metadata": {},
   "outputs": [],
   "source": [
    "r_traj.obsm[\"X_umap\"] = r_data.obsm[\"X_umap\"]\n",
    "r_fates.obsm[\"X_umap\"] = r_data.obsm[\"X_umap\"]"
   ]
  },
  {
   "cell_type": "markdown",
   "metadata": {},
   "source": [
    "### Visualise trajectories\n"
   ]
  },
  {
   "cell_type": "code",
   "execution_count": 13,
   "metadata": {},
   "outputs": [
    {
     "data": {
      "application/vnd.jupyter.widget-view+json": {
       "model_id": "b8b0402847404794a08e6ce94dc392b5",
       "version_major": 2,
       "version_minor": 0
      },
      "text/plain": [
       "HBox(children=(interactive(children=(Dropdown(description='Trajectory:', options=('Allantois', 'Allantois endo…"
      ]
     },
     "metadata": {},
     "output_type": "display_data"
    }
   ],
   "source": [
    "rabbit_dropdown = widgets.Dropdown(\n",
    "    options=r_traj.var.index,\n",
    "    description='Trajectory:'\n",
    ")\n",
    "\n",
    "def plotWOTTrajectory(adata, celltype):\n",
    "    sc.pl.umap(adata,color=celltype,color_map=\"viridis_r\")\n",
    "\n",
    "traj_widget = interactive(plotWOTTrajectory, adata=fixed(r_traj), celltype=rabbit_dropdown)\n",
    "fate_widget = interactive(plotWOTTrajectory, adata=fixed(r_fates), celltype=rabbit_dropdown)\n",
    "\n",
    "items = [traj_widget,fate_widget]\n",
    "HBox(items,layout=Layout(flex_flow=\"flex-inline\"))"
   ]
  },
  {
   "cell_type": "markdown",
   "metadata": {},
   "source": [
    "## Extract trajectories"
   ]
  },
  {
   "cell_type": "code",
   "execution_count": 36,
   "metadata": {},
   "outputs": [
    {
     "data": {
      "application/vnd.jupyter.widget-view+json": {
       "model_id": "017044ba34d94b27b5c1f10a9c88dc70",
       "version_major": 2,
       "version_minor": 0
      },
      "text/plain": [
       "interactive(children=(Dropdown(description='Trajectory:', options=('Allantois', 'Allantois endothelium', 'Amni…"
      ]
     },
     "metadata": {},
     "output_type": "display_data"
    }
   ],
   "source": [
    "dropdown = widgets.Dropdown(\n",
    "    options=r_traj.var.index,\n",
    "    description='Trajectory:'\n",
    ")\n",
    "\n",
    "slider = widgets.FloatSlider(\n",
    "    value=0.95,\n",
    "    min=0.75,\n",
    "    max=0.99,\n",
    "    step=0.01\n",
    ")\n",
    "\n",
    "colour_dropdown = widgets.Dropdown(\n",
    "    options=[\"celltype\",\"stage\"],\n",
    "    description='Colour by:'\n",
    ")\n",
    "\n",
    "def plotExtractedTrajectory(adata, traj, celltype, thresh = 0.95, colour_by=\"celltype\"):\n",
    "    out = scrabbit.traj.extractTrajectory(adata, traj, celltype = celltype, thresh = thresh)\n",
    "    sc.pl.umap(out,color=colour_by)\n",
    "\n",
    "interactive(plotExtractedTrajectory, adata=fixed(r_data), traj=fixed(r_traj), celltype=dropdown, thresh=slider, colour_by = colour_dropdown)\n"
   ]
  },
  {
   "cell_type": "code",
   "execution_count": null,
   "metadata": {},
   "outputs": [],
   "source": []
  },
  {
   "cell_type": "code",
   "execution_count": null,
   "metadata": {},
   "outputs": [],
   "source": []
  },
  {
   "cell_type": "code",
   "execution_count": null,
   "metadata": {},
   "outputs": [],
   "source": []
  }
 ],
 "metadata": {
  "kernelspec": {
   "display_name": "Python 3 (ipykernel)",
   "language": "python",
   "name": "python3"
  },
  "language_info": {
   "codemirror_mode": {
    "name": "ipython",
    "version": 3
   },
   "file_extension": ".py",
   "mimetype": "text/x-python",
   "name": "python",
   "nbconvert_exporter": "python",
   "pygments_lexer": "ipython3",
   "version": "3.8.5"
  },
  "toc-autonumbering": false,
  "toc-showtags": false
 },
 "nbformat": 4,
 "nbformat_minor": 4
}
