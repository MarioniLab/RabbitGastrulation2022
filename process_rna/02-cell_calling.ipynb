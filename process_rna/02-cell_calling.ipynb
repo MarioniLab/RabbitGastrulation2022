{
 "cells": [
  {
   "cell_type": "markdown",
   "metadata": {},
   "source": [
    "# Cell calling\n",
    "<b> Mai-Linh Ton </b>\n",
    "April 04, 2020"
   ]
  },
  {
   "cell_type": "code",
   "execution_count": 2,
   "metadata": {
    "scrolled": true
   },
   "outputs": [
    {
     "name": "stderr",
     "output_type": "stream",
     "text": [
      "Loading required package: SingleCellExperiment\n",
      "\n",
      "Loading required package: SummarizedExperiment\n",
      "\n",
      "Loading required package: GenomicRanges\n",
      "\n",
      "Loading required package: stats4\n",
      "\n",
      "Loading required package: BiocGenerics\n",
      "\n",
      "Loading required package: parallel\n",
      "\n",
      "\n",
      "Attaching package: ‘BiocGenerics’\n",
      "\n",
      "\n",
      "The following objects are masked from ‘package:parallel’:\n",
      "\n",
      "    clusterApply, clusterApplyLB, clusterCall, clusterEvalQ,\n",
      "    clusterExport, clusterMap, parApply, parCapply, parLapply,\n",
      "    parLapplyLB, parRapply, parSapply, parSapplyLB\n",
      "\n",
      "\n",
      "The following objects are masked from ‘package:stats’:\n",
      "\n",
      "    IQR, mad, sd, var, xtabs\n",
      "\n",
      "\n",
      "The following objects are masked from ‘package:base’:\n",
      "\n",
      "    anyDuplicated, append, as.data.frame, basename, cbind, colnames,\n",
      "    dirname, do.call, duplicated, eval, evalq, Filter, Find, get, grep,\n",
      "    grepl, intersect, is.unsorted, lapply, Map, mapply, match, mget,\n",
      "    order, paste, pmax, pmax.int, pmin, pmin.int, Position, rank,\n",
      "    rbind, Reduce, rownames, sapply, setdiff, sort, table, tapply,\n",
      "    union, unique, unsplit, which, which.max, which.min\n",
      "\n",
      "\n",
      "Loading required package: S4Vectors\n",
      "\n",
      "\n",
      "Attaching package: ‘S4Vectors’\n",
      "\n",
      "\n",
      "The following object is masked from ‘package:base’:\n",
      "\n",
      "    expand.grid\n",
      "\n",
      "\n",
      "Loading required package: IRanges\n",
      "\n",
      "Loading required package: GenomeInfoDb\n",
      "\n",
      "Loading required package: Biobase\n",
      "\n",
      "Welcome to Bioconductor\n",
      "\n",
      "    Vignettes contain introductory material; view with\n",
      "    'browseVignettes()'. To cite Bioconductor, see\n",
      "    'citation(\"Biobase\")', and for packages 'citation(\"pkgname\")'.\n",
      "\n",
      "\n",
      "Loading required package: DelayedArray\n",
      "\n",
      "Loading required package: matrixStats\n",
      "\n",
      "\n",
      "Attaching package: ‘matrixStats’\n",
      "\n",
      "\n",
      "The following objects are masked from ‘package:Biobase’:\n",
      "\n",
      "    anyMissing, rowMedians\n",
      "\n",
      "\n",
      "Loading required package: BiocParallel\n",
      "\n",
      "\n",
      "Attaching package: ‘DelayedArray’\n",
      "\n",
      "\n",
      "The following objects are masked from ‘package:matrixStats’:\n",
      "\n",
      "    colMaxs, colMins, colRanges, rowMaxs, rowMins, rowRanges\n",
      "\n",
      "\n",
      "The following objects are masked from ‘package:base’:\n",
      "\n",
      "    aperm, apply, rowsum\n",
      "\n",
      "\n",
      "\n",
      "Attaching package: ‘Matrix’\n",
      "\n",
      "\n",
      "The following object is masked from ‘package:S4Vectors’:\n",
      "\n",
      "    expand\n",
      "\n",
      "\n"
     ]
    }
   ],
   "source": [
    "library(DropletUtils)\n",
    "library(ggplot2)\n",
    "library(Matrix)\n",
    "library(BiocParallel)\n",
    "ncores = 3\n",
    "mcparam = MulticoreParam(workers = ncores)\n",
    "register(mcparam)\n",
    "\n",
    "library(knitr)\n",
    "library(reshape2)"
   ]
  },
  {
   "cell_type": "code",
   "execution_count": 4,
   "metadata": {},
   "outputs": [],
   "source": [
    "##===Read in files from 01 swappedDrops output===##\n",
    "dirout = (\"/rds/project/bg200/rds-bg200-hphi-gottgens/users/mlnt2/PhD_MT06/\")\n",
    "mtx_loc=paste0(dirout, \"swapped/sample\", 1:26, \"/matrix.mtx\")\n",
    "bc_loc=paste0(dirout, \"swapped/sample\", 1:26, \"/barcodes.tsv\")\n",
    "\n",
    "# read matrices and tables into a single variable\n",
    "matrices = bplapply(mtx_loc, readMM)\n",
    "bcs = bplapply(bc_loc, function(x) read.table(x, header = FALSE, stringsAsFactors = FALSE)[,1])\n",
    "               \n",
    "#correct barcode sample number\n",
    "for(i in 1:length(bcs)){\n",
    "  bcs[[i]] = paste0(bcs[[i]], \"-\", i)\n",
    "}               "
   ]
  },
  {
   "cell_type": "code",
   "execution_count": 5,
   "metadata": {},
   "outputs": [
    {
     "data": {
      "text/html": [
       "<table>\n",
       "<caption>A data.frame: 26 × 6</caption>\n",
       "<thead>\n",
       "\t<tr><th scope=col>sample</th><th scope=col>stage</th><th scope=col>barcodes</th><th scope=col>batch</th><th scope=col>embryo_pool</th><th scope=col>ID</th></tr>\n",
       "\t<tr><th scope=col>&lt;int&gt;</th><th scope=col>&lt;fct&gt;</th><th scope=col>&lt;fct&gt;</th><th scope=col>&lt;int&gt;</th><th scope=col>&lt;int&gt;</th><th scope=col>&lt;fct&gt;</th></tr>\n",
       "</thead>\n",
       "<tbody>\n",
       "\t<tr><td> 1</td><td>GD7</td><td>TCTTAAAG-CGAGGCTC-GTCCTTCT-AAGACGGA</td><td>1</td><td> 1</td><td>SIGAA9 </td></tr>\n",
       "\t<tr><td> 2</td><td>GD7</td><td>CTGTAACT-TCTAGCGA-AGAGTGTG-GACCCTAC</td><td>1</td><td> 2</td><td>SIGAB9 </td></tr>\n",
       "\t<tr><td> 3</td><td>GD7</td><td>GCGCAGAA-ATCTTACC-TATGGTGT-CGAACCTG</td><td>1</td><td> 3</td><td>SIGAC9 </td></tr>\n",
       "\t<tr><td> 4</td><td>GD7</td><td>AGGAGATG-GATGTGGT-CTACATCC-TCCTCCAA</td><td>1</td><td> 4</td><td>SIGAD9 </td></tr>\n",
       "\t<tr><td> 5</td><td>GD7</td><td>TTGTTTCC-GGAGGAGG-CCTAACAA-AACCCGTT</td><td>1</td><td> 5</td><td>SIGAE9 </td></tr>\n",
       "\t<tr><td> 6</td><td>GD7</td><td>CAAGCTCC-GTTCACTG-TCGTGAAA-AGCATGGT</td><td>1</td><td> 6</td><td>SIGAF9 </td></tr>\n",
       "\t<tr><td> 7</td><td>GD8</td><td>GTCCGGTC-AAGATCAT-CCTGAAGG-TGATCTCA</td><td>1</td><td> 7</td><td>SIGAA11</td></tr>\n",
       "\t<tr><td> 8</td><td>GD8</td><td>GTTCCTCA-AGGTACGC-TAAGTATG-CCCAGGAT</td><td>1</td><td> 8</td><td>SIGAB11</td></tr>\n",
       "\t<tr><td> 9</td><td>GD8</td><td>GAGGATCT-AGACCATA-TCCTGCGC-CTTATGAG</td><td>1</td><td> 9</td><td>SIGAC11</td></tr>\n",
       "\t<tr><td>10</td><td>GD8</td><td>CTTTGCGG-TGCACAAA-AAGCAGTC-GCAGTTCT</td><td>1</td><td>10</td><td>SIGAD11</td></tr>\n",
       "\t<tr><td>11</td><td>GD8</td><td>AAGCGCTG-CGTTTGAT-GTAGCACA-TCCAATGC</td><td>1</td><td>11</td><td>SIGAE11</td></tr>\n",
       "\t<tr><td>12</td><td>GD9</td><td>AGTGGAAC-GTCTCCTT-TCACATCA-CAGATGGG</td><td>1</td><td>12</td><td>SIGAA12</td></tr>\n",
       "\t<tr><td>13</td><td>GD9</td><td>TACCACCA-CTAAGTTT-GGGTCAAG-ACTGTGGC</td><td>1</td><td>13</td><td>SIGAB12</td></tr>\n",
       "\t<tr><td>14</td><td>GD9</td><td>TCTCGTTT-GGCTAGCG-ATGACCGC-CAAGTAAA</td><td>1</td><td>14</td><td>SIGAC12</td></tr>\n",
       "\t<tr><td>15</td><td>GD9</td><td>GCACAATG-CTTGGTAC-TGCACCGT-AAGTTGCA</td><td>1</td><td>15</td><td>SIGAD12</td></tr>\n",
       "\t<tr><td>16</td><td>GD9</td><td>ACCGGCTC-GAGTTAGT-CGTCCTAG-TTAAAGCA</td><td>1</td><td>16</td><td>SIGAE12</td></tr>\n",
       "\t<tr><td>17</td><td>GD9</td><td>TGATGCAT-GCTACTGA-CACCTGCC-ATGGAATG</td><td>1</td><td>17</td><td>SIGAF12</td></tr>\n",
       "\t<tr><td>18</td><td>GD9</td><td>ATTCTAAG-CCCGATTA-TGGAGGCT-GAATCCGC</td><td>1</td><td>18</td><td>SIGAG12</td></tr>\n",
       "\t<tr><td>19</td><td>GD9</td><td>GACAGCAT-TTTGTACA-AGGCCGTG-CCATATGC</td><td>1</td><td>19</td><td>SIGAH12</td></tr>\n",
       "\t<tr><td>20</td><td>GD9</td><td>ATAGTTAC-TGCTGAGT-CCTACGTA-GAGCACCG</td><td>1</td><td>20</td><td>SIGAE8 </td></tr>\n",
       "\t<tr><td>21</td><td>GD9</td><td>CATGAACA-TCACTCGC-AGCTGGAT-GTGACTTG</td><td>1</td><td>21</td><td>SIGAF8 </td></tr>\n",
       "\t<tr><td>22</td><td>GD9</td><td>TATGAGCT-CCGATAGC-ATACCCAA-GGCTGTTG</td><td>1</td><td>22</td><td>SIGAG8 </td></tr>\n",
       "\t<tr><td>23</td><td>GD9</td><td>TTGTTGAT-GCTCAACC-CAAAGTGG-AGCGCCTA</td><td>1</td><td>23</td><td>SIGAH8 </td></tr>\n",
       "\t<tr><td>24</td><td>GD9</td><td>GCGAGAGT-TACGTTCA-AGTCCCAC-CTATAGTG</td><td>1</td><td>24</td><td>SIGAF11</td></tr>\n",
       "\t<tr><td>25</td><td>GD9</td><td>TTATCGTT-AGCAGAGC-CATCTCCA-GCGGATAG</td><td>1</td><td>25</td><td>SIGAG11</td></tr>\n",
       "\t<tr><td>26</td><td>GD9</td><td>GGCGAGTA-ACTTCTAT-CAAATACG-TTGCGCGC</td><td>1</td><td>26</td><td>SIGAH11</td></tr>\n",
       "</tbody>\n",
       "</table>\n"
      ],
      "text/latex": [
       "A data.frame: 26 × 6\n",
       "\\begin{tabular}{llllll}\n",
       " sample & stage & barcodes & batch & embryo\\_pool & ID\\\\\n",
       " <int> & <fct> & <fct> & <int> & <int> & <fct>\\\\\n",
       "\\hline\n",
       "\t  1 & GD7 & TCTTAAAG-CGAGGCTC-GTCCTTCT-AAGACGGA & 1 &  1 & SIGAA9 \\\\\n",
       "\t  2 & GD7 & CTGTAACT-TCTAGCGA-AGAGTGTG-GACCCTAC & 1 &  2 & SIGAB9 \\\\\n",
       "\t  3 & GD7 & GCGCAGAA-ATCTTACC-TATGGTGT-CGAACCTG & 1 &  3 & SIGAC9 \\\\\n",
       "\t  4 & GD7 & AGGAGATG-GATGTGGT-CTACATCC-TCCTCCAA & 1 &  4 & SIGAD9 \\\\\n",
       "\t  5 & GD7 & TTGTTTCC-GGAGGAGG-CCTAACAA-AACCCGTT & 1 &  5 & SIGAE9 \\\\\n",
       "\t  6 & GD7 & CAAGCTCC-GTTCACTG-TCGTGAAA-AGCATGGT & 1 &  6 & SIGAF9 \\\\\n",
       "\t  7 & GD8 & GTCCGGTC-AAGATCAT-CCTGAAGG-TGATCTCA & 1 &  7 & SIGAA11\\\\\n",
       "\t  8 & GD8 & GTTCCTCA-AGGTACGC-TAAGTATG-CCCAGGAT & 1 &  8 & SIGAB11\\\\\n",
       "\t  9 & GD8 & GAGGATCT-AGACCATA-TCCTGCGC-CTTATGAG & 1 &  9 & SIGAC11\\\\\n",
       "\t 10 & GD8 & CTTTGCGG-TGCACAAA-AAGCAGTC-GCAGTTCT & 1 & 10 & SIGAD11\\\\\n",
       "\t 11 & GD8 & AAGCGCTG-CGTTTGAT-GTAGCACA-TCCAATGC & 1 & 11 & SIGAE11\\\\\n",
       "\t 12 & GD9 & AGTGGAAC-GTCTCCTT-TCACATCA-CAGATGGG & 1 & 12 & SIGAA12\\\\\n",
       "\t 13 & GD9 & TACCACCA-CTAAGTTT-GGGTCAAG-ACTGTGGC & 1 & 13 & SIGAB12\\\\\n",
       "\t 14 & GD9 & TCTCGTTT-GGCTAGCG-ATGACCGC-CAAGTAAA & 1 & 14 & SIGAC12\\\\\n",
       "\t 15 & GD9 & GCACAATG-CTTGGTAC-TGCACCGT-AAGTTGCA & 1 & 15 & SIGAD12\\\\\n",
       "\t 16 & GD9 & ACCGGCTC-GAGTTAGT-CGTCCTAG-TTAAAGCA & 1 & 16 & SIGAE12\\\\\n",
       "\t 17 & GD9 & TGATGCAT-GCTACTGA-CACCTGCC-ATGGAATG & 1 & 17 & SIGAF12\\\\\n",
       "\t 18 & GD9 & ATTCTAAG-CCCGATTA-TGGAGGCT-GAATCCGC & 1 & 18 & SIGAG12\\\\\n",
       "\t 19 & GD9 & GACAGCAT-TTTGTACA-AGGCCGTG-CCATATGC & 1 & 19 & SIGAH12\\\\\n",
       "\t 20 & GD9 & ATAGTTAC-TGCTGAGT-CCTACGTA-GAGCACCG & 1 & 20 & SIGAE8 \\\\\n",
       "\t 21 & GD9 & CATGAACA-TCACTCGC-AGCTGGAT-GTGACTTG & 1 & 21 & SIGAF8 \\\\\n",
       "\t 22 & GD9 & TATGAGCT-CCGATAGC-ATACCCAA-GGCTGTTG & 1 & 22 & SIGAG8 \\\\\n",
       "\t 23 & GD9 & TTGTTGAT-GCTCAACC-CAAAGTGG-AGCGCCTA & 1 & 23 & SIGAH8 \\\\\n",
       "\t 24 & GD9 & GCGAGAGT-TACGTTCA-AGTCCCAC-CTATAGTG & 1 & 24 & SIGAF11\\\\\n",
       "\t 25 & GD9 & TTATCGTT-AGCAGAGC-CATCTCCA-GCGGATAG & 1 & 25 & SIGAG11\\\\\n",
       "\t 26 & GD9 & GGCGAGTA-ACTTCTAT-CAAATACG-TTGCGCGC & 1 & 26 & SIGAH11\\\\\n",
       "\\end{tabular}\n"
      ],
      "text/markdown": [
       "\n",
       "A data.frame: 26 × 6\n",
       "\n",
       "| sample &lt;int&gt; | stage &lt;fct&gt; | barcodes &lt;fct&gt; | batch &lt;int&gt; | embryo_pool &lt;int&gt; | ID &lt;fct&gt; |\n",
       "|---|---|---|---|---|---|\n",
       "|  1 | GD7 | TCTTAAAG-CGAGGCTC-GTCCTTCT-AAGACGGA | 1 |  1 | SIGAA9  |\n",
       "|  2 | GD7 | CTGTAACT-TCTAGCGA-AGAGTGTG-GACCCTAC | 1 |  2 | SIGAB9  |\n",
       "|  3 | GD7 | GCGCAGAA-ATCTTACC-TATGGTGT-CGAACCTG | 1 |  3 | SIGAC9  |\n",
       "|  4 | GD7 | AGGAGATG-GATGTGGT-CTACATCC-TCCTCCAA | 1 |  4 | SIGAD9  |\n",
       "|  5 | GD7 | TTGTTTCC-GGAGGAGG-CCTAACAA-AACCCGTT | 1 |  5 | SIGAE9  |\n",
       "|  6 | GD7 | CAAGCTCC-GTTCACTG-TCGTGAAA-AGCATGGT | 1 |  6 | SIGAF9  |\n",
       "|  7 | GD8 | GTCCGGTC-AAGATCAT-CCTGAAGG-TGATCTCA | 1 |  7 | SIGAA11 |\n",
       "|  8 | GD8 | GTTCCTCA-AGGTACGC-TAAGTATG-CCCAGGAT | 1 |  8 | SIGAB11 |\n",
       "|  9 | GD8 | GAGGATCT-AGACCATA-TCCTGCGC-CTTATGAG | 1 |  9 | SIGAC11 |\n",
       "| 10 | GD8 | CTTTGCGG-TGCACAAA-AAGCAGTC-GCAGTTCT | 1 | 10 | SIGAD11 |\n",
       "| 11 | GD8 | AAGCGCTG-CGTTTGAT-GTAGCACA-TCCAATGC | 1 | 11 | SIGAE11 |\n",
       "| 12 | GD9 | AGTGGAAC-GTCTCCTT-TCACATCA-CAGATGGG | 1 | 12 | SIGAA12 |\n",
       "| 13 | GD9 | TACCACCA-CTAAGTTT-GGGTCAAG-ACTGTGGC | 1 | 13 | SIGAB12 |\n",
       "| 14 | GD9 | TCTCGTTT-GGCTAGCG-ATGACCGC-CAAGTAAA | 1 | 14 | SIGAC12 |\n",
       "| 15 | GD9 | GCACAATG-CTTGGTAC-TGCACCGT-AAGTTGCA | 1 | 15 | SIGAD12 |\n",
       "| 16 | GD9 | ACCGGCTC-GAGTTAGT-CGTCCTAG-TTAAAGCA | 1 | 16 | SIGAE12 |\n",
       "| 17 | GD9 | TGATGCAT-GCTACTGA-CACCTGCC-ATGGAATG | 1 | 17 | SIGAF12 |\n",
       "| 18 | GD9 | ATTCTAAG-CCCGATTA-TGGAGGCT-GAATCCGC | 1 | 18 | SIGAG12 |\n",
       "| 19 | GD9 | GACAGCAT-TTTGTACA-AGGCCGTG-CCATATGC | 1 | 19 | SIGAH12 |\n",
       "| 20 | GD9 | ATAGTTAC-TGCTGAGT-CCTACGTA-GAGCACCG | 1 | 20 | SIGAE8  |\n",
       "| 21 | GD9 | CATGAACA-TCACTCGC-AGCTGGAT-GTGACTTG | 1 | 21 | SIGAF8  |\n",
       "| 22 | GD9 | TATGAGCT-CCGATAGC-ATACCCAA-GGCTGTTG | 1 | 22 | SIGAG8  |\n",
       "| 23 | GD9 | TTGTTGAT-GCTCAACC-CAAAGTGG-AGCGCCTA | 1 | 23 | SIGAH8  |\n",
       "| 24 | GD9 | GCGAGAGT-TACGTTCA-AGTCCCAC-CTATAGTG | 1 | 24 | SIGAF11 |\n",
       "| 25 | GD9 | TTATCGTT-AGCAGAGC-CATCTCCA-GCGGATAG | 1 | 25 | SIGAG11 |\n",
       "| 26 | GD9 | GGCGAGTA-ACTTCTAT-CAAATACG-TTGCGCGC | 1 | 26 | SIGAH11 |\n",
       "\n"
      ],
      "text/plain": [
       "   sample stage barcodes                            batch embryo_pool ID     \n",
       "1   1     GD7   TCTTAAAG-CGAGGCTC-GTCCTTCT-AAGACGGA 1      1          SIGAA9 \n",
       "2   2     GD7   CTGTAACT-TCTAGCGA-AGAGTGTG-GACCCTAC 1      2          SIGAB9 \n",
       "3   3     GD7   GCGCAGAA-ATCTTACC-TATGGTGT-CGAACCTG 1      3          SIGAC9 \n",
       "4   4     GD7   AGGAGATG-GATGTGGT-CTACATCC-TCCTCCAA 1      4          SIGAD9 \n",
       "5   5     GD7   TTGTTTCC-GGAGGAGG-CCTAACAA-AACCCGTT 1      5          SIGAE9 \n",
       "6   6     GD7   CAAGCTCC-GTTCACTG-TCGTGAAA-AGCATGGT 1      6          SIGAF9 \n",
       "7   7     GD8   GTCCGGTC-AAGATCAT-CCTGAAGG-TGATCTCA 1      7          SIGAA11\n",
       "8   8     GD8   GTTCCTCA-AGGTACGC-TAAGTATG-CCCAGGAT 1      8          SIGAB11\n",
       "9   9     GD8   GAGGATCT-AGACCATA-TCCTGCGC-CTTATGAG 1      9          SIGAC11\n",
       "10 10     GD8   CTTTGCGG-TGCACAAA-AAGCAGTC-GCAGTTCT 1     10          SIGAD11\n",
       "11 11     GD8   AAGCGCTG-CGTTTGAT-GTAGCACA-TCCAATGC 1     11          SIGAE11\n",
       "12 12     GD9   AGTGGAAC-GTCTCCTT-TCACATCA-CAGATGGG 1     12          SIGAA12\n",
       "13 13     GD9   TACCACCA-CTAAGTTT-GGGTCAAG-ACTGTGGC 1     13          SIGAB12\n",
       "14 14     GD9   TCTCGTTT-GGCTAGCG-ATGACCGC-CAAGTAAA 1     14          SIGAC12\n",
       "15 15     GD9   GCACAATG-CTTGGTAC-TGCACCGT-AAGTTGCA 1     15          SIGAD12\n",
       "16 16     GD9   ACCGGCTC-GAGTTAGT-CGTCCTAG-TTAAAGCA 1     16          SIGAE12\n",
       "17 17     GD9   TGATGCAT-GCTACTGA-CACCTGCC-ATGGAATG 1     17          SIGAF12\n",
       "18 18     GD9   ATTCTAAG-CCCGATTA-TGGAGGCT-GAATCCGC 1     18          SIGAG12\n",
       "19 19     GD9   GACAGCAT-TTTGTACA-AGGCCGTG-CCATATGC 1     19          SIGAH12\n",
       "20 20     GD9   ATAGTTAC-TGCTGAGT-CCTACGTA-GAGCACCG 1     20          SIGAE8 \n",
       "21 21     GD9   CATGAACA-TCACTCGC-AGCTGGAT-GTGACTTG 1     21          SIGAF8 \n",
       "22 22     GD9   TATGAGCT-CCGATAGC-ATACCCAA-GGCTGTTG 1     22          SIGAG8 \n",
       "23 23     GD9   TTGTTGAT-GCTCAACC-CAAAGTGG-AGCGCCTA 1     23          SIGAH8 \n",
       "24 24     GD9   GCGAGAGT-TACGTTCA-AGTCCCAC-CTATAGTG 1     24          SIGAF11\n",
       "25 25     GD9   TTATCGTT-AGCAGAGC-CATCTCCA-GCGGATAG 1     25          SIGAG11\n",
       "26 26     GD9   GGCGAGTA-ACTTCTAT-CAAATACG-TTGCGCGC 1     26          SIGAH11"
      ]
     },
     "metadata": {},
     "output_type": "display_data"
    }
   ],
   "source": [
    "#csv containing cell sample number and theiler stage\n",
    "exp_design = read.table(\"/rds/project/bg200/rds-bg200-hphi-gottgens/users/mlnt2/PhD_MT06/2_cellcalling/sample_stage_map_rabbit.csv\", sep = \",\", header = TRUE)\n",
    "exp_design"
   ]
  },
  {
   "cell_type": "code",
   "execution_count": 13,
   "metadata": {},
   "outputs": [],
   "source": [
    "set.seed(42)\n",
    "#do call\n",
    "outs = lapply(matrices, emptyDrops, niters = 20000, BPPARAM = mcparam, lower = 100, retain = Inf)\n",
    "\n",
    "\n",
    "#identify cells\n",
    "sigs = lapply(outs, function(x) x$FDR <= 0.01 & !is.na(x$FDR))\n",
    "\n",
    "#subset the cells\n",
    "cells = lapply(1:length(matrices), function(i) matrices[[i]][, sigs[[i]]])\n",
    "barcodes = lapply(1:length(bcs), function(i) bcs[[i]][sigs[[i]]])\n",
    "\n",
    "#append\n",
    "counts = do.call(cbind, cells)\n",
    "barcodes = do.call(c, barcodes)\n"
   ]
  },
  {
   "cell_type": "code",
   "execution_count": 14,
   "metadata": {},
   "outputs": [
    {
     "data": {
      "text/plain": [
       "NULL"
      ]
     },
     "metadata": {},
     "output_type": "display_data"
    },
    {
     "data": {
      "text/html": [
       "TRUE"
      ],
      "text/latex": [
       "TRUE"
      ],
      "text/markdown": [
       "TRUE"
      ],
      "text/plain": [
       "[1] TRUE"
      ]
     },
     "metadata": {},
     "output_type": "display_data"
    }
   ],
   "source": [
    "#save\n",
    "writeMM(counts, file = \"/rds/project/bg200/rds-bg200-hphi-gottgens/users/mlnt2/PhD_MT06/2_cellcalling/raw_counts.mtx\")\n",
    "write.table(barcodes, file = \"/rds/project/bg200/rds-bg200-hphi-gottgens/users/mlnt2/PhD_MT06/2_cellcalling/barcodes.tsv\", col.names = FALSE, row.names = FALSE, quote = FALSE)\n",
    "file.copy(from = \"/rds/project/bg200/rds-bg200-hphi-gottgens/users/mlnt2/PhD_MT06/swapped/sample1/genes.tsv\",\n",
    "          to = \"/rds/project/bg200/rds-bg200-hphi-gottgens/users/mlnt2/PhD_MT06/2_cellcalling/genes.tsv\",\n",
    "          overwrite = TRUE)"
   ]
  },
  {
   "cell_type": "code",
   "execution_count": 1,
   "metadata": {},
   "outputs": [],
   "source": [
    "# load('/rds/project/bg200/rds-bg200-hphi-gottgens/users/mlnt2/PhD_MT06/2_cellcalling/workspace.RData')"
   ]
  },
  {
   "cell_type": "code",
   "execution_count": 3,
   "metadata": {},
   "outputs": [
    {
     "data": {
      "image/png": "[encoded data removed]",
      "text/plain": [
       "plot without title"
      ]
     },
     "metadata": {
      "image/png": {
       "height": 420,
       "width": 420
      }
     },
     "output_type": "display_data"
    }
   ],
   "source": [
    "qplot(lib.sizes, ngenes, col = ifelse(lib.sizes > 3500 & ngenes > 900, \"keep\", \"drop\")) +\n",
    "  scale_x_log10() +\n",
    "  scale_y_log10() +\n",
    "  labs(x = \"UMI count\", y = \"Number of expressed genes\") +\n",
    "  scale_color_manual(values = c(\"drop\" = \"grey50\", \"keep\" = \"black\"), name = \"\")"
   ]
  },
  {
   "cell_type": "code",
   "execution_count": 4,
   "metadata": {},
   "outputs": [
    {
     "data": {
      "text/plain": [
       "   Min. 1st Qu.  Median    Mean 3rd Qu.    Max. \n",
       "    101     602    1280    4486    6090  121907 "
      ]
     },
     "metadata": {},
     "output_type": "display_data"
    },
    {
     "data": {
      "text/html": [
       "180790"
      ],
      "text/latex": [
       "180790"
      ],
      "text/markdown": [
       "180790"
      ],
      "text/plain": [
       "[1] 180790"
      ]
     },
     "metadata": {},
     "output_type": "display_data"
    },
    {
     "data": {
      "text/html": [
       "180790"
      ],
      "text/latex": [
       "180790"
      ],
      "text/markdown": [
       "180790"
      ],
      "text/plain": [
       "[1] 180790"
      ]
     },
     "metadata": {},
     "output_type": "display_data"
    }
   ],
   "source": [
    "summary(lib.sizes)\n",
    "barcodes_trim = barcodes[lib.sizes > 3500 & ngenes > 900]\n",
    "length(barcodes_trim)\n",
    "counts_trim = counts[,lib.sizes > 3500 & ngenes > 900]\n",
    "ncol(counts_trim)"
   ]
  },
  {
   "cell_type": "markdown",
   "metadata": {},
   "source": [
    "The estimated capture is 180,883 cells according to the calculations made during sample prep."
   ]
  },
  {
   "cell_type": "code",
   "execution_count": 5,
   "metadata": {},
   "outputs": [
    {
     "data": {
      "text/plain": [
       "NULL"
      ]
     },
     "metadata": {},
     "output_type": "display_data"
    }
   ],
   "source": [
    "#save matrix and barcodes of cells that were filtered for minimum reads & genes\n",
    "write.table(barcodes_trim, file = \"/rds/project/bg200/rds-bg200-hphi-gottgens/users/mlnt2/PhD_MT06/2_cellcalling/barcodes_trimmed.tsv\", col.names = FALSE, row.names = FALSE, quote = FALSE)\n",
    "writeMM(counts_trim, file = \"/rds/project/bg200/rds-bg200-hphi-gottgens/users/mlnt2/PhD_MT06/2_cellcalling/raw_counts_trimmed.mtx\")"
   ]
  },
  {
   "cell_type": "code",
   "execution_count": null,
   "metadata": {},
   "outputs": [],
   "source": [
    "save.image('/rds/project/bg200/rds-bg200-hphi-gottgens/users/mlnt2/PhD_MT06/2_cellcalling/workspace.RData')"
   ]
  }
 ],
 "metadata": {
  "kernelspec": {
   "display_name": "R",
   "language": "R",
   "name": "ir"
  },
  "language_info": {
   "codemirror_mode": "r",
   "file_extension": ".r",
   "mimetype": "text/x-r-source",
   "name": "R",
   "pygments_lexer": "r",
   "version": "4.0.3"
  }
 },
 "nbformat": 4,
 "nbformat_minor": 4
}
